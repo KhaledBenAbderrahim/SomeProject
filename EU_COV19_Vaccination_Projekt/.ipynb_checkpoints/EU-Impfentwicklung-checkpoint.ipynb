{
 "cells": [
  {
   "cell_type": "code",
   "execution_count": 6,
   "metadata": {},
   "outputs": [
    {
     "name": "stdout",
     "output_type": "stream",
     "text": [
      "Collecting countrygroups\n",
      "  Downloading countrygroups-0.11.0-py2.py3-none-any.whl (8.9 kB)\n",
      "Collecting shortcountrynames\n",
      "  Downloading shortcountrynames-0.9.0-py2.py3-none-any.whl (8.9 kB)\n",
      "Installing collected packages: shortcountrynames, countrygroups\n",
      "Successfully installed countrygroups-0.11.0 shortcountrynames-0.9.0\n"
     ]
    }
   ],
   "source": [
    "#Data Source : https://www.kaggle.com/gpreda/covid-world-vaccination-progress\n",
    "!pip install countrygroups"
   ]
  },
  {
   "cell_type": "markdown",
   "metadata": {},
   "source": [
    "<br><br><center><h1 style=\"font-size:2em;color:#2467C0\">EU Impfung Entwicklung</h1></center>\n",
    "<br>\n",
    "<table>\n",
    "<col width=\"550\">\n",
    "<col width=\"450\">\n",
    "<tr>\n",
    "<td><img src=\"https://www.iamexpat.de/sites/default/files/styles/article--full/public/coronavirus-vaccine_1_0.jpg?itok=WMACIAJs\" align=\"middle\" style=\"width:550px;height:360px;\"/></td>\n",
    "<td>\n",
    "This week, we will be using an open dataset from <a href=\"https://www.kaggle.com\">Kaggle</a>. It is  <a href=\"https://www.kaggle.com/worldbank/world-development-indicators\">The World Development Indicators</a> dataset obtained from the World Bank containing over a thousand annual indicators of economic development from hundreds of countries around the world.\n",
    "<br>\n",
    "<br>\n",
    "This is a slightly modified version of the original dataset from <a href=\"http://data.worldbank.org/data-catalog/world-development-indicators\">The World Bank</a>\n",
    "<br>\n",
    "<br>\n",
    "List of the <a href=\"https://www.kaggle.com/benhamner/d/worldbank/world-development-indicators/indicators-in-data\">available indicators</a> and a <a href=\"https://www.kaggle.com/benhamner/d/worldbank/world-development-indicators/countries-in-the-wdi-data\">list of the available countries</a>.\n",
    "</td>\n",
    "</tr>\n",
    "</table>"
   ]
  },
  {
   "cell_type": "code",
   "execution_count": 385,
   "metadata": {},
   "outputs": [
    {
     "data": {
      "text/html": [
       "<div>\n",
       "<style scoped>\n",
       "    .dataframe tbody tr th:only-of-type {\n",
       "        vertical-align: middle;\n",
       "    }\n",
       "\n",
       "    .dataframe tbody tr th {\n",
       "        vertical-align: top;\n",
       "    }\n",
       "\n",
       "    .dataframe thead th {\n",
       "        text-align: right;\n",
       "    }\n",
       "</style>\n",
       "<table border=\"1\" class=\"dataframe\">\n",
       "  <thead>\n",
       "    <tr style=\"text-align: right;\">\n",
       "      <th></th>\n",
       "      <th>country</th>\n",
       "      <th>iso_code</th>\n",
       "      <th>date</th>\n",
       "      <th>total_vaccinations</th>\n",
       "      <th>people_vaccinated</th>\n",
       "      <th>people_fully_vaccinated</th>\n",
       "      <th>daily_vaccinations_raw</th>\n",
       "      <th>daily_vaccinations</th>\n",
       "      <th>total_vaccinations_per_hundred</th>\n",
       "      <th>people_vaccinated_per_hundred</th>\n",
       "      <th>people_fully_vaccinated_per_hundred</th>\n",
       "      <th>daily_vaccinations_per_million</th>\n",
       "      <th>vaccines</th>\n",
       "      <th>source_name</th>\n",
       "      <th>source_website</th>\n",
       "    </tr>\n",
       "  </thead>\n",
       "  <tbody>\n",
       "    <tr>\n",
       "      <th>0</th>\n",
       "      <td>Albania</td>\n",
       "      <td>ALB</td>\n",
       "      <td>2021-01-10</td>\n",
       "      <td>0.0</td>\n",
       "      <td>0.0</td>\n",
       "      <td>NaN</td>\n",
       "      <td>NaN</td>\n",
       "      <td>NaN</td>\n",
       "      <td>0.00</td>\n",
       "      <td>0.00</td>\n",
       "      <td>NaN</td>\n",
       "      <td>NaN</td>\n",
       "      <td>Pfizer/BioNTech</td>\n",
       "      <td>Ministry of Health</td>\n",
       "      <td>https://shendetesia.gov.al/vaksinimi-anticovid...</td>\n",
       "    </tr>\n",
       "    <tr>\n",
       "      <th>1</th>\n",
       "      <td>Albania</td>\n",
       "      <td>ALB</td>\n",
       "      <td>2021-01-11</td>\n",
       "      <td>NaN</td>\n",
       "      <td>NaN</td>\n",
       "      <td>NaN</td>\n",
       "      <td>NaN</td>\n",
       "      <td>64.0</td>\n",
       "      <td>NaN</td>\n",
       "      <td>NaN</td>\n",
       "      <td>NaN</td>\n",
       "      <td>22.0</td>\n",
       "      <td>Pfizer/BioNTech</td>\n",
       "      <td>Ministry of Health</td>\n",
       "      <td>https://shendetesia.gov.al/vaksinimi-anticovid...</td>\n",
       "    </tr>\n",
       "    <tr>\n",
       "      <th>2</th>\n",
       "      <td>Albania</td>\n",
       "      <td>ALB</td>\n",
       "      <td>2021-01-12</td>\n",
       "      <td>128.0</td>\n",
       "      <td>128.0</td>\n",
       "      <td>NaN</td>\n",
       "      <td>NaN</td>\n",
       "      <td>64.0</td>\n",
       "      <td>0.00</td>\n",
       "      <td>0.00</td>\n",
       "      <td>NaN</td>\n",
       "      <td>22.0</td>\n",
       "      <td>Pfizer/BioNTech</td>\n",
       "      <td>Ministry of Health</td>\n",
       "      <td>https://shendetesia.gov.al/vaksinimi-anticovid...</td>\n",
       "    </tr>\n",
       "    <tr>\n",
       "      <th>3</th>\n",
       "      <td>Albania</td>\n",
       "      <td>ALB</td>\n",
       "      <td>2021-01-13</td>\n",
       "      <td>188.0</td>\n",
       "      <td>188.0</td>\n",
       "      <td>NaN</td>\n",
       "      <td>60.0</td>\n",
       "      <td>63.0</td>\n",
       "      <td>0.01</td>\n",
       "      <td>0.01</td>\n",
       "      <td>NaN</td>\n",
       "      <td>22.0</td>\n",
       "      <td>Pfizer/BioNTech</td>\n",
       "      <td>Ministry of Health</td>\n",
       "      <td>https://shendetesia.gov.al/vaksinimi-anticovid...</td>\n",
       "    </tr>\n",
       "    <tr>\n",
       "      <th>4</th>\n",
       "      <td>Albania</td>\n",
       "      <td>ALB</td>\n",
       "      <td>2021-01-14</td>\n",
       "      <td>266.0</td>\n",
       "      <td>266.0</td>\n",
       "      <td>NaN</td>\n",
       "      <td>78.0</td>\n",
       "      <td>66.0</td>\n",
       "      <td>0.01</td>\n",
       "      <td>0.01</td>\n",
       "      <td>NaN</td>\n",
       "      <td>23.0</td>\n",
       "      <td>Pfizer/BioNTech</td>\n",
       "      <td>Ministry of Health</td>\n",
       "      <td>https://shendetesia.gov.al/vaksinimi-anticovid...</td>\n",
       "    </tr>\n",
       "    <tr>\n",
       "      <th>...</th>\n",
       "      <td>...</td>\n",
       "      <td>...</td>\n",
       "      <td>...</td>\n",
       "      <td>...</td>\n",
       "      <td>...</td>\n",
       "      <td>...</td>\n",
       "      <td>...</td>\n",
       "      <td>...</td>\n",
       "      <td>...</td>\n",
       "      <td>...</td>\n",
       "      <td>...</td>\n",
       "      <td>...</td>\n",
       "      <td>...</td>\n",
       "      <td>...</td>\n",
       "      <td>...</td>\n",
       "    </tr>\n",
       "    <tr>\n",
       "      <th>3307</th>\n",
       "      <td>Wales</td>\n",
       "      <td>NaN</td>\n",
       "      <td>2021-02-11</td>\n",
       "      <td>719954.0</td>\n",
       "      <td>715944.0</td>\n",
       "      <td>4010.0</td>\n",
       "      <td>32062.0</td>\n",
       "      <td>27897.0</td>\n",
       "      <td>22.83</td>\n",
       "      <td>22.71</td>\n",
       "      <td>0.13</td>\n",
       "      <td>8848.0</td>\n",
       "      <td>Oxford/AstraZeneca, Pfizer/BioNTech</td>\n",
       "      <td>Government of the United Kingdom</td>\n",
       "      <td>https://coronavirus.data.gov.uk/details/health...</td>\n",
       "    </tr>\n",
       "    <tr>\n",
       "      <th>3308</th>\n",
       "      <td>Wales</td>\n",
       "      <td>NaN</td>\n",
       "      <td>2021-02-12</td>\n",
       "      <td>753669.0</td>\n",
       "      <td>749445.0</td>\n",
       "      <td>4224.0</td>\n",
       "      <td>33715.0</td>\n",
       "      <td>27743.0</td>\n",
       "      <td>23.90</td>\n",
       "      <td>23.77</td>\n",
       "      <td>0.13</td>\n",
       "      <td>8799.0</td>\n",
       "      <td>Oxford/AstraZeneca, Pfizer/BioNTech</td>\n",
       "      <td>Government of the United Kingdom</td>\n",
       "      <td>https://coronavirus.data.gov.uk/details/health...</td>\n",
       "    </tr>\n",
       "    <tr>\n",
       "      <th>3309</th>\n",
       "      <td>Wales</td>\n",
       "      <td>NaN</td>\n",
       "      <td>2021-02-13</td>\n",
       "      <td>776224.0</td>\n",
       "      <td>771651.0</td>\n",
       "      <td>4573.0</td>\n",
       "      <td>22555.0</td>\n",
       "      <td>26285.0</td>\n",
       "      <td>24.62</td>\n",
       "      <td>24.47</td>\n",
       "      <td>0.15</td>\n",
       "      <td>8337.0</td>\n",
       "      <td>Oxford/AstraZeneca, Pfizer/BioNTech</td>\n",
       "      <td>Government of the United Kingdom</td>\n",
       "      <td>https://coronavirus.data.gov.uk/details/health...</td>\n",
       "    </tr>\n",
       "    <tr>\n",
       "      <th>3310</th>\n",
       "      <td>Wales</td>\n",
       "      <td>NaN</td>\n",
       "      <td>2021-02-14</td>\n",
       "      <td>790211.0</td>\n",
       "      <td>784809.0</td>\n",
       "      <td>5402.0</td>\n",
       "      <td>13987.0</td>\n",
       "      <td>26206.0</td>\n",
       "      <td>25.06</td>\n",
       "      <td>24.89</td>\n",
       "      <td>0.17</td>\n",
       "      <td>8312.0</td>\n",
       "      <td>Oxford/AstraZeneca, Pfizer/BioNTech</td>\n",
       "      <td>Government of the United Kingdom</td>\n",
       "      <td>https://coronavirus.data.gov.uk/details/health...</td>\n",
       "    </tr>\n",
       "    <tr>\n",
       "      <th>3311</th>\n",
       "      <td>Wales</td>\n",
       "      <td>NaN</td>\n",
       "      <td>2021-02-15</td>\n",
       "      <td>803178.0</td>\n",
       "      <td>795927.0</td>\n",
       "      <td>7251.0</td>\n",
       "      <td>12967.0</td>\n",
       "      <td>24418.0</td>\n",
       "      <td>25.47</td>\n",
       "      <td>25.24</td>\n",
       "      <td>0.23</td>\n",
       "      <td>7745.0</td>\n",
       "      <td>Oxford/AstraZeneca, Pfizer/BioNTech</td>\n",
       "      <td>Government of the United Kingdom</td>\n",
       "      <td>https://coronavirus.data.gov.uk/details/health...</td>\n",
       "    </tr>\n",
       "  </tbody>\n",
       "</table>\n",
       "<p>3312 rows × 15 columns</p>\n",
       "</div>"
      ],
      "text/plain": [
       "      country iso_code        date  total_vaccinations  people_vaccinated  \\\n",
       "0     Albania      ALB  2021-01-10                 0.0                0.0   \n",
       "1     Albania      ALB  2021-01-11                 NaN                NaN   \n",
       "2     Albania      ALB  2021-01-12               128.0              128.0   \n",
       "3     Albania      ALB  2021-01-13               188.0              188.0   \n",
       "4     Albania      ALB  2021-01-14               266.0              266.0   \n",
       "...       ...      ...         ...                 ...                ...   \n",
       "3307    Wales      NaN  2021-02-11            719954.0           715944.0   \n",
       "3308    Wales      NaN  2021-02-12            753669.0           749445.0   \n",
       "3309    Wales      NaN  2021-02-13            776224.0           771651.0   \n",
       "3310    Wales      NaN  2021-02-14            790211.0           784809.0   \n",
       "3311    Wales      NaN  2021-02-15            803178.0           795927.0   \n",
       "\n",
       "      people_fully_vaccinated  daily_vaccinations_raw  daily_vaccinations  \\\n",
       "0                         NaN                     NaN                 NaN   \n",
       "1                         NaN                     NaN                64.0   \n",
       "2                         NaN                     NaN                64.0   \n",
       "3                         NaN                    60.0                63.0   \n",
       "4                         NaN                    78.0                66.0   \n",
       "...                       ...                     ...                 ...   \n",
       "3307                   4010.0                 32062.0             27897.0   \n",
       "3308                   4224.0                 33715.0             27743.0   \n",
       "3309                   4573.0                 22555.0             26285.0   \n",
       "3310                   5402.0                 13987.0             26206.0   \n",
       "3311                   7251.0                 12967.0             24418.0   \n",
       "\n",
       "      total_vaccinations_per_hundred  people_vaccinated_per_hundred  \\\n",
       "0                               0.00                           0.00   \n",
       "1                                NaN                            NaN   \n",
       "2                               0.00                           0.00   \n",
       "3                               0.01                           0.01   \n",
       "4                               0.01                           0.01   \n",
       "...                              ...                            ...   \n",
       "3307                           22.83                          22.71   \n",
       "3308                           23.90                          23.77   \n",
       "3309                           24.62                          24.47   \n",
       "3310                           25.06                          24.89   \n",
       "3311                           25.47                          25.24   \n",
       "\n",
       "      people_fully_vaccinated_per_hundred  daily_vaccinations_per_million  \\\n",
       "0                                     NaN                             NaN   \n",
       "1                                     NaN                            22.0   \n",
       "2                                     NaN                            22.0   \n",
       "3                                     NaN                            22.0   \n",
       "4                                     NaN                            23.0   \n",
       "...                                   ...                             ...   \n",
       "3307                                 0.13                          8848.0   \n",
       "3308                                 0.13                          8799.0   \n",
       "3309                                 0.15                          8337.0   \n",
       "3310                                 0.17                          8312.0   \n",
       "3311                                 0.23                          7745.0   \n",
       "\n",
       "                                 vaccines                       source_name  \\\n",
       "0                         Pfizer/BioNTech                Ministry of Health   \n",
       "1                         Pfizer/BioNTech                Ministry of Health   \n",
       "2                         Pfizer/BioNTech                Ministry of Health   \n",
       "3                         Pfizer/BioNTech                Ministry of Health   \n",
       "4                         Pfizer/BioNTech                Ministry of Health   \n",
       "...                                   ...                               ...   \n",
       "3307  Oxford/AstraZeneca, Pfizer/BioNTech  Government of the United Kingdom   \n",
       "3308  Oxford/AstraZeneca, Pfizer/BioNTech  Government of the United Kingdom   \n",
       "3309  Oxford/AstraZeneca, Pfizer/BioNTech  Government of the United Kingdom   \n",
       "3310  Oxford/AstraZeneca, Pfizer/BioNTech  Government of the United Kingdom   \n",
       "3311  Oxford/AstraZeneca, Pfizer/BioNTech  Government of the United Kingdom   \n",
       "\n",
       "                                         source_website  \n",
       "0     https://shendetesia.gov.al/vaksinimi-anticovid...  \n",
       "1     https://shendetesia.gov.al/vaksinimi-anticovid...  \n",
       "2     https://shendetesia.gov.al/vaksinimi-anticovid...  \n",
       "3     https://shendetesia.gov.al/vaksinimi-anticovid...  \n",
       "4     https://shendetesia.gov.al/vaksinimi-anticovid...  \n",
       "...                                                 ...  \n",
       "3307  https://coronavirus.data.gov.uk/details/health...  \n",
       "3308  https://coronavirus.data.gov.uk/details/health...  \n",
       "3309  https://coronavirus.data.gov.uk/details/health...  \n",
       "3310  https://coronavirus.data.gov.uk/details/health...  \n",
       "3311  https://coronavirus.data.gov.uk/details/health...  \n",
       "\n",
       "[3312 rows x 15 columns]"
      ]
     },
     "execution_count": 385,
     "metadata": {},
     "output_type": "execute_result"
    }
   ],
   "source": [
    "import numpy as np\n",
    "import pandas as pd\n",
    "import matplotlib.pyplot as plt\n",
    "import seaborn as sns\n",
    "\n",
    "url = 'C:/Users/Akademie/Desktop/data_externe/country_vaccination DataSet/country_vaccinations.csv'\n",
    "data = pd.read_csv(url)\n",
    "data\n",
    "\n"
   ]
  },
  {
   "cell_type": "markdown",
   "metadata": {},
   "source": [
    "## Daten analysieren"
   ]
  },
  {
   "cell_type": "code",
   "execution_count": 386,
   "metadata": {},
   "outputs": [
    {
     "data": {
      "text/plain": [
       "(3312, 15)"
      ]
     },
     "execution_count": 386,
     "metadata": {},
     "output_type": "execute_result"
    }
   ],
   "source": [
    "df = data.copy()\n",
    "df.shape"
   ]
  },
  {
   "cell_type": "code",
   "execution_count": 387,
   "metadata": {},
   "outputs": [
    {
     "data": {
      "text/plain": [
       "<matplotlib.axes._subplots.AxesSubplot at 0x13d5e783f08>"
      ]
     },
     "execution_count": 387,
     "metadata": {},
     "output_type": "execute_result"
    },
    {
     "data": {
      "image/png": "[encoded data removed]",
      "text/plain": [
       "<Figure size 432x288 with 1 Axes>"
      ]
     },
     "metadata": {},
     "output_type": "display_data"
    }
   ],
   "source": [
    "# Type der Daten\n",
    "df.dtypes.value_counts().plot.pie()"
   ]
  },
  {
   "cell_type": "code",
   "execution_count": 388,
   "metadata": {},
   "outputs": [
    {
     "data": {
      "text/plain": [
       "<matplotlib.axes._subplots.AxesSubplot at 0x13d5e79b688>"
      ]
     },
     "execution_count": 388,
     "metadata": {},
     "output_type": "execute_result"
    },
    {
     "data": {
      "image/png": "[encoded data removed]",
      "text/plain": [
       "<Figure size 1440x720 with 1 Axes>"
      ]
     },
     "metadata": {
      "needs_background": "light"
     },
     "output_type": "display_data"
    }
   ],
   "source": [
    "# die null stellen in der df anschauen\n",
    "plt.figure(figsize=(20,10))\n",
    "sns.heatmap(df.isna(), cbar = False)"
   ]
  },
  {
   "cell_type": "code",
   "execution_count": null,
   "metadata": {},
   "outputs": [],
   "source": [
    "#------> to do fehlende iso code schreiben "
   ]
  },
  {
   "cell_type": "code",
   "execution_count": 389,
   "metadata": {},
   "outputs": [
    {
     "data": {
      "text/plain": [
       "country                                0.000000\n",
       "date                                   0.000000\n",
       "vaccines                               0.000000\n",
       "source_name                            0.000000\n",
       "source_website                         0.000000\n",
       "daily_vaccinations                     0.038043\n",
       "daily_vaccinations_per_million         0.038043\n",
       "iso_code                               0.078502\n",
       "total_vaccinations                     0.352355\n",
       "total_vaccinations_per_hundred         0.352355\n",
       "daily_vaccinations_raw                 0.461353\n",
       "people_vaccinated                      0.464372\n",
       "people_vaccinated_per_hundred          0.464372\n",
       "people_fully_vaccinated                0.656703\n",
       "people_fully_vaccinated_per_hundred    0.656703\n",
       "dtype: float64"
      ]
     },
     "execution_count": 389,
     "metadata": {},
     "output_type": "execute_result"
    }
   ],
   "source": [
    "# Die Null Stellen Procentual Rechnen\n",
    "(df.isna().sum()/df.shape[0]).sort_values(ascending=True)\n"
   ]
  },
  {
   "cell_type": "code",
   "execution_count": 390,
   "metadata": {},
   "outputs": [
    {
     "data": {
      "text/plain": [
       "array(['Albania', 'Algeria', 'Andorra', 'Anguilla', 'Argentina',\n",
       "       'Austria', 'Azerbaijan', 'Bahrain', 'Bangladesh', 'Belgium',\n",
       "       'Bermuda', 'Bolivia', 'Brazil', 'Bulgaria', 'Cambodia', 'Canada',\n",
       "       'Cayman Islands', 'Chile', 'China', 'Costa Rica', 'Croatia',\n",
       "       'Cyprus', 'Czechia', 'Denmark', 'Ecuador', 'Egypt', 'England',\n",
       "       'Estonia', 'Faeroe Islands', 'Finland', 'France', 'Germany',\n",
       "       'Gibraltar', 'Greece', 'Greenland', 'Guernsey', 'Guyana',\n",
       "       'Hungary', 'Iceland', 'India', 'Indonesia', 'Iran', 'Ireland',\n",
       "       'Isle of Man', 'Israel', 'Italy', 'Jersey', 'Kuwait', 'Latvia',\n",
       "       'Liechtenstein', 'Lithuania', 'Luxembourg', 'Maldives', 'Malta',\n",
       "       'Mauritius', 'Mexico', 'Monaco', 'Morocco', 'Myanmar', 'Nepal',\n",
       "       'Netherlands', 'Northern Cyprus', 'Northern Ireland', 'Norway',\n",
       "       'Oman', 'Pakistan', 'Panama', 'Peru', 'Poland', 'Portugal',\n",
       "       'Qatar', 'Romania', 'Russia', 'Saint Helena', 'Saudi Arabia',\n",
       "       'Scotland', 'Serbia', 'Seychelles', 'Singapore', 'Slovakia',\n",
       "       'Slovenia', 'Spain', 'Sri Lanka', 'Sweden', 'Switzerland',\n",
       "       'Turkey', 'Turks and Caicos Islands', 'United Arab Emirates',\n",
       "       'United Kingdom', 'United States', 'Wales'], dtype=object)"
      ]
     },
     "execution_count": 390,
     "metadata": {},
     "output_type": "execute_result"
    }
   ],
   "source": [
    "df['country'].unique()"
   ]
  },
  {
   "cell_type": "code",
   "execution_count": 391,
   "metadata": {},
   "outputs": [],
   "source": [
    "# Ein Summary Df Erstellen\n"
   ]
  },
  {
   "cell_type": "code",
   "execution_count": 457,
   "metadata": {},
   "outputs": [
    {
     "data": {
      "text/plain": [
       "array(['Covaxin', 'Moderna', 'Oxford/AstraZeneca', 'Pfizer/BioNTech',\n",
       "       'Sinopharm/Beijing', 'Sinopharm/Wuhan', 'Sinovac', 'Sputnik V'],\n",
       "      dtype='<U19')"
      ]
     },
     "execution_count": 457,
     "metadata": {},
     "output_type": "execute_result"
    }
   ],
   "source": [
    "# die Vaccin Liste Erstelle von der DataFrame Erstellen\n",
    "pre_vaccin_df = df['vaccines'].str.split(',', expand = True)\n",
    "#np.unique(np.pre_vaccin_df.values.ravel())\n",
    "vaccin_List = filter(None,pre_vaccin_df.values.ravel())\n",
    "vaccin_List = np.unique(np.char.strip([ x for x in pre_vaccin_df.values.ravel() if  x is not None ]).reshape(-1,))\n",
    "len(vaccin_List)\n",
    "\n",
    "\n",
    "#for i in vaccin_List:\n",
    "    #print(i)\n",
    "\n",
    "vaccin_List\n",
    "\n",
    "\n"
   ]
  },
  {
   "cell_type": "code",
   "execution_count": 458,
   "metadata": {},
   "outputs": [
    {
     "data": {
      "text/plain": [
       "array(['Austria', 'Belgium', 'Bulgaria', 'Canada', 'Czechia', 'Denmark',\n",
       "       'Estonia', 'Finland', 'France', 'Germany', 'Greece', 'Iceland',\n",
       "       'Ireland', 'Israel', 'Italy', 'Latvia', 'Liechtenstein',\n",
       "       'Lithuania', 'Luxembourg', 'Netherlands', 'Norway', 'Poland',\n",
       "       'Portugal', 'Romania', 'Spain', 'Switzerland', 'United States'],\n",
       "      dtype=object)"
      ]
     },
     "execution_count": 458,
     "metadata": {},
     "output_type": "execute_result"
    }
   ],
   "source": [
    "#List der Länder die Oxford/AstraZeneca Benutzt haben\n",
    "np.array(df[['country']][df['vaccines'].str.contains(vaccin_List[1])]['country'].unique())"
   ]
  },
  {
   "cell_type": "code",
   "execution_count": 459,
   "metadata": {},
   "outputs": [
    {
     "data": {
      "text/html": [
       "<div>\n",
       "<style scoped>\n",
       "    .dataframe tbody tr th:only-of-type {\n",
       "        vertical-align: middle;\n",
       "    }\n",
       "\n",
       "    .dataframe tbody tr th {\n",
       "        vertical-align: top;\n",
       "    }\n",
       "\n",
       "    .dataframe thead th {\n",
       "        text-align: right;\n",
       "    }\n",
       "</style>\n",
       "<table border=\"1\" class=\"dataframe\">\n",
       "  <thead>\n",
       "    <tr style=\"text-align: right;\">\n",
       "      <th></th>\n",
       "      <th>Vaccin</th>\n",
       "      <th>countries</th>\n",
       "      <th>total_country</th>\n",
       "    </tr>\n",
       "  </thead>\n",
       "  <tbody>\n",
       "    <tr>\n",
       "      <th>3</th>\n",
       "      <td>Pfizer/BioNTech</td>\n",
       "      <td>[Albania, Andorra, Austria, Bahrain, Belgium, ...</td>\n",
       "      <td>65</td>\n",
       "    </tr>\n",
       "    <tr>\n",
       "      <th>2</th>\n",
       "      <td>Oxford/AstraZeneca</td>\n",
       "      <td>[Anguilla, Austria, Azerbaijan, Bangladesh, Be...</td>\n",
       "      <td>46</td>\n",
       "    </tr>\n",
       "    <tr>\n",
       "      <th>1</th>\n",
       "      <td>Moderna</td>\n",
       "      <td>[Austria, Belgium, Bulgaria, Canada, Czechia, ...</td>\n",
       "      <td>27</td>\n",
       "    </tr>\n",
       "    <tr>\n",
       "      <th>4</th>\n",
       "      <td>Sinopharm/Beijing</td>\n",
       "      <td>[Bahrain, Cambodia, China, Egypt, Morocco, Pak...</td>\n",
       "      <td>10</td>\n",
       "    </tr>\n",
       "    <tr>\n",
       "      <th>7</th>\n",
       "      <td>Sputnik V</td>\n",
       "      <td>[Algeria, Argentina, Azerbaijan, Bolivia, Iran...</td>\n",
       "      <td>9</td>\n",
       "    </tr>\n",
       "    <tr>\n",
       "      <th>6</th>\n",
       "      <td>Sinovac</td>\n",
       "      <td>[Brazil, Chile, China, Indonesia, Northern Cyp...</td>\n",
       "      <td>6</td>\n",
       "    </tr>\n",
       "    <tr>\n",
       "      <th>5</th>\n",
       "      <td>Sinopharm/Wuhan</td>\n",
       "      <td>[China, United Arab Emirates]</td>\n",
       "      <td>2</td>\n",
       "    </tr>\n",
       "    <tr>\n",
       "      <th>0</th>\n",
       "      <td>Covaxin</td>\n",
       "      <td>[India]</td>\n",
       "      <td>1</td>\n",
       "    </tr>\n",
       "  </tbody>\n",
       "</table>\n",
       "</div>"
      ],
      "text/plain": [
       "               Vaccin                                          countries  \\\n",
       "3     Pfizer/BioNTech  [Albania, Andorra, Austria, Bahrain, Belgium, ...   \n",
       "2  Oxford/AstraZeneca  [Anguilla, Austria, Azerbaijan, Bangladesh, Be...   \n",
       "1             Moderna  [Austria, Belgium, Bulgaria, Canada, Czechia, ...   \n",
       "4   Sinopharm/Beijing  [Bahrain, Cambodia, China, Egypt, Morocco, Pak...   \n",
       "7           Sputnik V  [Algeria, Argentina, Azerbaijan, Bolivia, Iran...   \n",
       "6             Sinovac  [Brazil, Chile, China, Indonesia, Northern Cyp...   \n",
       "5     Sinopharm/Wuhan                      [China, United Arab Emirates]   \n",
       "0             Covaxin                                            [India]   \n",
       "\n",
       "   total_country  \n",
       "3             65  \n",
       "2             46  \n",
       "1             27  \n",
       "4             10  \n",
       "7              9  \n",
       "6              6  \n",
       "5              2  \n",
       "0              1  "
      ]
     },
     "execution_count": 459,
     "metadata": {},
     "output_type": "execute_result"
    }
   ],
   "source": [
    "country_vaccin = [df[['country']][df['vaccines'].str.contains(i)]['country'].unique() for i in vaccin_List]\n",
    "#print(len(country_vaccin),len(vaccin_List))\n",
    "lst = [vaccin_List,country_vaccin]\n",
    "dfv = pd.DataFrame(lst).transpose().rename(columns={0: 'Vaccin' , 1:'countries'})\n",
    "#dfv['total_coutries'] = \n",
    "dfv['total_country'] = dfv['countries'].str.len()\n",
    "dfv.sort_values(by=['total_country'], inplace=True, ascending=False)\n",
    "dfv\n",
    "\n",
    "\n"
   ]
  },
  {
   "cell_type": "code",
   "execution_count": 460,
   "metadata": {},
   "outputs": [
    {
     "data": {
      "application/vnd.plotly.v1+json": {
       "config": {
        "plotlyServerURL": "https://plot.ly"
       },
       "data": [
        {
         "cells": {
          "align": [
           "left",
           "center"
          ],
          "fill": {
           "color": [
            "paleturquoise",
            "white"
           ]
          },
          "font": {
           "size": 12
          },
          "height": 30,
          "line": {
           "color": "darkslategray"
          },
          "values": [
           [
            "Covaxin",
            "Moderna",
            "Oxford/AstraZeneca",
            "Pfizer/BioNTech",
            "Sinopharm/Beijing",
            "Sinopharm/Wuhan",
            "Sinovac",
            "Sputnik V"
           ],
           [
            [
             "India"
            ],
            [
             "Austria",
             "Belgium",
             "Bulgaria",
             "Canada",
             "Czechia",
             "Denmark",
             "Estonia",
             "Finland",
             "France",
             "Germany",
             "Greece",
             "Iceland",
             "Ireland",
             "Israel",
             "Italy",
             "Latvia",
             "Liechtenstein",
             "Lithuania",
             "Luxembourg",
             "Netherlands",
             "Norway",
             "Poland",
             "Portugal",
             "Romania",
             "Spain",
             "Switzerland",
             "United States"
            ],
            [
             "Anguilla",
             "Austria",
             "Azerbaijan",
             "Bangladesh",
             "Belgium",
             "Brazil",
             "Bulgaria",
             "Czechia",
             "England",
             "Estonia",
             "Finland",
             "France",
             "Germany",
             "Greece",
             "Guyana",
             "Iceland",
             "India",
             "Ireland",
             "Isle of Man",
             "Italy",
             "Jersey",
             "Latvia",
             "Lithuania",
             "Luxembourg",
             "Maldives",
             "Mauritius",
             "Morocco",
             "Myanmar",
             "Nepal",
             "Netherlands",
             "Northern Ireland",
             "Norway",
             "Oman",
             "Pakistan",
             "Poland",
             "Romania",
             "Saint Helena",
             "Scotland",
             "Seychelles",
             "Slovenia",
             "Spain",
             "Sri Lanka",
             "Sweden",
             "United Arab Emirates",
             "United Kingdom",
             "Wales"
            ],
            [
             "Albania",
             "Andorra",
             "Austria",
             "Bahrain",
             "Belgium",
             "Bermuda",
             "Bulgaria",
             "Canada",
             "Cayman Islands",
             "Chile",
             "Costa Rica",
             "Croatia",
             "Cyprus",
             "Czechia",
             "Denmark",
             "Ecuador",
             "England",
             "Estonia",
             "Faeroe Islands",
             "Finland",
             "France",
             "Germany",
             "Gibraltar",
             "Greece",
             "Greenland",
             "Guernsey",
             "Hungary",
             "Iceland",
             "Ireland",
             "Isle of Man",
             "Israel",
             "Italy",
             "Jersey",
             "Kuwait",
             "Latvia",
             "Liechtenstein",
             "Lithuania",
             "Luxembourg",
             "Malta",
             "Mexico",
             "Monaco",
             "Netherlands",
             "Northern Cyprus",
             "Northern Ireland",
             "Norway",
             "Oman",
             "Panama",
             "Poland",
             "Portugal",
             "Qatar",
             "Romania",
             "Saudi Arabia",
             "Scotland",
             "Serbia",
             "Singapore",
             "Slovakia",
             "Slovenia",
             "Spain",
             "Sweden",
             "Switzerland",
             "Turks and Caicos Islands",
             "United Arab Emirates",
             "United Kingdom",
             "United States",
             "Wales"
            ],
            [
             "Bahrain",
             "Cambodia",
             "China",
             "Egypt",
             "Morocco",
             "Pakistan",
             "Peru",
             "Serbia",
             "Seychelles",
             "United Arab Emirates"
            ],
            [
             "China",
             "United Arab Emirates"
            ],
            [
             "Brazil",
             "Chile",
             "China",
             "Indonesia",
             "Northern Cyprus",
             "Turkey"
            ],
            [
             "Algeria",
             "Argentina",
             "Azerbaijan",
             "Bolivia",
             "Iran",
             "Pakistan",
             "Russia",
             "Serbia",
             "United Arab Emirates"
            ]
           ],
           [
            65,
            46,
            27,
            10,
            9,
            6,
            2,
            1
           ]
          ]
         },
         "columnorder": [
          1,
          2,
          3
         ],
         "columnwidth": [
          200,
          400
         ],
         "header": {
          "align": [
           "left",
           "center"
          ],
          "fill": {
           "color": "royalblue"
          },
          "font": {
           "color": "white",
           "size": 15
          },
          "height": 40,
          "line": {
           "color": "darkslategray"
          },
          "values": [
           [
            "<b>Impfung</b><br>"
           ],
           [
            "<b>Länder</b>"
           ],
           [
            "<b>Anzahl der Länder</b>"
           ]
          ]
         },
         "type": "table"
        }
       ],
       "layout": {
        "template": {
         "data": {
          "bar": [
           {
            "error_x": {
             "color": "#2a3f5f"
            },
            "error_y": {
             "color": "#2a3f5f"
            },
            "marker": {
             "line": {
              "color": "#E5ECF6",
              "width": 0.5
             }
            },
            "type": "bar"
           }
          ],
          "barpolar": [
           {
            "marker": {
             "line": {
              "color": "#E5ECF6",
              "width": 0.5
             }
            },
            "type": "barpolar"
           }
          ],
          "carpet": [
           {
            "aaxis": {
             "endlinecolor": "#2a3f5f",
             "gridcolor": "white",
             "linecolor": "white",
             "minorgridcolor": "white",
             "startlinecolor": "#2a3f5f"
            },
            "baxis": {
             "endlinecolor": "#2a3f5f",
             "gridcolor": "white",
             "linecolor": "white",
             "minorgridcolor": "white",
             "startlinecolor": "#2a3f5f"
            },
            "type": "carpet"
           }
          ],
          "choropleth": [
           {
            "colorbar": {
             "outlinewidth": 0,
             "ticks": ""
            },
            "type": "choropleth"
           }
          ],
          "contour": [
           {
            "colorbar": {
             "outlinewidth": 0,
             "ticks": ""
            },
            "colorscale": [
             [
              0,
              "#0d0887"
             ],
             [
              0.1111111111111111,
              "#46039f"
             ],
             [
              0.2222222222222222,
              "#7201a8"
             ],
             [
              0.3333333333333333,
              "#9c179e"
             ],
             [
              0.4444444444444444,
              "#bd3786"
             ],
             [
              0.5555555555555556,
              "#d8576b"
             ],
             [
              0.6666666666666666,
              "#ed7953"
             ],
             [
              0.7777777777777778,
              "#fb9f3a"
             ],
             [
              0.8888888888888888,
              "#fdca26"
             ],
             [
              1,
              "#f0f921"
             ]
            ],
            "type": "contour"
           }
          ],
          "contourcarpet": [
           {
            "colorbar": {
             "outlinewidth": 0,
             "ticks": ""
            },
            "type": "contourcarpet"
           }
          ],
          "heatmap": [
           {
            "colorbar": {
             "outlinewidth": 0,
             "ticks": ""
            },
            "colorscale": [
             [
              0,
              "#0d0887"
             ],
             [
              0.1111111111111111,
              "#46039f"
             ],
             [
              0.2222222222222222,
              "#7201a8"
             ],
             [
              0.3333333333333333,
              "#9c179e"
             ],
             [
              0.4444444444444444,
              "#bd3786"
             ],
             [
              0.5555555555555556,
              "#d8576b"
             ],
             [
              0.6666666666666666,
              "#ed7953"
             ],
             [
              0.7777777777777778,
              "#fb9f3a"
             ],
             [
              0.8888888888888888,
              "#fdca26"
             ],
             [
              1,
              "#f0f921"
             ]
            ],
            "type": "heatmap"
           }
          ],
          "heatmapgl": [
           {
            "colorbar": {
             "outlinewidth": 0,
             "ticks": ""
            },
            "colorscale": [
             [
              0,
              "#0d0887"
             ],
             [
              0.1111111111111111,
              "#46039f"
             ],
             [
              0.2222222222222222,
              "#7201a8"
             ],
             [
              0.3333333333333333,
              "#9c179e"
             ],
             [
              0.4444444444444444,
              "#bd3786"
             ],
             [
              0.5555555555555556,
              "#d8576b"
             ],
             [
              0.6666666666666666,
              "#ed7953"
             ],
             [
              0.7777777777777778,
              "#fb9f3a"
             ],
             [
              0.8888888888888888,
              "#fdca26"
             ],
             [
              1,
              "#f0f921"
             ]
            ],
            "type": "heatmapgl"
           }
          ],
          "histogram": [
           {
            "marker": {
             "colorbar": {
              "outlinewidth": 0,
              "ticks": ""
             }
            },
            "type": "histogram"
           }
          ],
          "histogram2d": [
           {
            "colorbar": {
             "outlinewidth": 0,
             "ticks": ""
            },
            "colorscale": [
             [
              0,
              "#0d0887"
             ],
             [
              0.1111111111111111,
              "#46039f"
             ],
             [
              0.2222222222222222,
              "#7201a8"
             ],
             [
              0.3333333333333333,
              "#9c179e"
             ],
             [
              0.4444444444444444,
              "#bd3786"
             ],
             [
              0.5555555555555556,
              "#d8576b"
             ],
             [
              0.6666666666666666,
              "#ed7953"
             ],
             [
              0.7777777777777778,
              "#fb9f3a"
             ],
             [
              0.8888888888888888,
              "#fdca26"
             ],
             [
              1,
              "#f0f921"
             ]
            ],
            "type": "histogram2d"
           }
          ],
          "histogram2dcontour": [
           {
            "colorbar": {
             "outlinewidth": 0,
             "ticks": ""
            },
            "colorscale": [
             [
              0,
              "#0d0887"
             ],
             [
              0.1111111111111111,
              "#46039f"
             ],
             [
              0.2222222222222222,
              "#7201a8"
             ],
             [
              0.3333333333333333,
              "#9c179e"
             ],
             [
              0.4444444444444444,
              "#bd3786"
             ],
             [
              0.5555555555555556,
              "#d8576b"
             ],
             [
              0.6666666666666666,
              "#ed7953"
             ],
             [
              0.7777777777777778,
              "#fb9f3a"
             ],
             [
              0.8888888888888888,
              "#fdca26"
             ],
             [
              1,
              "#f0f921"
             ]
            ],
            "type": "histogram2dcontour"
           }
          ],
          "mesh3d": [
           {
            "colorbar": {
             "outlinewidth": 0,
             "ticks": ""
            },
            "type": "mesh3d"
           }
          ],
          "parcoords": [
           {
            "line": {
             "colorbar": {
              "outlinewidth": 0,
              "ticks": ""
             }
            },
            "type": "parcoords"
           }
          ],
          "pie": [
           {
            "automargin": true,
            "type": "pie"
           }
          ],
          "scatter": [
           {
            "marker": {
             "colorbar": {
              "outlinewidth": 0,
              "ticks": ""
             }
            },
            "type": "scatter"
           }
          ],
          "scatter3d": [
           {
            "line": {
             "colorbar": {
              "outlinewidth": 0,
              "ticks": ""
             }
            },
            "marker": {
             "colorbar": {
              "outlinewidth": 0,
              "ticks": ""
             }
            },
            "type": "scatter3d"
           }
          ],
          "scattercarpet": [
           {
            "marker": {
             "colorbar": {
              "outlinewidth": 0,
              "ticks": ""
             }
            },
            "type": "scattercarpet"
           }
          ],
          "scattergeo": [
           {
            "marker": {
             "colorbar": {
              "outlinewidth": 0,
              "ticks": ""
             }
            },
            "type": "scattergeo"
           }
          ],
          "scattergl": [
           {
            "marker": {
             "colorbar": {
              "outlinewidth": 0,
              "ticks": ""
             }
            },
            "type": "scattergl"
           }
          ],
          "scattermapbox": [
           {
            "marker": {
             "colorbar": {
              "outlinewidth": 0,
              "ticks": ""
             }
            },
            "type": "scattermapbox"
           }
          ],
          "scatterpolar": [
           {
            "marker": {
             "colorbar": {
              "outlinewidth": 0,
              "ticks": ""
             }
            },
            "type": "scatterpolar"
           }
          ],
          "scatterpolargl": [
           {
            "marker": {
             "colorbar": {
              "outlinewidth": 0,
              "ticks": ""
             }
            },
            "type": "scatterpolargl"
           }
          ],
          "scatterternary": [
           {
            "marker": {
             "colorbar": {
              "outlinewidth": 0,
              "ticks": ""
             }
            },
            "type": "scatterternary"
           }
          ],
          "surface": [
           {
            "colorbar": {
             "outlinewidth": 0,
             "ticks": ""
            },
            "colorscale": [
             [
              0,
              "#0d0887"
             ],
             [
              0.1111111111111111,
              "#46039f"
             ],
             [
              0.2222222222222222,
              "#7201a8"
             ],
             [
              0.3333333333333333,
              "#9c179e"
             ],
             [
              0.4444444444444444,
              "#bd3786"
             ],
             [
              0.5555555555555556,
              "#d8576b"
             ],
             [
              0.6666666666666666,
              "#ed7953"
             ],
             [
              0.7777777777777778,
              "#fb9f3a"
             ],
             [
              0.8888888888888888,
              "#fdca26"
             ],
             [
              1,
              "#f0f921"
             ]
            ],
            "type": "surface"
           }
          ],
          "table": [
           {
            "cells": {
             "fill": {
              "color": "#EBF0F8"
             },
             "line": {
              "color": "white"
             }
            },
            "header": {
             "fill": {
              "color": "#C8D4E3"
             },
             "line": {
              "color": "white"
             }
            },
            "type": "table"
           }
          ]
         },
         "layout": {
          "annotationdefaults": {
           "arrowcolor": "#2a3f5f",
           "arrowhead": 0,
           "arrowwidth": 1
          },
          "autotypenumbers": "strict",
          "coloraxis": {
           "colorbar": {
            "outlinewidth": 0,
            "ticks": ""
           }
          },
          "colorscale": {
           "diverging": [
            [
             0,
             "#8e0152"
            ],
            [
             0.1,
             "#c51b7d"
            ],
            [
             0.2,
             "#de77ae"
            ],
            [
             0.3,
             "#f1b6da"
            ],
            [
             0.4,
             "#fde0ef"
            ],
            [
             0.5,
             "#f7f7f7"
            ],
            [
             0.6,
             "#e6f5d0"
            ],
            [
             0.7,
             "#b8e186"
            ],
            [
             0.8,
             "#7fbc41"
            ],
            [
             0.9,
             "#4d9221"
            ],
            [
             1,
             "#276419"
            ]
           ],
           "sequential": [
            [
             0,
             "#0d0887"
            ],
            [
             0.1111111111111111,
             "#46039f"
            ],
            [
             0.2222222222222222,
             "#7201a8"
            ],
            [
             0.3333333333333333,
             "#9c179e"
            ],
            [
             0.4444444444444444,
             "#bd3786"
            ],
            [
             0.5555555555555556,
             "#d8576b"
            ],
            [
             0.6666666666666666,
             "#ed7953"
            ],
            [
             0.7777777777777778,
             "#fb9f3a"
            ],
            [
             0.8888888888888888,
             "#fdca26"
            ],
            [
             1,
             "#f0f921"
            ]
           ],
           "sequentialminus": [
            [
             0,
             "#0d0887"
            ],
            [
             0.1111111111111111,
             "#46039f"
            ],
            [
             0.2222222222222222,
             "#7201a8"
            ],
            [
             0.3333333333333333,
             "#9c179e"
            ],
            [
             0.4444444444444444,
             "#bd3786"
            ],
            [
             0.5555555555555556,
             "#d8576b"
            ],
            [
             0.6666666666666666,
             "#ed7953"
            ],
            [
             0.7777777777777778,
             "#fb9f3a"
            ],
            [
             0.8888888888888888,
             "#fdca26"
            ],
            [
             1,
             "#f0f921"
            ]
           ]
          },
          "colorway": [
           "#636efa",
           "#EF553B",
           "#00cc96",
           "#ab63fa",
           "#FFA15A",
           "#19d3f3",
           "#FF6692",
           "#B6E880",
           "#FF97FF",
           "#FECB52"
          ],
          "font": {
           "color": "#2a3f5f"
          },
          "geo": {
           "bgcolor": "white",
           "lakecolor": "white",
           "landcolor": "#E5ECF6",
           "showlakes": true,
           "showland": true,
           "subunitcolor": "white"
          },
          "hoverlabel": {
           "align": "left"
          },
          "hovermode": "closest",
          "mapbox": {
           "style": "light"
          },
          "paper_bgcolor": "white",
          "plot_bgcolor": "#E5ECF6",
          "polar": {
           "angularaxis": {
            "gridcolor": "white",
            "linecolor": "white",
            "ticks": ""
           },
           "bgcolor": "#E5ECF6",
           "radialaxis": {
            "gridcolor": "white",
            "linecolor": "white",
            "ticks": ""
           }
          },
          "scene": {
           "xaxis": {
            "backgroundcolor": "#E5ECF6",
            "gridcolor": "white",
            "gridwidth": 2,
            "linecolor": "white",
            "showbackground": true,
            "ticks": "",
            "zerolinecolor": "white"
           },
           "yaxis": {
            "backgroundcolor": "#E5ECF6",
            "gridcolor": "white",
            "gridwidth": 2,
            "linecolor": "white",
            "showbackground": true,
            "ticks": "",
            "zerolinecolor": "white"
           },
           "zaxis": {
            "backgroundcolor": "#E5ECF6",
            "gridcolor": "white",
            "gridwidth": 2,
            "linecolor": "white",
            "showbackground": true,
            "ticks": "",
            "zerolinecolor": "white"
           }
          },
          "shapedefaults": {
           "line": {
            "color": "#2a3f5f"
           }
          },
          "ternary": {
           "aaxis": {
            "gridcolor": "white",
            "linecolor": "white",
            "ticks": ""
           },
           "baxis": {
            "gridcolor": "white",
            "linecolor": "white",
            "ticks": ""
           },
           "bgcolor": "#E5ECF6",
           "caxis": {
            "gridcolor": "white",
            "linecolor": "white",
            "ticks": ""
           }
          },
          "title": {
           "x": 0.05
          },
          "xaxis": {
           "automargin": true,
           "gridcolor": "white",
           "linecolor": "white",
           "ticks": "",
           "title": {
            "standoff": 15
           },
           "zerolinecolor": "white",
           "zerolinewidth": 2
          },
          "yaxis": {
           "automargin": true,
           "gridcolor": "white",
           "linecolor": "white",
           "ticks": "",
           "title": {
            "standoff": 15
           },
           "zerolinecolor": "white",
           "zerolinewidth": 2
          }
         }
        }
       }
      },
      "text/html": [
       "<div>                            <div id=\"909fd186-ab1d-4a4b-acee-60c61d54c099\" class=\"plotly-graph-div\" style=\"height:525px; width:100%;\"></div>            <script type=\"text/javascript\">                require([\"plotly\"], function(Plotly) {                    window.PLOTLYENV=window.PLOTLYENV || {};                                    if (document.getElementById(\"909fd186-ab1d-4a4b-acee-60c61d54c099\")) {                    Plotly.newPlot(                        \"909fd186-ab1d-4a4b-acee-60c61d54c099\",                        [{\"cells\": {\"align\": [\"left\", \"center\"], \"fill\": {\"color\": [\"paleturquoise\", \"white\"]}, \"font\": {\"size\": 12}, \"height\": 30, \"line\": {\"color\": \"darkslategray\"}, \"values\": [[\"Covaxin\", \"Moderna\", \"Oxford/AstraZeneca\", \"Pfizer/BioNTech\", \"Sinopharm/Beijing\", \"Sinopharm/Wuhan\", \"Sinovac\", \"Sputnik V\"], [[\"India\"], [\"Austria\", \"Belgium\", \"Bulgaria\", \"Canada\", \"Czechia\", \"Denmark\", \"Estonia\", \"Finland\", \"France\", \"Germany\", \"Greece\", \"Iceland\", \"Ireland\", \"Israel\", \"Italy\", \"Latvia\", \"Liechtenstein\", \"Lithuania\", \"Luxembourg\", \"Netherlands\", \"Norway\", \"Poland\", \"Portugal\", \"Romania\", \"Spain\", \"Switzerland\", \"United States\"], [\"Anguilla\", \"Austria\", \"Azerbaijan\", \"Bangladesh\", \"Belgium\", \"Brazil\", \"Bulgaria\", \"Czechia\", \"England\", \"Estonia\", \"Finland\", \"France\", \"Germany\", \"Greece\", \"Guyana\", \"Iceland\", \"India\", \"Ireland\", \"Isle of Man\", \"Italy\", \"Jersey\", \"Latvia\", \"Lithuania\", \"Luxembourg\", \"Maldives\", \"Mauritius\", \"Morocco\", \"Myanmar\", \"Nepal\", \"Netherlands\", \"Northern Ireland\", \"Norway\", \"Oman\", \"Pakistan\", \"Poland\", \"Romania\", \"Saint Helena\", \"Scotland\", \"Seychelles\", \"Slovenia\", \"Spain\", \"Sri Lanka\", \"Sweden\", \"United Arab Emirates\", \"United Kingdom\", \"Wales\"], [\"Albania\", \"Andorra\", \"Austria\", \"Bahrain\", \"Belgium\", \"Bermuda\", \"Bulgaria\", \"Canada\", \"Cayman Islands\", \"Chile\", \"Costa Rica\", \"Croatia\", \"Cyprus\", \"Czechia\", \"Denmark\", \"Ecuador\", \"England\", \"Estonia\", \"Faeroe Islands\", \"Finland\", \"France\", \"Germany\", \"Gibraltar\", \"Greece\", \"Greenland\", \"Guernsey\", \"Hungary\", \"Iceland\", \"Ireland\", \"Isle of Man\", \"Israel\", \"Italy\", \"Jersey\", \"Kuwait\", \"Latvia\", \"Liechtenstein\", \"Lithuania\", \"Luxembourg\", \"Malta\", \"Mexico\", \"Monaco\", \"Netherlands\", \"Northern Cyprus\", \"Northern Ireland\", \"Norway\", \"Oman\", \"Panama\", \"Poland\", \"Portugal\", \"Qatar\", \"Romania\", \"Saudi Arabia\", \"Scotland\", \"Serbia\", \"Singapore\", \"Slovakia\", \"Slovenia\", \"Spain\", \"Sweden\", \"Switzerland\", \"Turks and Caicos Islands\", \"United Arab Emirates\", \"United Kingdom\", \"United States\", \"Wales\"], [\"Bahrain\", \"Cambodia\", \"China\", \"Egypt\", \"Morocco\", \"Pakistan\", \"Peru\", \"Serbia\", \"Seychelles\", \"United Arab Emirates\"], [\"China\", \"United Arab Emirates\"], [\"Brazil\", \"Chile\", \"China\", \"Indonesia\", \"Northern Cyprus\", \"Turkey\"], [\"Algeria\", \"Argentina\", \"Azerbaijan\", \"Bolivia\", \"Iran\", \"Pakistan\", \"Russia\", \"Serbia\", \"United Arab Emirates\"]], [65, 46, 27, 10, 9, 6, 2, 1]]}, \"columnorder\": [1, 2, 3], \"columnwidth\": [200, 400], \"header\": {\"align\": [\"left\", \"center\"], \"fill\": {\"color\": \"royalblue\"}, \"font\": {\"color\": \"white\", \"size\": 15}, \"height\": 40, \"line\": {\"color\": \"darkslategray\"}, \"values\": [[\"<b>Impfung</b><br>\"], [\"<b>L\\u00e4nder</b>\"], [\"<b>Anzahl der L\\u00e4nder</b>\"]]}, \"type\": \"table\"}],                        {\"template\": {\"data\": {\"bar\": [{\"error_x\": {\"color\": \"#2a3f5f\"}, \"error_y\": {\"color\": \"#2a3f5f\"}, \"marker\": {\"line\": {\"color\": \"#E5ECF6\", \"width\": 0.5}}, \"type\": \"bar\"}], \"barpolar\": [{\"marker\": {\"line\": {\"color\": \"#E5ECF6\", \"width\": 0.5}}, \"type\": \"barpolar\"}], \"carpet\": [{\"aaxis\": {\"endlinecolor\": \"#2a3f5f\", \"gridcolor\": \"white\", \"linecolor\": \"white\", \"minorgridcolor\": \"white\", \"startlinecolor\": \"#2a3f5f\"}, \"baxis\": {\"endlinecolor\": \"#2a3f5f\", \"gridcolor\": \"white\", \"linecolor\": \"white\", \"minorgridcolor\": \"white\", \"startlinecolor\": \"#2a3f5f\"}, \"type\": \"carpet\"}], \"choropleth\": [{\"colorbar\": {\"outlinewidth\": 0, \"ticks\": \"\"}, \"type\": \"choropleth\"}], \"contour\": [{\"colorbar\": {\"outlinewidth\": 0, \"ticks\": \"\"}, \"colorscale\": [[0.0, \"#0d0887\"], [0.1111111111111111, \"#46039f\"], [0.2222222222222222, \"#7201a8\"], [0.3333333333333333, \"#9c179e\"], [0.4444444444444444, \"#bd3786\"], [0.5555555555555556, \"#d8576b\"], [0.6666666666666666, \"#ed7953\"], [0.7777777777777778, \"#fb9f3a\"], [0.8888888888888888, \"#fdca26\"], [1.0, \"#f0f921\"]], \"type\": \"contour\"}], \"contourcarpet\": [{\"colorbar\": {\"outlinewidth\": 0, \"ticks\": \"\"}, \"type\": \"contourcarpet\"}], \"heatmap\": [{\"colorbar\": {\"outlinewidth\": 0, \"ticks\": \"\"}, \"colorscale\": [[0.0, \"#0d0887\"], [0.1111111111111111, \"#46039f\"], [0.2222222222222222, \"#7201a8\"], [0.3333333333333333, \"#9c179e\"], [0.4444444444444444, \"#bd3786\"], [0.5555555555555556, \"#d8576b\"], [0.6666666666666666, \"#ed7953\"], [0.7777777777777778, \"#fb9f3a\"], [0.8888888888888888, \"#fdca26\"], [1.0, \"#f0f921\"]], \"type\": \"heatmap\"}], \"heatmapgl\": [{\"colorbar\": {\"outlinewidth\": 0, \"ticks\": \"\"}, \"colorscale\": [[0.0, \"#0d0887\"], [0.1111111111111111, \"#46039f\"], [0.2222222222222222, \"#7201a8\"], [0.3333333333333333, \"#9c179e\"], [0.4444444444444444, \"#bd3786\"], [0.5555555555555556, \"#d8576b\"], [0.6666666666666666, \"#ed7953\"], [0.7777777777777778, \"#fb9f3a\"], [0.8888888888888888, \"#fdca26\"], [1.0, \"#f0f921\"]], \"type\": \"heatmapgl\"}], \"histogram\": [{\"marker\": {\"colorbar\": {\"outlinewidth\": 0, \"ticks\": \"\"}}, \"type\": \"histogram\"}], \"histogram2d\": [{\"colorbar\": {\"outlinewidth\": 0, \"ticks\": \"\"}, \"colorscale\": [[0.0, \"#0d0887\"], [0.1111111111111111, \"#46039f\"], [0.2222222222222222, \"#7201a8\"], [0.3333333333333333, \"#9c179e\"], [0.4444444444444444, \"#bd3786\"], [0.5555555555555556, \"#d8576b\"], [0.6666666666666666, \"#ed7953\"], [0.7777777777777778, \"#fb9f3a\"], [0.8888888888888888, \"#fdca26\"], [1.0, \"#f0f921\"]], \"type\": \"histogram2d\"}], \"histogram2dcontour\": [{\"colorbar\": {\"outlinewidth\": 0, \"ticks\": \"\"}, \"colorscale\": [[0.0, \"#0d0887\"], [0.1111111111111111, \"#46039f\"], [0.2222222222222222, \"#7201a8\"], [0.3333333333333333, \"#9c179e\"], [0.4444444444444444, \"#bd3786\"], [0.5555555555555556, \"#d8576b\"], [0.6666666666666666, \"#ed7953\"], [0.7777777777777778, \"#fb9f3a\"], [0.8888888888888888, \"#fdca26\"], [1.0, \"#f0f921\"]], \"type\": \"histogram2dcontour\"}], \"mesh3d\": [{\"colorbar\": {\"outlinewidth\": 0, \"ticks\": \"\"}, \"type\": \"mesh3d\"}], \"parcoords\": [{\"line\": {\"colorbar\": {\"outlinewidth\": 0, \"ticks\": \"\"}}, \"type\": \"parcoords\"}], \"pie\": [{\"automargin\": true, \"type\": \"pie\"}], \"scatter\": [{\"marker\": {\"colorbar\": {\"outlinewidth\": 0, \"ticks\": \"\"}}, \"type\": \"scatter\"}], \"scatter3d\": [{\"line\": {\"colorbar\": {\"outlinewidth\": 0, \"ticks\": \"\"}}, \"marker\": {\"colorbar\": {\"outlinewidth\": 0, \"ticks\": \"\"}}, \"type\": \"scatter3d\"}], \"scattercarpet\": [{\"marker\": {\"colorbar\": {\"outlinewidth\": 0, \"ticks\": \"\"}}, \"type\": \"scattercarpet\"}], \"scattergeo\": [{\"marker\": {\"colorbar\": {\"outlinewidth\": 0, \"ticks\": \"\"}}, \"type\": \"scattergeo\"}], \"scattergl\": [{\"marker\": {\"colorbar\": {\"outlinewidth\": 0, \"ticks\": \"\"}}, \"type\": \"scattergl\"}], \"scattermapbox\": [{\"marker\": {\"colorbar\": {\"outlinewidth\": 0, \"ticks\": \"\"}}, \"type\": \"scattermapbox\"}], \"scatterpolar\": [{\"marker\": {\"colorbar\": {\"outlinewidth\": 0, \"ticks\": \"\"}}, \"type\": \"scatterpolar\"}], \"scatterpolargl\": [{\"marker\": {\"colorbar\": {\"outlinewidth\": 0, \"ticks\": \"\"}}, \"type\": \"scatterpolargl\"}], \"scatterternary\": [{\"marker\": {\"colorbar\": {\"outlinewidth\": 0, \"ticks\": \"\"}}, \"type\": \"scatterternary\"}], \"surface\": [{\"colorbar\": {\"outlinewidth\": 0, \"ticks\": \"\"}, \"colorscale\": [[0.0, \"#0d0887\"], [0.1111111111111111, \"#46039f\"], [0.2222222222222222, \"#7201a8\"], [0.3333333333333333, \"#9c179e\"], [0.4444444444444444, \"#bd3786\"], [0.5555555555555556, \"#d8576b\"], [0.6666666666666666, \"#ed7953\"], [0.7777777777777778, \"#fb9f3a\"], [0.8888888888888888, \"#fdca26\"], [1.0, \"#f0f921\"]], \"type\": \"surface\"}], \"table\": [{\"cells\": {\"fill\": {\"color\": \"#EBF0F8\"}, \"line\": {\"color\": \"white\"}}, \"header\": {\"fill\": {\"color\": \"#C8D4E3\"}, \"line\": {\"color\": \"white\"}}, \"type\": \"table\"}]}, \"layout\": {\"annotationdefaults\": {\"arrowcolor\": \"#2a3f5f\", \"arrowhead\": 0, \"arrowwidth\": 1}, \"autotypenumbers\": \"strict\", \"coloraxis\": {\"colorbar\": {\"outlinewidth\": 0, \"ticks\": \"\"}}, \"colorscale\": {\"diverging\": [[0, \"#8e0152\"], [0.1, \"#c51b7d\"], [0.2, \"#de77ae\"], [0.3, \"#f1b6da\"], [0.4, \"#fde0ef\"], [0.5, \"#f7f7f7\"], [0.6, \"#e6f5d0\"], [0.7, \"#b8e186\"], [0.8, \"#7fbc41\"], [0.9, \"#4d9221\"], [1, \"#276419\"]], \"sequential\": [[0.0, \"#0d0887\"], [0.1111111111111111, \"#46039f\"], [0.2222222222222222, \"#7201a8\"], [0.3333333333333333, \"#9c179e\"], [0.4444444444444444, \"#bd3786\"], [0.5555555555555556, \"#d8576b\"], [0.6666666666666666, \"#ed7953\"], [0.7777777777777778, \"#fb9f3a\"], [0.8888888888888888, \"#fdca26\"], [1.0, \"#f0f921\"]], \"sequentialminus\": [[0.0, \"#0d0887\"], [0.1111111111111111, \"#46039f\"], [0.2222222222222222, \"#7201a8\"], [0.3333333333333333, \"#9c179e\"], [0.4444444444444444, \"#bd3786\"], [0.5555555555555556, \"#d8576b\"], [0.6666666666666666, \"#ed7953\"], [0.7777777777777778, \"#fb9f3a\"], [0.8888888888888888, \"#fdca26\"], [1.0, \"#f0f921\"]]}, \"colorway\": [\"#636efa\", \"#EF553B\", \"#00cc96\", \"#ab63fa\", \"#FFA15A\", \"#19d3f3\", \"#FF6692\", \"#B6E880\", \"#FF97FF\", \"#FECB52\"], \"font\": {\"color\": \"#2a3f5f\"}, \"geo\": {\"bgcolor\": \"white\", \"lakecolor\": \"white\", \"landcolor\": \"#E5ECF6\", \"showlakes\": true, \"showland\": true, \"subunitcolor\": \"white\"}, \"hoverlabel\": {\"align\": \"left\"}, \"hovermode\": \"closest\", \"mapbox\": {\"style\": \"light\"}, \"paper_bgcolor\": \"white\", \"plot_bgcolor\": \"#E5ECF6\", \"polar\": {\"angularaxis\": {\"gridcolor\": \"white\", \"linecolor\": \"white\", \"ticks\": \"\"}, \"bgcolor\": \"#E5ECF6\", \"radialaxis\": {\"gridcolor\": \"white\", \"linecolor\": \"white\", \"ticks\": \"\"}}, \"scene\": {\"xaxis\": {\"backgroundcolor\": \"#E5ECF6\", \"gridcolor\": \"white\", \"gridwidth\": 2, \"linecolor\": \"white\", \"showbackground\": true, \"ticks\": \"\", \"zerolinecolor\": \"white\"}, \"yaxis\": {\"backgroundcolor\": \"#E5ECF6\", \"gridcolor\": \"white\", \"gridwidth\": 2, \"linecolor\": \"white\", \"showbackground\": true, \"ticks\": \"\", \"zerolinecolor\": \"white\"}, \"zaxis\": {\"backgroundcolor\": \"#E5ECF6\", \"gridcolor\": \"white\", \"gridwidth\": 2, \"linecolor\": \"white\", \"showbackground\": true, \"ticks\": \"\", \"zerolinecolor\": \"white\"}}, \"shapedefaults\": {\"line\": {\"color\": \"#2a3f5f\"}}, \"ternary\": {\"aaxis\": {\"gridcolor\": \"white\", \"linecolor\": \"white\", \"ticks\": \"\"}, \"baxis\": {\"gridcolor\": \"white\", \"linecolor\": \"white\", \"ticks\": \"\"}, \"bgcolor\": \"#E5ECF6\", \"caxis\": {\"gridcolor\": \"white\", \"linecolor\": \"white\", \"ticks\": \"\"}}, \"title\": {\"x\": 0.05}, \"xaxis\": {\"automargin\": true, \"gridcolor\": \"white\", \"linecolor\": \"white\", \"ticks\": \"\", \"title\": {\"standoff\": 15}, \"zerolinecolor\": \"white\", \"zerolinewidth\": 2}, \"yaxis\": {\"automargin\": true, \"gridcolor\": \"white\", \"linecolor\": \"white\", \"ticks\": \"\", \"title\": {\"standoff\": 15}, \"zerolinecolor\": \"white\", \"zerolinewidth\": 2}}}},                        {\"responsive\": true}                    ).then(function(){\n",
       "                            \n",
       "var gd = document.getElementById('909fd186-ab1d-4a4b-acee-60c61d54c099');\n",
       "var x = new MutationObserver(function (mutations, observer) {{\n",
       "        var display = window.getComputedStyle(gd).display;\n",
       "        if (!display || display === 'none') {{\n",
       "            console.log([gd, 'removed!']);\n",
       "            Plotly.purge(gd);\n",
       "            observer.disconnect();\n",
       "        }}\n",
       "}});\n",
       "\n",
       "// Listen for the removal of the full notebook cells\n",
       "var notebookContainer = gd.closest('#notebook-container');\n",
       "if (notebookContainer) {{\n",
       "    x.observe(notebookContainer, {childList: true});\n",
       "}}\n",
       "\n",
       "// Listen for the clearing of the current output cell\n",
       "var outputEl = gd.closest('.output');\n",
       "if (outputEl) {{\n",
       "    x.observe(outputEl, {childList: true});\n",
       "}}\n",
       "\n",
       "                        })                };                });            </script>        </div>"
      ]
     },
     "metadata": {},
     "output_type": "display_data"
    }
   ],
   "source": [
    "#np.unique(df.groupby('vaccines')['country'].apply(list)[1])\n",
    "import plotly.graph_objects as go\n",
    "\n",
    "values = [vaccin_List, #1st col\n",
    "  country_vaccin,dfv['total_country']]\n",
    "\n",
    "\n",
    "fig = go.Figure(data=[go.Table(\n",
    "  columnorder = [1,2,3],\n",
    "  columnwidth = [200,400],\n",
    "  header = dict(\n",
    "    values = [['<b>Impfung</b><br>'],\n",
    "                  ['<b>Länder</b>'],['<b>Anzahl der Länder</b>']],\n",
    "    line_color='darkslategray',\n",
    "    fill_color='royalblue',\n",
    "    align=['left','center'],\n",
    "    font=dict(color='white', size=15),\n",
    "    height=40\n",
    "  ),\n",
    "  cells=dict(\n",
    "    values=values,\n",
    "    line_color='darkslategray',\n",
    "    fill=dict(color=['paleturquoise', 'white']),\n",
    "    align=['left', 'center'],\n",
    "    font_size=12,\n",
    "    height=30)\n",
    "    )\n",
    "])\n",
    "fig.show()"
   ]
  },
  {
   "cell_type": "code",
   "execution_count": 481,
   "metadata": {},
   "outputs": [
    {
     "data": {
      "text/plain": [
       "3    [Albania, Andorra, Austria, Bahrain, Belgium, ...\n",
       "2    [Anguilla, Austria, Azerbaijan, Bangladesh, Be...\n",
       "1    [Austria, Belgium, Bulgaria, Canada, Czechia, ...\n",
       "4    [Bahrain, Cambodia, China, Egypt, Morocco, Pak...\n",
       "7    [Algeria, Argentina, Azerbaijan, Bolivia, Iran...\n",
       "6    [Brazil, Chile, China, Indonesia, Northern Cyp...\n",
       "5                        [China, United Arab Emirates]\n",
       "0                                              [India]\n",
       "Name: countries, dtype: object"
      ]
     },
     "execution_count": 481,
     "metadata": {},
     "output_type": "execute_result"
    }
   ],
   "source": [
    "#welche impfung in welches Land !\n",
    "#!pip install pygal_maps_world\n",
    "dfv['countries']\n",
    "\n",
    "\n",
    "\n"
   ]
  },
  {
   "cell_type": "code",
   "execution_count": 461,
   "metadata": {},
   "outputs": [
    {
     "data": {
      "image/png": "[encoded data removed]",
      "text/plain": [
       "<Figure size 1080x576 with 1 Axes>"
      ]
     },
     "metadata": {
      "needs_background": "light"
     },
     "output_type": "display_data"
    }
   ],
   "source": [
    "# barplot für die Impfung Art und Anzahl der Länder\n",
    "\n",
    "fig = plt.figure(figsize = (15, 8)) \n",
    "  \n",
    "# creating the bar plot \n",
    "plt.bar(dfv['Vaccin'], dfv['total_country'], color ='maroon',  \n",
    "        width = 0.8) \n",
    "  \n",
    "plt.xlabel(\"Die Impfungen\") \n",
    "plt.ylabel(\"Anzahl der Länder Pro Impfung\") \n",
    "plt.title(\"Anzahl der Länder die verschiedene Impfung Benutzt haben\") \n",
    "plt.xticks(rotation=45)\n",
    "plt.show() \n",
    "#Pfizer/BionTech ist der Benutzte Impfung Weltweit"
   ]
  },
  {
   "cell_type": "code",
   "execution_count": 462,
   "metadata": {},
   "outputs": [
    {
     "data": {
      "text/plain": [
       "1127.0"
      ]
     },
     "execution_count": 462,
     "metadata": {},
     "output_type": "execute_result"
    }
   ],
   "source": [
    "#Anzahl der Geimpfte Menschen in Jedes land\n",
    "data[data['country'] == 'Albania']['total_vaccinations'].max()"
   ]
  },
  {
   "cell_type": "code",
   "execution_count": 463,
   "metadata": {},
   "outputs": [
    {
     "data": {
      "text/plain": [
       "United States           55220364.0\n",
       "China                   40520000.0\n",
       "United Kingdom          16122272.0\n",
       "England                 13575245.0\n",
       "India                    8999230.0\n",
       "Israel                   6758861.0\n",
       "Brazil                   5609937.0\n",
       "United Arab Emirates     5198725.0\n",
       "Turkey                   4630784.0\n",
       "Germany                  4284554.0\n",
       "Russia                   3900000.0\n",
       "Italy                    3122631.0\n",
       "France                   3014973.0\n",
       "Spain                    2624512.0\n",
       "Chile                    2375725.0\n",
       "Poland                   2159146.0\n",
       "Morocco                  1904169.0\n",
       "Indonesia                1658110.0\n",
       "Bangladesh               1359613.0\n",
       "Canada                   1306784.0\n",
       "Name: Zahl der Geimpfte Menschen, dtype: float64"
      ]
     },
     "execution_count": 463,
     "metadata": {},
     "output_type": "execute_result"
    }
   ],
   "source": [
    "df_cp = pd.DataFrame(person_vaccinated,countries_v,columns={'Zahl der Geimpfte Menschen'})\n",
    "df_cp.sort_values(by=['Zahl der Geimpfte Menschen'], inplace=True, ascending=False)\n",
    "df_cp[:20]['Zahl der Geimpfte Menschen']"
   ]
  },
  {
   "cell_type": "code",
   "execution_count": 464,
   "metadata": {},
   "outputs": [
    {
     "name": "stdout",
     "output_type": "stream",
     "text": [
      "91 91\n"
     ]
    },
    {
     "data": {
      "image/png": "[encoded data removed]",
      "text/plain": [
       "<Figure size 1080x576 with 1 Axes>"
      ]
     },
     "metadata": {
      "needs_background": "light"
     },
     "output_type": "display_data"
    }
   ],
   "source": [
    "countries_v = data['country'].unique()\n",
    "person_vaccinated = []\n",
    "for country in countries_v:\n",
    "    person_vaccinated.append(data[data['country'] == country]['total_vaccinations'].max())\n",
    "\n",
    "#data_2 = data.groupby('country')['total_vaccinations'].max() # Zweite lösung\n",
    "\n",
    "\n",
    "print(len(person_vaccinated),len(countries_v))\n",
    "\n",
    "\n",
    "fig = plt.figure(figsize = (15, 8)) \n",
    "plt.bar(df_cp[:20].index,df_cp[:20]['Zahl der Geimpfte Menschen'], color ='maroon',  \n",
    "        width = 0.8) \n",
    "  \n",
    "plt.xlabel(\"Die Impfungen\") \n",
    "plt.ylabel(\"Anzahl der Länder Pro Impfung\") \n",
    "plt.title(\"Anzahl der Länder die verschiedene Impfung Benutzt haben\") \n",
    "plt.xticks(rotation=90)\n",
    "plt.show() \n",
    "    "
   ]
  },
  {
   "cell_type": "code",
   "execution_count": 465,
   "metadata": {},
   "outputs": [
    {
     "data": {
      "text/plain": [
       "country\n",
       "Albania                         1127.0\n",
       "Algeria                           30.0\n",
       "Andorra                         1291.0\n",
       "Anguilla                        1341.0\n",
       "Argentina                     611169.0\n",
       "                               ...    \n",
       "Turks and Caicos Islands        6433.0\n",
       "United Arab Emirates         5198725.0\n",
       "United Kingdom              16122272.0\n",
       "United States               55220364.0\n",
       "Wales                         803178.0\n",
       "Name: total_vaccinations, Length: 91, dtype: float64"
      ]
     },
     "execution_count": 465,
     "metadata": {},
     "output_type": "execute_result"
    }
   ],
   "source": [
    "data_2 = data.groupby('country')['total_vaccinations'].max()\n",
    "data_2\n"
   ]
  },
  {
   "cell_type": "markdown",
   "metadata": {},
   "source": [
    "## Impfung entwicklung in der EU"
   ]
  },
  {
   "cell_type": "code",
   "execution_count": 466,
   "metadata": {},
   "outputs": [
    {
     "data": {
      "text/plain": [
       "array(['Albania', 'Algeria', 'Andorra', 'Anguilla', 'Argentina',\n",
       "       'Austria', 'Azerbaijan', 'Bahrain', 'Bangladesh', 'Belgium',\n",
       "       'Bermuda', 'Bolivia', 'Brazil', 'Bulgaria', 'Cambodia', 'Canada',\n",
       "       'Cayman Islands', 'Chile', 'China', 'Costa Rica', 'Croatia',\n",
       "       'Cyprus', 'Czechia', 'Denmark', 'Ecuador', 'Egypt', 'England',\n",
       "       'Estonia', 'Faeroe Islands', 'Finland', 'France', 'Germany',\n",
       "       'Gibraltar', 'Greece', 'Greenland', 'Guernsey', 'Guyana',\n",
       "       'Hungary', 'Iceland', 'India', 'Indonesia', 'Iran', 'Ireland',\n",
       "       'Isle of Man', 'Israel', 'Italy', 'Jersey', 'Kuwait', 'Latvia',\n",
       "       'Liechtenstein', 'Lithuania', 'Luxembourg', 'Maldives', 'Malta',\n",
       "       'Mauritius', 'Mexico', 'Monaco', 'Morocco', 'Myanmar', 'Nepal',\n",
       "       'Netherlands', 'Northern Cyprus', 'Northern Ireland', 'Norway',\n",
       "       'Oman', 'Pakistan', 'Panama', 'Peru', 'Poland', 'Portugal',\n",
       "       'Qatar', 'Romania', 'Russia', 'Saint Helena', 'Saudi Arabia',\n",
       "       'Scotland', 'Serbia', 'Seychelles', 'Singapore', 'Slovakia',\n",
       "       'Slovenia', 'Spain', 'Sri Lanka', 'Sweden', 'Switzerland',\n",
       "       'Turkey', 'Turks and Caicos Islands', 'United Arab Emirates',\n",
       "       'United Kingdom', 'United States', 'Wales'], dtype=object)"
      ]
     },
     "execution_count": 466,
     "metadata": {},
     "output_type": "execute_result"
    }
   ],
   "source": [
    "data['country'].unique()"
   ]
  },
  {
   "cell_type": "code",
   "execution_count": 482,
   "metadata": {},
   "outputs": [
    {
     "name": "stdout",
     "output_type": "stream",
     "text": [
      "27 ['AUT', 'BEL', 'BGR', 'CYP', 'CZE', 'DEU', 'DNK', 'ESP', 'EST', 'FIN', 'FRA', 'GRC', 'HRV', 'HUN', 'IRL', 'ITA', 'LTU', 'LUX', 'LVA', 'MLT', 'NLD', 'POL', 'PRT', 'ROU', 'SVK', 'SVN', 'SWE']\n"
     ]
    }
   ],
   "source": [
    "from countrygroups import EUROPEAN_UNION\n",
    "euCountries = EUROPEAN_UNION.names\n",
    "print(len(euCountries),EUROPEAN_UNION)"
   ]
  },
  {
   "cell_type": "code",
   "execution_count": null,
   "metadata": {},
   "outputs": [],
   "source": []
  },
  {
   "cell_type": "code",
   "execution_count": 468,
   "metadata": {},
   "outputs": [
    {
     "data": {
      "text/plain": [
       "27"
      ]
     },
     "execution_count": 468,
     "metadata": {},
     "output_type": "execute_result"
    }
   ],
   "source": [
    "vacc_eu_Countries = data[data['country'].isin(euCountries)]\n",
    "exist = vacc_eu_Countries['country'].unique()\n",
    "len(exist)"
   ]
  },
  {
   "cell_type": "code",
   "execution_count": 469,
   "metadata": {},
   "outputs": [
    {
     "data": {
      "text/html": [
       "<div>\n",
       "<style scoped>\n",
       "    .dataframe tbody tr th:only-of-type {\n",
       "        vertical-align: middle;\n",
       "    }\n",
       "\n",
       "    .dataframe tbody tr th {\n",
       "        vertical-align: top;\n",
       "    }\n",
       "\n",
       "    .dataframe thead th {\n",
       "        text-align: right;\n",
       "    }\n",
       "</style>\n",
       "<table border=\"1\" class=\"dataframe\">\n",
       "  <thead>\n",
       "    <tr style=\"text-align: right;\">\n",
       "      <th></th>\n",
       "      <th>Vaccin</th>\n",
       "      <th>countries</th>\n",
       "      <th>total_country</th>\n",
       "    </tr>\n",
       "  </thead>\n",
       "  <tbody>\n",
       "    <tr>\n",
       "      <th>3</th>\n",
       "      <td>Pfizer/BioNTech</td>\n",
       "      <td>[Austria, Belgium, Bulgaria, Croatia, Cyprus, ...</td>\n",
       "      <td>27.0</td>\n",
       "    </tr>\n",
       "    <tr>\n",
       "      <th>1</th>\n",
       "      <td>Moderna</td>\n",
       "      <td>[Austria, Belgium, Bulgaria, Czechia, Denmark,...</td>\n",
       "      <td>20.0</td>\n",
       "    </tr>\n",
       "    <tr>\n",
       "      <th>2</th>\n",
       "      <td>Oxford/AstraZeneca</td>\n",
       "      <td>[Austria, Belgium, Bulgaria, Czechia, Estonia,...</td>\n",
       "      <td>20.0</td>\n",
       "    </tr>\n",
       "  </tbody>\n",
       "</table>\n",
       "</div>"
      ],
      "text/plain": [
       "               Vaccin                                          countries  \\\n",
       "3     Pfizer/BioNTech  [Austria, Belgium, Bulgaria, Croatia, Cyprus, ...   \n",
       "1             Moderna  [Austria, Belgium, Bulgaria, Czechia, Denmark,...   \n",
       "2  Oxford/AstraZeneca  [Austria, Belgium, Bulgaria, Czechia, Estonia,...   \n",
       "\n",
       "   total_country  \n",
       "3           27.0  \n",
       "1           20.0  \n",
       "2           20.0  "
      ]
     },
     "execution_count": 469,
     "metadata": {},
     "output_type": "execute_result"
    }
   ],
   "source": [
    "country_vaccin_eu = [vacc_eu_Countries[['country']][vacc_eu_Countries['vaccines'].str.contains(i)]['country'].unique() for i in vaccin_List]\n",
    "#print(len(country_vaccin),len(vaccin_List))\n",
    "vcl = [vaccin_List,country_vaccin_eu]\n",
    "df_euv = pd.DataFrame(vcl).transpose().rename(columns={0: 'Vaccin' , 1:'countries'})\n",
    "#dfv['total_coutries'] = \n",
    "df_euv['total_country'] = df_euv['countries'].str.len()\n",
    "df_euv.sort_values(by=['total_country'], inplace=True, ascending=False)\n",
    "df_euv = df_euv.replace(0,np.nan).dropna()\n",
    "df_euv\n"
   ]
  },
  {
   "cell_type": "code",
   "execution_count": 470,
   "metadata": {},
   "outputs": [
    {
     "data": {
      "image/png": "[encoded data removed]",
      "text/plain": [
       "<Figure size 1080x576 with 1 Axes>"
      ]
     },
     "metadata": {
      "needs_background": "light"
     },
     "output_type": "display_data"
    }
   ],
   "source": [
    "fig = plt.figure(figsize = (15, 8)) \n",
    "  \n",
    "# creating the bar plot \n",
    "plt.bar(df_euv['Vaccin'], df_euv['total_country'], color ='maroon',  \n",
    "        width = 0.8) \n",
    "  \n",
    "plt.xlabel(\"Die Impfungen\") \n",
    "plt.ylabel(\"Anzahl der Länder Pro Impfung\") \n",
    "plt.title(\"Anzahl der Länder die verschiedene Impfung Benutzt haben\") \n",
    "plt.xticks(rotation=45)\n",
    "plt.show() "
   ]
  },
  {
   "cell_type": "code",
   "execution_count": 496,
   "metadata": {},
   "outputs": [
    {
     "data": {
      "image/png": "[encoded data removed]",
      "text/plain": [
       "<Figure size 1080x576 with 1 Axes>"
      ]
     },
     "metadata": {
      "needs_background": "light"
     },
     "output_type": "display_data"
    }
   ],
   "source": [
    "data_3 = vacc_eu_Countries.groupby('country')['total_vaccinations'].max().sort_values(ascending=False)\n",
    "\n",
    "fig = plt.figure(figsize = (15, 8)) \n",
    "plt.bar(data_3.index,data_3, color ='maroon',  \n",
    "        width = 0.8) \n",
    "  \n",
    "plt.xlabel(\"Die Impfungen\") \n",
    "plt.ylabel(\"Anzahl der Länder Pro Impfung\") \n",
    "plt.title(\"Anzahl der Länder die verschiedene Impfung Benutzt haben\") \n",
    "plt.xticks(rotation=90)\n",
    "plt.show() \n"
   ]
  },
  {
   "cell_type": "code",
   "execution_count": 497,
   "metadata": {},
   "outputs": [],
   "source": [
    "# ---> To do .. in eine map zeigen"
   ]
  },
  {
   "cell_type": "code",
   "execution_count": null,
   "metadata": {},
   "outputs": [],
   "source": [
    "#"
   ]
  }
 ],
 "metadata": {
  "kernelspec": {
   "display_name": "Python 3",
   "language": "python",
   "name": "python3"
  },
  "language_info": {
   "codemirror_mode": {
    "name": "ipython",
    "version": 3
   },
   "file_extension": ".py",
   "mimetype": "text/x-python",
   "name": "python",
   "nbconvert_exporter": "python",
   "pygments_lexer": "ipython3",
   "version": "3.7.6"
  }
 },
 "nbformat": 4,
 "nbformat_minor": 4
}
