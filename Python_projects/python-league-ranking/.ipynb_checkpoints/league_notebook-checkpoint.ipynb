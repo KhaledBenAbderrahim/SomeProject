{
 "cells": [
  {
   "cell_type": "code",
   "execution_count": 8,
   "id": "8ea0316e",
   "metadata": {},
   "outputs": [],
   "source": [
    "import pandas as pd\n",
    "import sys\n",
    "import os"
   ]
  },
  {
   "cell_type": "code",
   "execution_count": 9,
   "id": "5ab57339",
   "metadata": {},
   "outputs": [],
   "source": [
    "url = os.path.join(os.getcwd(), \"sample-input.txt\")\n",
    "def readUrl(url):\n",
    "    trim = lambda x: x.strip() if type(x) is str else x\n",
    "    try:\n",
    "        data = pd.read_csv(url,header=None)\n",
    "        df=data.copy()\n",
    "    except FileNotFoundError:\n",
    "        print('Url not true, try another url')\n",
    "        df = df.applymap(trim)\n",
    "    return df"
   ]
  },
  {
   "cell_type": "code",
   "execution_count": 10,
   "id": "b2ce2d56",
   "metadata": {},
   "outputs": [],
   "source": [
    "df = readUrl(url)"
   ]
  },
  {
   "cell_type": "code",
   "execution_count": 11,
   "id": "15b8784f",
   "metadata": {},
   "outputs": [],
   "source": [
    "def leagueBeginnDictionary(df):\n",
    "    team = []\n",
    "    for i,j in zip(df[0],df[1]):\n",
    "        team.extend((i[:-1].strip(),j[:-1].strip()))\n",
    "    leagueBeginn = dict.fromkeys(set(team),0)\n",
    "    return leagueBeginn"
   ]
  },
  {
   "cell_type": "code",
   "execution_count": 12,
   "id": "5031a7f9",
   "metadata": {},
   "outputs": [
    {
     "data": {
      "text/plain": [
       "{'Crazy Ones': 0, 'Misfits': 0, 'Rebels': 0, 'Fantastics': 0, 'FC Super': 0}"
      ]
     },
     "execution_count": 12,
     "metadata": {},
     "output_type": "execute_result"
    }
   ],
   "source": [
    "result = leagueBeginnDictionary(df)\n",
    "result"
   ]
  },
  {
   "cell_type": "code",
   "execution_count": 13,
   "id": "63e731e4",
   "metadata": {},
   "outputs": [],
   "source": [
    "def leagueRankingDictionary(dictionary):\n",
    "    for i,j in zip(df[0],df[1]):\n",
    "        if int(i[-1]) == int(j[-1]):\n",
    "            result[i[:-1].strip()] +=1\n",
    "            result[j[:-1].strip()] +=1\n",
    "        if int(i[-1]) > int(j[-1]):\n",
    "            result[i[:-1].strip()] +=3\n",
    "        if int(i[-1]) < int(j[-1]):\n",
    "            result[j[:-1].strip()] +=3\n",
    "    sorted_tuples = sorted(result.items(), key=lambda item: item[1],reverse=True)\n",
    "    #[('Fantastics ', 6), ('Crazy Ones ', 5), (' Rebels ', 1), (' FC Super ', 1), (' Misfits ', 0)]\n",
    "    sorted_dict = {k: v for k, v in sorted_tuples}\n",
    "    return sorted_dict "
   ]
  },
  {
   "cell_type": "code",
   "execution_count": 14,
   "id": "ba651058",
   "metadata": {},
   "outputs": [
    {
     "data": {
      "text/plain": [
       "{'Fantastics': 6, 'Crazy Ones': 5, 'Rebels': 1, 'FC Super': 1, 'Misfits': 0}"
      ]
     },
     "execution_count": 14,
     "metadata": {},
     "output_type": "execute_result"
    }
   ],
   "source": [
    "sort_dict = leagueRankingDictionary(result)\n",
    "sort_dict"
   ]
  },
  {
   "cell_type": "code",
   "execution_count": 15,
   "id": "90ac2405",
   "metadata": {},
   "outputs": [],
   "source": [
    "def printLeagueRanking(sorted_dict):\n",
    "    output = \"\"\n",
    "    p = 0\n",
    "    for index,(k, v) in enumerate(sorted_dict.items()):\n",
    "        #print(index,k,v\n",
    "        output += f\"{index if v==p else index+1}. {k}, {v} {'pt' if v==1 else 'pts'}\\n\"\n",
    "        p = v\n",
    "    sys.stdout.write(output)"
   ]
  },
  {
   "cell_type": "code",
   "execution_count": 17,
   "id": "336a4beb",
   "metadata": {},
   "outputs": [
    {
     "name": "stdout",
     "output_type": "stream",
     "text": [
      "1. Fantastics, 6 pts\n",
      "2. Crazy Ones, 5 pts\n",
      "3. Rebels, 1 pt\n",
      "3. FC Super, 1 pt\n",
      "5. Misfits, 0 pts\n"
     ]
    }
   ],
   "source": [
    "printLeagueRanking(sort_dict)  "
   ]
  }
 ],
 "metadata": {
  "kernelspec": {
   "display_name": "Python 3",
   "language": "python",
   "name": "python3"
  },
  "language_info": {
   "codemirror_mode": {
    "name": "ipython",
    "version": 3
   },
   "file_extension": ".py",
   "mimetype": "text/x-python",
   "name": "python",
   "nbconvert_exporter": "python",
   "pygments_lexer": "ipython3",
   "version": "3.8.8"
  }
 },
 "nbformat": 4,
 "nbformat_minor": 5
}
