{
 "cells": [
  {
   "cell_type": "code",
   "execution_count": 152,
   "metadata": {},
   "outputs": [],
   "source": [
    "\"\"\"\n",
    "Die Notwendige Packet Importieren\n",
    "\"\"\"\n",
    "import webbrowser\n",
    "import tweepy\n",
    "import time\n",
    "import pandas as pd\n",
    "import json"
   ]
  },
  {
   "cell_type": "code",
   "execution_count": 142,
   "metadata": {},
   "outputs": [],
   "source": [
    "\"\"\"\n",
    "Nach der Erstellung ein Tweets APP, die consumer_keys und die consumer_secret keys importieren\n",
    "\"\"\"\n",
    "consumer_key = \"zZrKSxy4ejOH7rPh8XnFJyyGz\"\n",
    "consumer_secret = \"BQ85Q5l3Y20VzCyhSSvHj5oqzCza2egR1GordJ8RuIlMMjNEAt\""
   ]
  },
  {
   "cell_type": "code",
   "execution_count": 143,
   "metadata": {},
   "outputs": [],
   "source": [
    "callback_uri='oob'"
   ]
  },
  {
   "cell_type": "code",
   "execution_count": 144,
   "metadata": {},
   "outputs": [],
   "source": [
    "\"\"\"\n",
    "Diese methoden gibt uns ein zugrif möglichkeit auf Twitter API durch Software Developer kit, SDK (Access Keys)\n",
    "\"\"\"\n",
    "auth = tweepy.OAuthHandler(consumer_key,consumer_secret,callback_uri)"
   ]
  },
  {
   "cell_type": "code",
   "execution_count": 145,
   "metadata": {},
   "outputs": [
    {
     "name": "stdout",
     "output_type": "stream",
     "text": [
      "https://api.twitter.com/oauth/authorize?oauth_token=Da_ldwAAAAABRe00AAABep8pmf0\n"
     ]
    }
   ],
   "source": [
    "\"\"\"\n",
    "Twitter API ist gesichert mit eine Multifaktor-Authetifizierung(MFA), deswegen ein weiter PIN ist notwendig\n",
    "\"\"\"\n",
    "\n",
    "redirect_url = auth.get_authorization_url()\n",
    "print(redirect_url)"
   ]
  },
  {
   "cell_type": "code",
   "execution_count": 146,
   "metadata": {},
   "outputs": [
    {
     "data": {
      "text/plain": [
       "True"
      ]
     },
     "execution_count": 146,
     "metadata": {},
     "output_type": "execute_result"
    }
   ],
   "source": [
    "\"\"\"\n",
    "Web Browser öffnen um den PIN zu holen\n",
    "\"\"\"\n",
    "webbrowser.open(redirect_url)"
   ]
  },
  {
   "cell_type": "code",
   "execution_count": 147,
   "metadata": {},
   "outputs": [
    {
     "name": "stdout",
     "output_type": "stream",
     "text": [
      "Enter your Pin? 8073092\n"
     ]
    }
   ],
   "source": [
    "\"\"\"\n",
    "PIN Eingeben\n",
    "\"\"\"\n",
    "user_pint_input= input(\"Enter your Pin? \")"
   ]
  },
  {
   "cell_type": "code",
   "execution_count": 148,
   "metadata": {},
   "outputs": [
    {
     "data": {
      "text/plain": [
       "('1413434348670361603-jG0oUA2Qmx6sbUE8uXqSJ6Lq020VjA',\n",
       " 'KxXP9OF3r5zfYpcJppGaE58n51GE9UHirTmmCdOvxdaVR')"
      ]
     },
     "execution_count": 148,
     "metadata": {},
     "output_type": "execute_result"
    }
   ],
   "source": [
    "\"\"\"\n",
    "die consumer_keys und die consumer_secret keys anzeigen lassen\n",
    "\"\"\"\n",
    "auth.get_access_token(user_pint_input)"
   ]
  },
  {
   "cell_type": "code",
   "execution_count": 149,
   "metadata": {},
   "outputs": [],
   "source": [
    "\"\"\"\n",
    "mit Twitter API verbinden\n",
    "\"\"\"\n",
    "api = tweepy.API(auth)"
   ]
  },
  {
   "cell_type": "code",
   "execution_count": 150,
   "metadata": {},
   "outputs": [],
   "source": [
    "\"\"\"\n",
    "Mein Twitter Profil Date aufrufen\n",
    "\"\"\"\n",
    "me = api.me()"
   ]
  },
  {
   "cell_type": "code",
   "execution_count": 182,
   "metadata": {},
   "outputs": [
    {
     "data": {
      "text/plain": [
       "User(_api=<tweepy.api.API object at 0x000002209CFBCF48>, _json={'id': 1413434348670361603, 'id_str': '1413434348670361603', 'name': 'Ben', 'screen_name': 'Ben94859836', 'location': '', 'profile_location': None, 'description': 'Test Account', 'url': None, 'entities': {'description': {'urls': []}}, 'protected': False, 'followers_count': 0, 'friends_count': 6, 'listed_count': 0, 'created_at': 'Fri Jul 09 09:46:35 +0000 2021', 'favourites_count': 1, 'utc_offset': None, 'time_zone': None, 'geo_enabled': False, 'verified': False, 'statuses_count': 0, 'lang': None, 'contributors_enabled': False, 'is_translator': False, 'is_translation_enabled': False, 'profile_background_color': 'F5F8FA', 'profile_background_image_url': None, 'profile_background_image_url_https': None, 'profile_background_tile': False, 'profile_image_url': 'http://abs.twimg.com/sticky/default_profile_images/default_profile_normal.png', 'profile_image_url_https': 'https://abs.twimg.com/sticky/default_profile_images/default_profile_normal.png', 'profile_link_color': '1DA1F2', 'profile_sidebar_border_color': 'C0DEED', 'profile_sidebar_fill_color': 'DDEEF6', 'profile_text_color': '333333', 'profile_use_background_image': True, 'has_extended_profile': True, 'default_profile': True, 'default_profile_image': True, 'following': False, 'follow_request_sent': False, 'notifications': False, 'translator_type': 'none', 'withheld_in_countries': [], 'suspended': False, 'needs_phone_verification': False}, id=1413434348670361603, id_str='1413434348670361603', name='Ben', screen_name='Ben94859836', location='', profile_location=None, description='Test Account', url=None, entities={'description': {'urls': []}}, protected=False, followers_count=0, friends_count=6, listed_count=0, created_at=datetime.datetime(2021, 7, 9, 9, 46, 35), favourites_count=1, utc_offset=None, time_zone=None, geo_enabled=False, verified=False, statuses_count=0, lang=None, contributors_enabled=False, is_translator=False, is_translation_enabled=False, profile_background_color='F5F8FA', profile_background_image_url=None, profile_background_image_url_https=None, profile_background_tile=False, profile_image_url='http://abs.twimg.com/sticky/default_profile_images/default_profile_normal.png', profile_image_url_https='https://abs.twimg.com/sticky/default_profile_images/default_profile_normal.png', profile_link_color='1DA1F2', profile_sidebar_border_color='C0DEED', profile_sidebar_fill_color='DDEEF6', profile_text_color='333333', profile_use_background_image=True, has_extended_profile=True, default_profile=True, default_profile_image=True, following=False, follow_request_sent=False, notifications=False, translator_type='none', withheld_in_countries=[], suspended=False, needs_phone_verification=False)"
      ]
     },
     "execution_count": 182,
     "metadata": {},
     "output_type": "execute_result"
    }
   ],
   "source": [
    "me # in mein profil sind viele informationen gespeichert in json format: id,location,screen_name.....etc"
   ]
  },
  {
   "cell_type": "code",
   "execution_count": 164,
   "metadata": {},
   "outputs": [
    {
     "data": {
      "text/plain": [
       "['__class__',\n",
       " '__delattr__',\n",
       " '__dict__',\n",
       " '__dir__',\n",
       " '__doc__',\n",
       " '__eq__',\n",
       " '__format__',\n",
       " '__ge__',\n",
       " '__getattribute__',\n",
       " '__getstate__',\n",
       " '__gt__',\n",
       " '__hash__',\n",
       " '__init__',\n",
       " '__init_subclass__',\n",
       " '__le__',\n",
       " '__lt__',\n",
       " '__module__',\n",
       " '__ne__',\n",
       " '__new__',\n",
       " '__reduce__',\n",
       " '__reduce_ex__',\n",
       " '__repr__',\n",
       " '__setattr__',\n",
       " '__sizeof__',\n",
       " '__str__',\n",
       " '__subclasshook__',\n",
       " '__weakref__',\n",
       " '_api',\n",
       " '_json',\n",
       " 'contributors_enabled',\n",
       " 'created_at',\n",
       " 'default_profile',\n",
       " 'default_profile_image',\n",
       " 'description',\n",
       " 'entities',\n",
       " 'favourites_count',\n",
       " 'follow',\n",
       " 'follow_request_sent',\n",
       " 'followers',\n",
       " 'followers_count',\n",
       " 'followers_ids',\n",
       " 'following',\n",
       " 'friends',\n",
       " 'friends_count',\n",
       " 'geo_enabled',\n",
       " 'has_extended_profile',\n",
       " 'id',\n",
       " 'id_str',\n",
       " 'is_translation_enabled',\n",
       " 'is_translator',\n",
       " 'lang',\n",
       " 'listed_count',\n",
       " 'lists',\n",
       " 'lists_memberships',\n",
       " 'lists_subscriptions',\n",
       " 'location',\n",
       " 'name',\n",
       " 'needs_phone_verification',\n",
       " 'notifications',\n",
       " 'parse',\n",
       " 'parse_list',\n",
       " 'profile_background_color',\n",
       " 'profile_background_image_url',\n",
       " 'profile_background_image_url_https',\n",
       " 'profile_background_tile',\n",
       " 'profile_image_url',\n",
       " 'profile_image_url_https',\n",
       " 'profile_link_color',\n",
       " 'profile_location',\n",
       " 'profile_sidebar_border_color',\n",
       " 'profile_sidebar_fill_color',\n",
       " 'profile_text_color',\n",
       " 'profile_use_background_image',\n",
       " 'protected',\n",
       " 'screen_name',\n",
       " 'statuses_count',\n",
       " 'suspended',\n",
       " 'time_zone',\n",
       " 'timeline',\n",
       " 'translator_type',\n",
       " 'unfollow',\n",
       " 'url',\n",
       " 'utc_offset',\n",
       " 'verified',\n",
       " 'withheld_in_countries']"
      ]
     },
     "execution_count": 164,
     "metadata": {},
     "output_type": "execute_result"
    }
   ],
   "source": [
    "dir(me) # die mögliche methoden die man die aufrufen kann"
   ]
  },
  {
   "cell_type": "code",
   "execution_count": 37,
   "metadata": {},
   "outputs": [
    {
     "name": "stdout",
     "output_type": "stream",
     "text": [
      "Ben94859836\n"
     ]
    }
   ],
   "source": [
    "print(me.screen_name) # als Beispiel mein profil Name anschauen"
   ]
  },
  {
   "cell_type": "markdown",
   "metadata": {},
   "source": [
    "## Status Aktualisieren -->  Methoden auf twitter"
   ]
  },
  {
   "cell_type": "code",
   "execution_count": 38,
   "metadata": {},
   "outputs": [
    {
     "data": {
      "text/plain": [
       "['__class__',\n",
       " '__delattr__',\n",
       " '__dict__',\n",
       " '__dir__',\n",
       " '__doc__',\n",
       " '__eq__',\n",
       " '__format__',\n",
       " '__ge__',\n",
       " '__getattribute__',\n",
       " '__gt__',\n",
       " '__hash__',\n",
       " '__init__',\n",
       " '__init_subclass__',\n",
       " '__le__',\n",
       " '__lt__',\n",
       " '__module__',\n",
       " '__ne__',\n",
       " '__new__',\n",
       " '__reduce__',\n",
       " '__reduce_ex__',\n",
       " '__repr__',\n",
       " '__setattr__',\n",
       " '__sizeof__',\n",
       " '__str__',\n",
       " '__subclasshook__',\n",
       " '__weakref__',\n",
       " '_add_list_members',\n",
       " '_lookup_friendships',\n",
       " '_pack_image',\n",
       " '_remove_list_members',\n",
       " '_send_direct_message',\n",
       " 'add_list_member',\n",
       " 'add_list_members',\n",
       " 'api_root',\n",
       " 'auth',\n",
       " 'blocks',\n",
       " 'blocks_ids',\n",
       " 'cache',\n",
       " 'cached_result',\n",
       " 'compression',\n",
       " 'configuration',\n",
       " 'create_block',\n",
       " 'create_favorite',\n",
       " 'create_friendship',\n",
       " 'create_list',\n",
       " 'create_media_metadata',\n",
       " 'create_mute',\n",
       " 'create_saved_search',\n",
       " 'destroy_block',\n",
       " 'destroy_direct_message',\n",
       " 'destroy_favorite',\n",
       " 'destroy_friendship',\n",
       " 'destroy_list',\n",
       " 'destroy_mute',\n",
       " 'destroy_saved_search',\n",
       " 'destroy_status',\n",
       " 'favorites',\n",
       " 'followers',\n",
       " 'followers_ids',\n",
       " 'friends',\n",
       " 'friends_ids',\n",
       " 'friendships_incoming',\n",
       " 'friendships_outgoing',\n",
       " 'geo_id',\n",
       " 'geo_search',\n",
       " 'geo_similar_places',\n",
       " 'get_direct_message',\n",
       " 'get_list',\n",
       " 'get_oembed',\n",
       " 'get_saved_search',\n",
       " 'get_settings',\n",
       " 'get_status',\n",
       " 'get_user',\n",
       " 'home_timeline',\n",
       " 'host',\n",
       " 'last_response',\n",
       " 'list_direct_messages',\n",
       " 'list_members',\n",
       " 'list_subscribers',\n",
       " 'list_timeline',\n",
       " 'lists_all',\n",
       " 'lists_memberships',\n",
       " 'lists_subscriptions',\n",
       " 'lookup_friendships',\n",
       " 'lookup_users',\n",
       " 'me',\n",
       " 'media_upload',\n",
       " 'mentions_timeline',\n",
       " 'mutes',\n",
       " 'mutes_ids',\n",
       " 'parser',\n",
       " 'proxy',\n",
       " 'rate_limit_status',\n",
       " 'related_results',\n",
       " 'remove_list_member',\n",
       " 'remove_list_members',\n",
       " 'report_spam',\n",
       " 'retry_count',\n",
       " 'retry_delay',\n",
       " 'retry_errors',\n",
       " 'retweet',\n",
       " 'retweeters',\n",
       " 'retweets',\n",
       " 'retweets_of_me',\n",
       " 'reverse_geocode',\n",
       " 'saved_searches',\n",
       " 'search',\n",
       " 'search_30_day',\n",
       " 'search_full_archive',\n",
       " 'search_host',\n",
       " 'search_root',\n",
       " 'search_users',\n",
       " 'send_direct_message',\n",
       " 'set_settings',\n",
       " 'show_friendship',\n",
       " 'show_list_member',\n",
       " 'show_list_subscriber',\n",
       " 'statuses_lookup',\n",
       " 'subscribe_list',\n",
       " 'supported_languages',\n",
       " 'timeout',\n",
       " 'trends_available',\n",
       " 'trends_closest',\n",
       " 'trends_place',\n",
       " 'unretweet',\n",
       " 'unsubscribe_list',\n",
       " 'update_list',\n",
       " 'update_profile',\n",
       " 'update_profile_banner',\n",
       " 'update_profile_image',\n",
       " 'update_status',\n",
       " 'update_with_media',\n",
       " 'upload_host',\n",
       " 'upload_root',\n",
       " 'user_timeline',\n",
       " 'verify_credentials',\n",
       " 'wait_on_rate_limit',\n",
       " 'wait_on_rate_limit_notify']"
      ]
     },
     "execution_count": 38,
     "metadata": {},
     "output_type": "execute_result"
    }
   ],
   "source": [
    "dir(api) # mögliche methoden von api objekt anzeigen"
   ]
  },
  {
   "cell_type": "code",
   "execution_count": 39,
   "metadata": {},
   "outputs": [],
   "source": [
    "# status posten auf twitter\n",
    "new_status = api.update_status(\"hallo Bottom-up, from @Ben94859836, what's up?\")"
   ]
  },
  {
   "cell_type": "code",
   "execution_count": 250,
   "metadata": {},
   "outputs": [
    {
     "data": {
      "image/png": "[encoded data removed]",
      "text/plain": [
       "<PIL.PngImagePlugin.PngImageFile image mode=RGB size=600x454 at 0x220A3A0D888>"
      ]
     },
     "execution_count": 250,
     "metadata": {},
     "output_type": "execute_result"
    }
   ],
   "source": [
    "#Ergebnisse nach dem update\n",
    "from PIL import Image\n",
    "\n",
    "image = Image.open('post_status_result.png')\n",
    "image.show()\n",
    "image"
   ]
  },
  {
   "cell_type": "code",
   "execution_count": 40,
   "metadata": {},
   "outputs": [
    {
     "data": {
      "text/plain": [
       "Status(_api=<tweepy.api.API object at 0x000002209E2DD908>, _json={'created_at': 'Mon Jul 12 07:49:28 +0000 2021', 'id': 1414492087630848000, 'id_str': '1414492087630848000', 'text': \"hallo Bottom-up, from @Ben94859836, what's up?\", 'truncated': False, 'entities': {'hashtags': [], 'symbols': [], 'user_mentions': [{'screen_name': 'Ben94859836', 'name': 'Ben', 'id': 1413434348670361603, 'id_str': '1413434348670361603', 'indices': [22, 34]}], 'urls': []}, 'source': '<a href=\"https://help.twitter.com/en/using-twitter/how-to-tweet#source-labels\" rel=\"nofollow\">armando_blue</a>', 'in_reply_to_status_id': None, 'in_reply_to_status_id_str': None, 'in_reply_to_user_id': None, 'in_reply_to_user_id_str': None, 'in_reply_to_screen_name': None, 'user': {'id': 1413434348670361603, 'id_str': '1413434348670361603', 'name': 'Ben', 'screen_name': 'Ben94859836', 'location': '', 'description': 'Test Account', 'url': None, 'entities': {'description': {'urls': []}}, 'protected': False, 'followers_count': 0, 'friends_count': 0, 'listed_count': 0, 'created_at': 'Fri Jul 09 09:46:35 +0000 2021', 'favourites_count': 0, 'utc_offset': None, 'time_zone': None, 'geo_enabled': False, 'verified': False, 'statuses_count': 1, 'lang': None, 'contributors_enabled': False, 'is_translator': False, 'is_translation_enabled': False, 'profile_background_color': 'F5F8FA', 'profile_background_image_url': None, 'profile_background_image_url_https': None, 'profile_background_tile': False, 'profile_image_url': 'http://abs.twimg.com/sticky/default_profile_images/default_profile_normal.png', 'profile_image_url_https': 'https://abs.twimg.com/sticky/default_profile_images/default_profile_normal.png', 'profile_link_color': '1DA1F2', 'profile_sidebar_border_color': 'C0DEED', 'profile_sidebar_fill_color': 'DDEEF6', 'profile_text_color': '333333', 'profile_use_background_image': True, 'has_extended_profile': True, 'default_profile': True, 'default_profile_image': True, 'following': False, 'follow_request_sent': False, 'notifications': False, 'translator_type': 'none', 'withheld_in_countries': []}, 'geo': None, 'coordinates': None, 'place': None, 'contributors': None, 'is_quote_status': False, 'retweet_count': 0, 'favorite_count': 0, 'favorited': False, 'retweeted': False, 'lang': 'en'}, created_at=datetime.datetime(2021, 7, 12, 7, 49, 28), id=1414492087630848000, id_str='1414492087630848000', text=\"hallo Bottom-up, from @Ben94859836, what's up?\", truncated=False, entities={'hashtags': [], 'symbols': [], 'user_mentions': [{'screen_name': 'Ben94859836', 'name': 'Ben', 'id': 1413434348670361603, 'id_str': '1413434348670361603', 'indices': [22, 34]}], 'urls': []}, source='armando_blue', source_url='https://help.twitter.com/en/using-twitter/how-to-tweet#source-labels', in_reply_to_status_id=None, in_reply_to_status_id_str=None, in_reply_to_user_id=None, in_reply_to_user_id_str=None, in_reply_to_screen_name=None, author=User(_api=<tweepy.api.API object at 0x000002209E2DD908>, _json={'id': 1413434348670361603, 'id_str': '1413434348670361603', 'name': 'Ben', 'screen_name': 'Ben94859836', 'location': '', 'description': 'Test Account', 'url': None, 'entities': {'description': {'urls': []}}, 'protected': False, 'followers_count': 0, 'friends_count': 0, 'listed_count': 0, 'created_at': 'Fri Jul 09 09:46:35 +0000 2021', 'favourites_count': 0, 'utc_offset': None, 'time_zone': None, 'geo_enabled': False, 'verified': False, 'statuses_count': 1, 'lang': None, 'contributors_enabled': False, 'is_translator': False, 'is_translation_enabled': False, 'profile_background_color': 'F5F8FA', 'profile_background_image_url': None, 'profile_background_image_url_https': None, 'profile_background_tile': False, 'profile_image_url': 'http://abs.twimg.com/sticky/default_profile_images/default_profile_normal.png', 'profile_image_url_https': 'https://abs.twimg.com/sticky/default_profile_images/default_profile_normal.png', 'profile_link_color': '1DA1F2', 'profile_sidebar_border_color': 'C0DEED', 'profile_sidebar_fill_color': 'DDEEF6', 'profile_text_color': '333333', 'profile_use_background_image': True, 'has_extended_profile': True, 'default_profile': True, 'default_profile_image': True, 'following': False, 'follow_request_sent': False, 'notifications': False, 'translator_type': 'none', 'withheld_in_countries': []}, id=1413434348670361603, id_str='1413434348670361603', name='Ben', screen_name='Ben94859836', location='', description='Test Account', url=None, entities={'description': {'urls': []}}, protected=False, followers_count=0, friends_count=0, listed_count=0, created_at=datetime.datetime(2021, 7, 9, 9, 46, 35), favourites_count=0, utc_offset=None, time_zone=None, geo_enabled=False, verified=False, statuses_count=1, lang=None, contributors_enabled=False, is_translator=False, is_translation_enabled=False, profile_background_color='F5F8FA', profile_background_image_url=None, profile_background_image_url_https=None, profile_background_tile=False, profile_image_url='http://abs.twimg.com/sticky/default_profile_images/default_profile_normal.png', profile_image_url_https='https://abs.twimg.com/sticky/default_profile_images/default_profile_normal.png', profile_link_color='1DA1F2', profile_sidebar_border_color='C0DEED', profile_sidebar_fill_color='DDEEF6', profile_text_color='333333', profile_use_background_image=True, has_extended_profile=True, default_profile=True, default_profile_image=True, following=False, follow_request_sent=False, notifications=False, translator_type='none', withheld_in_countries=[]), user=User(_api=<tweepy.api.API object at 0x000002209E2DD908>, _json={'id': 1413434348670361603, 'id_str': '1413434348670361603', 'name': 'Ben', 'screen_name': 'Ben94859836', 'location': '', 'description': 'Test Account', 'url': None, 'entities': {'description': {'urls': []}}, 'protected': False, 'followers_count': 0, 'friends_count': 0, 'listed_count': 0, 'created_at': 'Fri Jul 09 09:46:35 +0000 2021', 'favourites_count': 0, 'utc_offset': None, 'time_zone': None, 'geo_enabled': False, 'verified': False, 'statuses_count': 1, 'lang': None, 'contributors_enabled': False, 'is_translator': False, 'is_translation_enabled': False, 'profile_background_color': 'F5F8FA', 'profile_background_image_url': None, 'profile_background_image_url_https': None, 'profile_background_tile': False, 'profile_image_url': 'http://abs.twimg.com/sticky/default_profile_images/default_profile_normal.png', 'profile_image_url_https': 'https://abs.twimg.com/sticky/default_profile_images/default_profile_normal.png', 'profile_link_color': '1DA1F2', 'profile_sidebar_border_color': 'C0DEED', 'profile_sidebar_fill_color': 'DDEEF6', 'profile_text_color': '333333', 'profile_use_background_image': True, 'has_extended_profile': True, 'default_profile': True, 'default_profile_image': True, 'following': False, 'follow_request_sent': False, 'notifications': False, 'translator_type': 'none', 'withheld_in_countries': []}, id=1413434348670361603, id_str='1413434348670361603', name='Ben', screen_name='Ben94859836', location='', description='Test Account', url=None, entities={'description': {'urls': []}}, protected=False, followers_count=0, friends_count=0, listed_count=0, created_at=datetime.datetime(2021, 7, 9, 9, 46, 35), favourites_count=0, utc_offset=None, time_zone=None, geo_enabled=False, verified=False, statuses_count=1, lang=None, contributors_enabled=False, is_translator=False, is_translation_enabled=False, profile_background_color='F5F8FA', profile_background_image_url=None, profile_background_image_url_https=None, profile_background_tile=False, profile_image_url='http://abs.twimg.com/sticky/default_profile_images/default_profile_normal.png', profile_image_url_https='https://abs.twimg.com/sticky/default_profile_images/default_profile_normal.png', profile_link_color='1DA1F2', profile_sidebar_border_color='C0DEED', profile_sidebar_fill_color='DDEEF6', profile_text_color='333333', profile_use_background_image=True, has_extended_profile=True, default_profile=True, default_profile_image=True, following=False, follow_request_sent=False, notifications=False, translator_type='none', withheld_in_countries=[]), geo=None, coordinates=None, place=None, contributors=None, is_quote_status=False, retweet_count=0, favorite_count=0, favorited=False, retweeted=False, lang='en')"
      ]
     },
     "execution_count": 40,
     "metadata": {},
     "output_type": "execute_result"
    }
   ],
   "source": [
    "# status löschen\n",
    "new_status.destroy()"
   ]
  },
  {
   "cell_type": "code",
   "execution_count": 44,
   "metadata": {},
   "outputs": [],
   "source": [
    "# foto, videos hochladen auf twitter\n",
    "img_obj = api.media_upload(\"Quartiershelden.png\")"
   ]
  },
  {
   "cell_type": "code",
   "execution_count": 45,
   "metadata": {},
   "outputs": [
    {
     "data": {
      "text/plain": [
       "['__class__',\n",
       " '__delattr__',\n",
       " '__dict__',\n",
       " '__dir__',\n",
       " '__doc__',\n",
       " '__eq__',\n",
       " '__format__',\n",
       " '__ge__',\n",
       " '__getattribute__',\n",
       " '__getstate__',\n",
       " '__gt__',\n",
       " '__hash__',\n",
       " '__init__',\n",
       " '__init_subclass__',\n",
       " '__le__',\n",
       " '__lt__',\n",
       " '__module__',\n",
       " '__ne__',\n",
       " '__new__',\n",
       " '__reduce__',\n",
       " '__reduce_ex__',\n",
       " '__repr__',\n",
       " '__setattr__',\n",
       " '__sizeof__',\n",
       " '__str__',\n",
       " '__subclasshook__',\n",
       " '__weakref__',\n",
       " '_api',\n",
       " 'expires_after_secs',\n",
       " 'image',\n",
       " 'media_id',\n",
       " 'media_id_string',\n",
       " 'parse',\n",
       " 'parse_list',\n",
       " 'size']"
      ]
     },
     "execution_count": 45,
     "metadata": {},
     "output_type": "execute_result"
    }
   ],
   "source": [
    "# die möglische methoden anzeigen von img_obj anzeigen lassen\n",
    "dir(img_obj)"
   ]
  },
  {
   "cell_type": "code",
   "execution_count": 46,
   "metadata": {},
   "outputs": [],
   "source": [
    "#image_posten\n",
    "new_status = api.update_status(\"hallo Bottom-up, from @Ben94859836, what's up?\",media_ids=[img_obj.media_id_string])"
   ]
  },
  {
   "cell_type": "code",
   "execution_count": 249,
   "metadata": {},
   "outputs": [
    {
     "data": {
      "image/png": "[encoded data removed]",
      "text/plain": [
       "<PIL.PngImagePlugin.PngImageFile image mode=RGB size=613x643 at 0x220A3A0D088>"
      ]
     },
     "execution_count": 249,
     "metadata": {},
     "output_type": "execute_result"
    }
   ],
   "source": [
    "#....auf Twitter es sieht so aus\n",
    "from PIL import Image\n",
    "\n",
    "image = Image.open('post_image_resut.png')\n",
    "image.show()\n",
    "image"
   ]
  },
  {
   "cell_type": "code",
   "execution_count": 47,
   "metadata": {},
   "outputs": [
    {
     "data": {
      "text/plain": [
       "Status(_api=<tweepy.api.API object at 0x000002209E2DD908>, _json={'created_at': 'Mon Jul 12 08:03:35 +0000 2021', 'id': 1414495642030907392, 'id_str': '1414495642030907392', 'text': \"hallo Bottom-up, from @Ben94859836, what's up? https://t.co/96j7N0NRTa\", 'truncated': False, 'entities': {'hashtags': [], 'symbols': [], 'user_mentions': [{'screen_name': 'Ben94859836', 'name': 'Ben', 'id': 1413434348670361603, 'id_str': '1413434348670361603', 'indices': [22, 34]}], 'urls': [], 'media': [{'id': 1414495322257203202, 'id_str': '1414495322257203202', 'indices': [47, 70], 'media_url': 'http://pbs.twimg.com/media/E6FMAFOXoAI-mY5.png', 'media_url_https': 'https://pbs.twimg.com/media/E6FMAFOXoAI-mY5.png', 'url': 'https://t.co/96j7N0NRTa', 'display_url': 'pic.twitter.com/96j7N0NRTa', 'expanded_url': 'https://twitter.com/Ben94859836/status/1414495642030907392/photo/1', 'type': 'photo', 'sizes': {'small': {'w': 680, 'h': 206, 'resize': 'fit'}, 'large': {'w': 1391, 'h': 422, 'resize': 'fit'}, 'medium': {'w': 1200, 'h': 364, 'resize': 'fit'}, 'thumb': {'w': 150, 'h': 150, 'resize': 'crop'}}}]}, 'extended_entities': {'media': [{'id': 1414495322257203202, 'id_str': '1414495322257203202', 'indices': [47, 70], 'media_url': 'http://pbs.twimg.com/media/E6FMAFOXoAI-mY5.png', 'media_url_https': 'https://pbs.twimg.com/media/E6FMAFOXoAI-mY5.png', 'url': 'https://t.co/96j7N0NRTa', 'display_url': 'pic.twitter.com/96j7N0NRTa', 'expanded_url': 'https://twitter.com/Ben94859836/status/1414495642030907392/photo/1', 'type': 'photo', 'sizes': {'small': {'w': 680, 'h': 206, 'resize': 'fit'}, 'large': {'w': 1391, 'h': 422, 'resize': 'fit'}, 'medium': {'w': 1200, 'h': 364, 'resize': 'fit'}, 'thumb': {'w': 150, 'h': 150, 'resize': 'crop'}}}]}, 'source': '<a href=\"https://help.twitter.com/en/using-twitter/how-to-tweet#source-labels\" rel=\"nofollow\">armando_blue</a>', 'in_reply_to_status_id': None, 'in_reply_to_status_id_str': None, 'in_reply_to_user_id': None, 'in_reply_to_user_id_str': None, 'in_reply_to_screen_name': None, 'user': {'id': 1413434348670361603, 'id_str': '1413434348670361603', 'name': 'Ben', 'screen_name': 'Ben94859836', 'location': '', 'description': 'Test Account', 'url': None, 'entities': {'description': {'urls': []}}, 'protected': False, 'followers_count': 0, 'friends_count': 0, 'listed_count': 0, 'created_at': 'Fri Jul 09 09:46:35 +0000 2021', 'favourites_count': 0, 'utc_offset': None, 'time_zone': None, 'geo_enabled': False, 'verified': False, 'statuses_count': 1, 'lang': None, 'contributors_enabled': False, 'is_translator': False, 'is_translation_enabled': False, 'profile_background_color': 'F5F8FA', 'profile_background_image_url': None, 'profile_background_image_url_https': None, 'profile_background_tile': False, 'profile_image_url': 'http://abs.twimg.com/sticky/default_profile_images/default_profile_normal.png', 'profile_image_url_https': 'https://abs.twimg.com/sticky/default_profile_images/default_profile_normal.png', 'profile_link_color': '1DA1F2', 'profile_sidebar_border_color': 'C0DEED', 'profile_sidebar_fill_color': 'DDEEF6', 'profile_text_color': '333333', 'profile_use_background_image': True, 'has_extended_profile': True, 'default_profile': True, 'default_profile_image': True, 'following': False, 'follow_request_sent': False, 'notifications': False, 'translator_type': 'none', 'withheld_in_countries': []}, 'geo': None, 'coordinates': None, 'place': None, 'contributors': None, 'is_quote_status': False, 'retweet_count': 0, 'favorite_count': 0, 'favorited': False, 'retweeted': False, 'possibly_sensitive': False, 'lang': 'en'}, created_at=datetime.datetime(2021, 7, 12, 8, 3, 35), id=1414495642030907392, id_str='1414495642030907392', text=\"hallo Bottom-up, from @Ben94859836, what's up? https://t.co/96j7N0NRTa\", truncated=False, entities={'hashtags': [], 'symbols': [], 'user_mentions': [{'screen_name': 'Ben94859836', 'name': 'Ben', 'id': 1413434348670361603, 'id_str': '1413434348670361603', 'indices': [22, 34]}], 'urls': [], 'media': [{'id': 1414495322257203202, 'id_str': '1414495322257203202', 'indices': [47, 70], 'media_url': 'http://pbs.twimg.com/media/E6FMAFOXoAI-mY5.png', 'media_url_https': 'https://pbs.twimg.com/media/E6FMAFOXoAI-mY5.png', 'url': 'https://t.co/96j7N0NRTa', 'display_url': 'pic.twitter.com/96j7N0NRTa', 'expanded_url': 'https://twitter.com/Ben94859836/status/1414495642030907392/photo/1', 'type': 'photo', 'sizes': {'small': {'w': 680, 'h': 206, 'resize': 'fit'}, 'large': {'w': 1391, 'h': 422, 'resize': 'fit'}, 'medium': {'w': 1200, 'h': 364, 'resize': 'fit'}, 'thumb': {'w': 150, 'h': 150, 'resize': 'crop'}}}]}, extended_entities={'media': [{'id': 1414495322257203202, 'id_str': '1414495322257203202', 'indices': [47, 70], 'media_url': 'http://pbs.twimg.com/media/E6FMAFOXoAI-mY5.png', 'media_url_https': 'https://pbs.twimg.com/media/E6FMAFOXoAI-mY5.png', 'url': 'https://t.co/96j7N0NRTa', 'display_url': 'pic.twitter.com/96j7N0NRTa', 'expanded_url': 'https://twitter.com/Ben94859836/status/1414495642030907392/photo/1', 'type': 'photo', 'sizes': {'small': {'w': 680, 'h': 206, 'resize': 'fit'}, 'large': {'w': 1391, 'h': 422, 'resize': 'fit'}, 'medium': {'w': 1200, 'h': 364, 'resize': 'fit'}, 'thumb': {'w': 150, 'h': 150, 'resize': 'crop'}}}]}, source='armando_blue', source_url='https://help.twitter.com/en/using-twitter/how-to-tweet#source-labels', in_reply_to_status_id=None, in_reply_to_status_id_str=None, in_reply_to_user_id=None, in_reply_to_user_id_str=None, in_reply_to_screen_name=None, author=User(_api=<tweepy.api.API object at 0x000002209E2DD908>, _json={'id': 1413434348670361603, 'id_str': '1413434348670361603', 'name': 'Ben', 'screen_name': 'Ben94859836', 'location': '', 'description': 'Test Account', 'url': None, 'entities': {'description': {'urls': []}}, 'protected': False, 'followers_count': 0, 'friends_count': 0, 'listed_count': 0, 'created_at': 'Fri Jul 09 09:46:35 +0000 2021', 'favourites_count': 0, 'utc_offset': None, 'time_zone': None, 'geo_enabled': False, 'verified': False, 'statuses_count': 1, 'lang': None, 'contributors_enabled': False, 'is_translator': False, 'is_translation_enabled': False, 'profile_background_color': 'F5F8FA', 'profile_background_image_url': None, 'profile_background_image_url_https': None, 'profile_background_tile': False, 'profile_image_url': 'http://abs.twimg.com/sticky/default_profile_images/default_profile_normal.png', 'profile_image_url_https': 'https://abs.twimg.com/sticky/default_profile_images/default_profile_normal.png', 'profile_link_color': '1DA1F2', 'profile_sidebar_border_color': 'C0DEED', 'profile_sidebar_fill_color': 'DDEEF6', 'profile_text_color': '333333', 'profile_use_background_image': True, 'has_extended_profile': True, 'default_profile': True, 'default_profile_image': True, 'following': False, 'follow_request_sent': False, 'notifications': False, 'translator_type': 'none', 'withheld_in_countries': []}, id=1413434348670361603, id_str='1413434348670361603', name='Ben', screen_name='Ben94859836', location='', description='Test Account', url=None, entities={'description': {'urls': []}}, protected=False, followers_count=0, friends_count=0, listed_count=0, created_at=datetime.datetime(2021, 7, 9, 9, 46, 35), favourites_count=0, utc_offset=None, time_zone=None, geo_enabled=False, verified=False, statuses_count=1, lang=None, contributors_enabled=False, is_translator=False, is_translation_enabled=False, profile_background_color='F5F8FA', profile_background_image_url=None, profile_background_image_url_https=None, profile_background_tile=False, profile_image_url='http://abs.twimg.com/sticky/default_profile_images/default_profile_normal.png', profile_image_url_https='https://abs.twimg.com/sticky/default_profile_images/default_profile_normal.png', profile_link_color='1DA1F2', profile_sidebar_border_color='C0DEED', profile_sidebar_fill_color='DDEEF6', profile_text_color='333333', profile_use_background_image=True, has_extended_profile=True, default_profile=True, default_profile_image=True, following=False, follow_request_sent=False, notifications=False, translator_type='none', withheld_in_countries=[]), user=User(_api=<tweepy.api.API object at 0x000002209E2DD908>, _json={'id': 1413434348670361603, 'id_str': '1413434348670361603', 'name': 'Ben', 'screen_name': 'Ben94859836', 'location': '', 'description': 'Test Account', 'url': None, 'entities': {'description': {'urls': []}}, 'protected': False, 'followers_count': 0, 'friends_count': 0, 'listed_count': 0, 'created_at': 'Fri Jul 09 09:46:35 +0000 2021', 'favourites_count': 0, 'utc_offset': None, 'time_zone': None, 'geo_enabled': False, 'verified': False, 'statuses_count': 1, 'lang': None, 'contributors_enabled': False, 'is_translator': False, 'is_translation_enabled': False, 'profile_background_color': 'F5F8FA', 'profile_background_image_url': None, 'profile_background_image_url_https': None, 'profile_background_tile': False, 'profile_image_url': 'http://abs.twimg.com/sticky/default_profile_images/default_profile_normal.png', 'profile_image_url_https': 'https://abs.twimg.com/sticky/default_profile_images/default_profile_normal.png', 'profile_link_color': '1DA1F2', 'profile_sidebar_border_color': 'C0DEED', 'profile_sidebar_fill_color': 'DDEEF6', 'profile_text_color': '333333', 'profile_use_background_image': True, 'has_extended_profile': True, 'default_profile': True, 'default_profile_image': True, 'following': False, 'follow_request_sent': False, 'notifications': False, 'translator_type': 'none', 'withheld_in_countries': []}, id=1413434348670361603, id_str='1413434348670361603', name='Ben', screen_name='Ben94859836', location='', description='Test Account', url=None, entities={'description': {'urls': []}}, protected=False, followers_count=0, friends_count=0, listed_count=0, created_at=datetime.datetime(2021, 7, 9, 9, 46, 35), favourites_count=0, utc_offset=None, time_zone=None, geo_enabled=False, verified=False, statuses_count=1, lang=None, contributors_enabled=False, is_translator=False, is_translation_enabled=False, profile_background_color='F5F8FA', profile_background_image_url=None, profile_background_image_url_https=None, profile_background_tile=False, profile_image_url='http://abs.twimg.com/sticky/default_profile_images/default_profile_normal.png', profile_image_url_https='https://abs.twimg.com/sticky/default_profile_images/default_profile_normal.png', profile_link_color='1DA1F2', profile_sidebar_border_color='C0DEED', profile_sidebar_fill_color='DDEEF6', profile_text_color='333333', profile_use_background_image=True, has_extended_profile=True, default_profile=True, default_profile_image=True, following=False, follow_request_sent=False, notifications=False, translator_type='none', withheld_in_countries=[]), geo=None, coordinates=None, place=None, contributors=None, is_quote_status=False, retweet_count=0, favorite_count=0, favorited=False, retweeted=False, possibly_sensitive=False, lang='en')"
      ]
     },
     "execution_count": 47,
     "metadata": {},
     "output_type": "execute_result"
    }
   ],
   "source": [
    "#image löschen\n",
    "new_status.destroy()"
   ]
  },
  {
   "cell_type": "markdown",
   "metadata": {},
   "source": [
    "## Timeline und userTimeline"
   ]
  },
  {
   "cell_type": "code",
   "execution_count": 72,
   "metadata": {},
   "outputs": [],
   "source": [
    "\"\"\"\n",
    "Mein Twitter Timelines mit einem objekt zuweisen\n",
    "\"\"\"\n",
    "my_timeline = api.home_timeline()"
   ]
  },
  {
   "cell_type": "code",
   "execution_count": 73,
   "metadata": {},
   "outputs": [],
   "source": [
    "\"\"\"\n",
    "Mein time lines Anzeigen\n",
    "\"\"\"\n",
    "#print(my_timeline)"
   ]
  },
  {
   "cell_type": "code",
   "execution_count": 93,
   "metadata": {},
   "outputs": [],
   "source": [
    "\"\"\"\n",
    "in Diese Code Logik es wurde die notwendige Keys genommen wenn jeder Tweets\n",
    "\"user\" und \"Austhor\" sind zwei hinzpfpgte zusätsliche Keys\n",
    "\"\"\"\n",
    "\n",
    "columns = set()\n",
    "allowed_types = [str , int]\n",
    "tweets_data=[]\n",
    "\n",
    "for status in my_timeline:\n",
    "    #print(type(vars(status)))\n",
    "    status_dict = dict(vars(status))\n",
    "    keys = status_dict.keys()\n",
    "    single_tweet_data={\"user\":status.user.screen_name,\"author\":status.author.screen_name}\n",
    "    for k in keys:\n",
    "        try:\n",
    "            v_type = type(status_dict[k])\n",
    "        except:\n",
    "            v_type = None\n",
    "        if v_type !=None:\n",
    "            if v_type in allowed_types:\n",
    "                #print(k)\n",
    "                single_tweet_data[k] = status_dict[k]\n",
    "                columns.add(k)\n",
    "    tweets_data=[single_tweet_data]\n",
    "header_cols = list(columns)\n",
    "header_cols.append(\"user\")\n",
    "header_cols.append(\"author\")"
   ]
  },
  {
   "cell_type": "code",
   "execution_count": 94,
   "metadata": {},
   "outputs": [
    {
     "data": {
      "text/plain": [
       "[{'user': 'ZDF',\n",
       "  'author': 'ZDF',\n",
       "  'id': 1414351720805769221,\n",
       "  'id_str': '1414351720805769221',\n",
       "  'text': 'Wenn du mit deinem Tipp mal wieder richtig gelegen hast. 😉\\n\\n#ENGITA #EURO2020 #EURO2020Final https://t.co/F31fW2LKB9',\n",
       "  'source': 'TweetDeck',\n",
       "  'source_url': 'https://about.twitter.com/products/tweetdeck',\n",
       "  'retweet_count': 6,\n",
       "  'favorite_count': 241,\n",
       "  'lang': 'de'}]"
      ]
     },
     "execution_count": 94,
     "metadata": {},
     "output_type": "execute_result"
    }
   ],
   "source": [
    "\"\"\"\n",
    "Beispiel Ergebniss\n",
    "\"\"\"\n",
    "tweets_data"
   ]
  },
  {
   "cell_type": "code",
   "execution_count": 95,
   "metadata": {},
   "outputs": [
    {
     "data": {
      "text/html": [
       "<div>\n",
       "<style scoped>\n",
       "    .dataframe tbody tr th:only-of-type {\n",
       "        vertical-align: middle;\n",
       "    }\n",
       "\n",
       "    .dataframe tbody tr th {\n",
       "        vertical-align: top;\n",
       "    }\n",
       "\n",
       "    .dataframe thead th {\n",
       "        text-align: right;\n",
       "    }\n",
       "</style>\n",
       "<table border=\"1\" class=\"dataframe\">\n",
       "  <thead>\n",
       "    <tr style=\"text-align: right;\">\n",
       "      <th></th>\n",
       "      <th>lang</th>\n",
       "      <th>source</th>\n",
       "      <th>text</th>\n",
       "      <th>source_url</th>\n",
       "      <th>id_str</th>\n",
       "      <th>retweet_count</th>\n",
       "      <th>id</th>\n",
       "      <th>favorite_count</th>\n",
       "      <th>user</th>\n",
       "      <th>author</th>\n",
       "    </tr>\n",
       "  </thead>\n",
       "  <tbody>\n",
       "    <tr>\n",
       "      <th>0</th>\n",
       "      <td>de</td>\n",
       "      <td>TweetDeck</td>\n",
       "      <td>Wenn du mit deinem Tipp mal wieder richtig gel...</td>\n",
       "      <td>https://about.twitter.com/products/tweetdeck</td>\n",
       "      <td>1414351720805769221</td>\n",
       "      <td>6</td>\n",
       "      <td>1414351720805769221</td>\n",
       "      <td>241</td>\n",
       "      <td>ZDF</td>\n",
       "      <td>ZDF</td>\n",
       "    </tr>\n",
       "  </tbody>\n",
       "</table>\n",
       "</div>"
      ],
      "text/plain": [
       "  lang     source                                               text  \\\n",
       "0   de  TweetDeck  Wenn du mit deinem Tipp mal wieder richtig gel...   \n",
       "\n",
       "                                     source_url               id_str  \\\n",
       "0  https://about.twitter.com/products/tweetdeck  1414351720805769221   \n",
       "\n",
       "   retweet_count                   id  favorite_count user author  \n",
       "0              6  1414351720805769221             241  ZDF    ZDF  "
      ]
     },
     "execution_count": 95,
     "metadata": {},
     "output_type": "execute_result"
    }
   ],
   "source": [
    "\"\"\"\n",
    "Die Tweets in a DataFrame umwandeln\n",
    "\"\"\"\n",
    "df=pd.DataFrame(tweets_data,columns = header_cols)\n",
    "df"
   ]
  },
  {
   "cell_type": "code",
   "execution_count": 102,
   "metadata": {},
   "outputs": [],
   "source": [
    "\"\"\"\n",
    "Die vorher Code logik in eine Funktion zusammenfassen\n",
    "\"\"\"\n",
    "def extract_timeline_as_df(timeline_list):\n",
    "    columns = set()\n",
    "    allowed_types = [str, int]\n",
    "    tweets_data = []\n",
    "    for status in timeline_list:\n",
    "        status_dict = dict(vars(status))\n",
    "        keys = status_dict.keys()\n",
    "        single_tweet_data = {\"user\": status.user.screen_name, \"author\": status.author.screen_name}\n",
    "        for k in keys:\n",
    "            try:\n",
    "                v_type = type(status_dict[k])\n",
    "            except:\n",
    "                v_type = None\n",
    "            if v_type != None:\n",
    "                if v_type in allowed_types:\n",
    "                    single_tweet_data[k] = status_dict[k]\n",
    "                    columns.add(k)\n",
    "        tweets_data.append(single_tweet_data)\n",
    "\n",
    "\n",
    "    header_cols = list(columns)\n",
    "    header_cols.append(\"user\")\n",
    "    header_cols.append('author')\n",
    "    df = pd.DataFrame(tweets_data, columns=header_cols)\n",
    "    return df\n",
    "    "
   ]
  },
  {
   "cell_type": "code",
   "execution_count": 103,
   "metadata": {},
   "outputs": [],
   "source": [
    "\"\"\"\n",
    "Meine TimeLine noch aufufen (mit der zeit wird es in twitter mehr timeline hinzüfügt)\n",
    "\"\"\"\n",
    "my_timeline = api.home_timeline()"
   ]
  },
  {
   "cell_type": "code",
   "execution_count": 104,
   "metadata": {},
   "outputs": [],
   "source": [
    "\"\"\"\n",
    "die timelines anzeigen in  DataFrame form\n",
    "\"\"\"\n",
    "df2 = extract_timeline_as_df(my_timeline)"
   ]
  },
  {
   "cell_type": "code",
   "execution_count": 106,
   "metadata": {},
   "outputs": [
    {
     "data": {
      "text/html": [
       "<div>\n",
       "<style scoped>\n",
       "    .dataframe tbody tr th:only-of-type {\n",
       "        vertical-align: middle;\n",
       "    }\n",
       "\n",
       "    .dataframe tbody tr th {\n",
       "        vertical-align: top;\n",
       "    }\n",
       "\n",
       "    .dataframe thead th {\n",
       "        text-align: right;\n",
       "    }\n",
       "</style>\n",
       "<table border=\"1\" class=\"dataframe\">\n",
       "  <thead>\n",
       "    <tr style=\"text-align: right;\">\n",
       "      <th></th>\n",
       "      <th>lang</th>\n",
       "      <th>source</th>\n",
       "      <th>text</th>\n",
       "      <th>source_url</th>\n",
       "      <th>id_str</th>\n",
       "      <th>retweet_count</th>\n",
       "      <th>id</th>\n",
       "      <th>favorite_count</th>\n",
       "      <th>user</th>\n",
       "      <th>author</th>\n",
       "    </tr>\n",
       "  </thead>\n",
       "  <tbody>\n",
       "    <tr>\n",
       "      <th>0</th>\n",
       "      <td>de</td>\n",
       "      <td>Twitter for iPhone</td>\n",
       "      <td>RT @sportstudio: Der Fan-Sturm auf das Wembley...</td>\n",
       "      <td>http://twitter.com/download/iphone</td>\n",
       "      <td>1414503677453291522</td>\n",
       "      <td>5</td>\n",
       "      <td>1414503677453291522</td>\n",
       "      <td>0</td>\n",
       "      <td>ZDF</td>\n",
       "      <td>ZDF</td>\n",
       "    </tr>\n",
       "    <tr>\n",
       "      <th>1</th>\n",
       "      <td>de</td>\n",
       "      <td>tagesschau.de</td>\n",
       "      <td>Ballstädt-Prozess: Bewährungsstrafen für Neona...</td>\n",
       "      <td>http://www.tagesschau.de</td>\n",
       "      <td>1414502690088960005</td>\n",
       "      <td>1</td>\n",
       "      <td>1414502690088960005</td>\n",
       "      <td>7</td>\n",
       "      <td>tagesschau</td>\n",
       "      <td>tagesschau</td>\n",
       "    </tr>\n",
       "    <tr>\n",
       "      <th>2</th>\n",
       "      <td>de</td>\n",
       "      <td>tagesschau.de</td>\n",
       "      <td>Autoindustrie will Vorgaben für mehr Ladeinfra...</td>\n",
       "      <td>http://www.tagesschau.de</td>\n",
       "      <td>1414502404393996289</td>\n",
       "      <td>8</td>\n",
       "      <td>1414502404393996289</td>\n",
       "      <td>14</td>\n",
       "      <td>tagesschau</td>\n",
       "      <td>tagesschau</td>\n",
       "    </tr>\n",
       "    <tr>\n",
       "      <th>3</th>\n",
       "      <td>de</td>\n",
       "      <td>tagesschau.de</td>\n",
       "      <td>EURO 2020: Englische Fehlschützen rassistisch ...</td>\n",
       "      <td>http://www.tagesschau.de</td>\n",
       "      <td>1414502232897302528</td>\n",
       "      <td>4</td>\n",
       "      <td>1414502232897302528</td>\n",
       "      <td>31</td>\n",
       "      <td>tagesschau</td>\n",
       "      <td>tagesschau</td>\n",
       "    </tr>\n",
       "    <tr>\n",
       "      <th>4</th>\n",
       "      <td>de</td>\n",
       "      <td>tagesschau.de</td>\n",
       "      <td>Manganknollen aus der Tiefsee bergen wertvolle...</td>\n",
       "      <td>http://www.tagesschau.de</td>\n",
       "      <td>1414490856502042624</td>\n",
       "      <td>6</td>\n",
       "      <td>1414490856502042624</td>\n",
       "      <td>29</td>\n",
       "      <td>tagesschau</td>\n",
       "      <td>tagesschau</td>\n",
       "    </tr>\n",
       "  </tbody>\n",
       "</table>\n",
       "</div>"
      ],
      "text/plain": [
       "  lang              source                                               text  \\\n",
       "0   de  Twitter for iPhone  RT @sportstudio: Der Fan-Sturm auf das Wembley...   \n",
       "1   de       tagesschau.de  Ballstädt-Prozess: Bewährungsstrafen für Neona...   \n",
       "2   de       tagesschau.de  Autoindustrie will Vorgaben für mehr Ladeinfra...   \n",
       "3   de       tagesschau.de  EURO 2020: Englische Fehlschützen rassistisch ...   \n",
       "4   de       tagesschau.de  Manganknollen aus der Tiefsee bergen wertvolle...   \n",
       "\n",
       "                           source_url               id_str  retweet_count  \\\n",
       "0  http://twitter.com/download/iphone  1414503677453291522              5   \n",
       "1            http://www.tagesschau.de  1414502690088960005              1   \n",
       "2            http://www.tagesschau.de  1414502404393996289              8   \n",
       "3            http://www.tagesschau.de  1414502232897302528              4   \n",
       "4            http://www.tagesschau.de  1414490856502042624              6   \n",
       "\n",
       "                    id  favorite_count        user      author  \n",
       "0  1414503677453291522               0         ZDF         ZDF  \n",
       "1  1414502690088960005               7  tagesschau  tagesschau  \n",
       "2  1414502404393996289              14  tagesschau  tagesschau  \n",
       "3  1414502232897302528              31  tagesschau  tagesschau  \n",
       "4  1414490856502042624              29  tagesschau  tagesschau  "
      ]
     },
     "execution_count": 106,
     "metadata": {},
     "output_type": "execute_result"
    }
   ],
   "source": [
    "\"\"\"\n",
    "die DataFrame Anzeigen\n",
    "\"\"\"\n",
    "df2.head()"
   ]
  },
  {
   "cell_type": "code",
   "execution_count": 112,
   "metadata": {},
   "outputs": [],
   "source": [
    "# timeline andere user anschauen\n",
    "user = api.get_user(\"tagesschau\")"
   ]
  },
  {
   "cell_type": "code",
   "execution_count": 113,
   "metadata": {},
   "outputs": [
    {
     "data": {
      "text/html": [
       "<div>\n",
       "<style scoped>\n",
       "    .dataframe tbody tr th:only-of-type {\n",
       "        vertical-align: middle;\n",
       "    }\n",
       "\n",
       "    .dataframe tbody tr th {\n",
       "        vertical-align: top;\n",
       "    }\n",
       "\n",
       "    .dataframe thead th {\n",
       "        text-align: right;\n",
       "    }\n",
       "</style>\n",
       "<table border=\"1\" class=\"dataframe\">\n",
       "  <thead>\n",
       "    <tr style=\"text-align: right;\">\n",
       "      <th></th>\n",
       "      <th>lang</th>\n",
       "      <th>source</th>\n",
       "      <th>text</th>\n",
       "      <th>source_url</th>\n",
       "      <th>id_str</th>\n",
       "      <th>retweet_count</th>\n",
       "      <th>id</th>\n",
       "      <th>favorite_count</th>\n",
       "      <th>user</th>\n",
       "      <th>author</th>\n",
       "    </tr>\n",
       "  </thead>\n",
       "  <tbody>\n",
       "    <tr>\n",
       "      <th>0</th>\n",
       "      <td>de</td>\n",
       "      <td>tagesschau.de</td>\n",
       "      <td>Ballstädt-Prozess: Bewährungsstrafen für Neona...</td>\n",
       "      <td>http://www.tagesschau.de</td>\n",
       "      <td>1414502690088960005</td>\n",
       "      <td>8</td>\n",
       "      <td>1414502690088960005</td>\n",
       "      <td>14</td>\n",
       "      <td>tagesschau</td>\n",
       "      <td>tagesschau</td>\n",
       "    </tr>\n",
       "    <tr>\n",
       "      <th>1</th>\n",
       "      <td>de</td>\n",
       "      <td>tagesschau.de</td>\n",
       "      <td>Autoindustrie will Vorgaben für mehr Ladeinfra...</td>\n",
       "      <td>http://www.tagesschau.de</td>\n",
       "      <td>1414502404393996289</td>\n",
       "      <td>8</td>\n",
       "      <td>1414502404393996289</td>\n",
       "      <td>16</td>\n",
       "      <td>tagesschau</td>\n",
       "      <td>tagesschau</td>\n",
       "    </tr>\n",
       "    <tr>\n",
       "      <th>2</th>\n",
       "      <td>de</td>\n",
       "      <td>tagesschau.de</td>\n",
       "      <td>EURO 2020: Englische Fehlschützen rassistisch ...</td>\n",
       "      <td>http://www.tagesschau.de</td>\n",
       "      <td>1414502232897302528</td>\n",
       "      <td>12</td>\n",
       "      <td>1414502232897302528</td>\n",
       "      <td>83</td>\n",
       "      <td>tagesschau</td>\n",
       "      <td>tagesschau</td>\n",
       "    </tr>\n",
       "    <tr>\n",
       "      <th>3</th>\n",
       "      <td>de</td>\n",
       "      <td>tagesschau.de</td>\n",
       "      <td>Manganknollen aus der Tiefsee bergen wertvolle...</td>\n",
       "      <td>http://www.tagesschau.de</td>\n",
       "      <td>1414490856502042624</td>\n",
       "      <td>6</td>\n",
       "      <td>1414490856502042624</td>\n",
       "      <td>31</td>\n",
       "      <td>tagesschau</td>\n",
       "      <td>tagesschau</td>\n",
       "    </tr>\n",
       "    <tr>\n",
       "      <th>4</th>\n",
       "      <td>de</td>\n",
       "      <td>tagesschau.de</td>\n",
       "      <td>Konjunktursorgen nehmen wieder zu https://t.co...</td>\n",
       "      <td>http://www.tagesschau.de</td>\n",
       "      <td>1414489928638025730</td>\n",
       "      <td>4</td>\n",
       "      <td>1414489928638025730</td>\n",
       "      <td>15</td>\n",
       "      <td>tagesschau</td>\n",
       "      <td>tagesschau</td>\n",
       "    </tr>\n",
       "  </tbody>\n",
       "</table>\n",
       "</div>"
      ],
      "text/plain": [
       "  lang         source                                               text  \\\n",
       "0   de  tagesschau.de  Ballstädt-Prozess: Bewährungsstrafen für Neona...   \n",
       "1   de  tagesschau.de  Autoindustrie will Vorgaben für mehr Ladeinfra...   \n",
       "2   de  tagesschau.de  EURO 2020: Englische Fehlschützen rassistisch ...   \n",
       "3   de  tagesschau.de  Manganknollen aus der Tiefsee bergen wertvolle...   \n",
       "4   de  tagesschau.de  Konjunktursorgen nehmen wieder zu https://t.co...   \n",
       "\n",
       "                 source_url               id_str  retweet_count  \\\n",
       "0  http://www.tagesschau.de  1414502690088960005              8   \n",
       "1  http://www.tagesschau.de  1414502404393996289              8   \n",
       "2  http://www.tagesschau.de  1414502232897302528             12   \n",
       "3  http://www.tagesschau.de  1414490856502042624              6   \n",
       "4  http://www.tagesschau.de  1414489928638025730              4   \n",
       "\n",
       "                    id  favorite_count        user      author  \n",
       "0  1414502690088960005              14  tagesschau  tagesschau  \n",
       "1  1414502404393996289              16  tagesschau  tagesschau  \n",
       "2  1414502232897302528              83  tagesschau  tagesschau  \n",
       "3  1414490856502042624              31  tagesschau  tagesschau  \n",
       "4  1414489928638025730              15  tagesschau  tagesschau  "
      ]
     },
     "execution_count": 113,
     "metadata": {},
     "output_type": "execute_result"
    }
   ],
   "source": [
    "user_timeline = user.timeline()\n",
    "df3= extract_timeline_as_df(user_timeline)\n",
    "df3.head()"
   ]
  },
  {
   "cell_type": "code",
   "execution_count": 111,
   "metadata": {},
   "outputs": [
    {
     "data": {
      "text/plain": [
       "'England verliert Finale der EURO 2020 gegen Italien https://t.co/GASZRLsaF3 #EMFinale #England #Italien'"
      ]
     },
     "execution_count": 111,
     "metadata": {},
     "output_type": "execute_result"
    }
   ],
   "source": [
    "\"\"\"\n",
    "ein status aufrufen durch ein Pin nummer\n",
    "\"\"\"\n",
    "status_obj = api.get_status(\"1414468027370856448\")\n",
    "status_obj.text\n"
   ]
  },
  {
   "cell_type": "code",
   "execution_count": 124,
   "metadata": {},
   "outputs": [],
   "source": [
    "# interaktions mit der tweets (Like , dislike, comment tweets)\n",
    "#api.create_favorite(\"1414468027370856448\") like\n",
    "#api.destroy_favorite(\"1414468027370856448\") dislike"
   ]
  },
  {
   "cell_type": "code",
   "execution_count": 252,
   "metadata": {},
   "outputs": [
    {
     "data": {
      "image/png": "[encoded data removed]",
      "text/plain": [
       "<PIL.PngImagePlugin.PngImageFile image mode=RGB size=234x257 at 0x220A3A10708>"
      ]
     },
     "execution_count": 252,
     "metadata": {},
     "output_type": "execute_result"
    }
   ],
   "source": [
    "from PIL import Image\n",
    "\n",
    "image = Image.open('Like_statement.png')\n",
    "image.show()\n",
    "image"
   ]
  },
  {
   "cell_type": "markdown",
   "metadata": {},
   "source": [
    "## tweets  von einem user analysieren ( als beispiel ZDF twitter account)"
   ]
  },
  {
   "cell_type": "code",
   "execution_count": 184,
   "metadata": {},
   "outputs": [],
   "source": [
    "zdf_tweets =  api.user_timeline(screen_name=\"ZDF\",count=200) # die letste 200 tweets importieren"
   ]
  },
  {
   "cell_type": "code",
   "execution_count": 187,
   "metadata": {},
   "outputs": [
    {
     "name": "stdout",
     "output_type": "stream",
     "text": [
      "zahl der tweets diese account ist 200\n"
     ]
    }
   ],
   "source": [
    "print(f\"zahl der tweets diese account ist {len(zdf_tweets)}\")"
   ]
  },
  {
   "cell_type": "code",
   "execution_count": 214,
   "metadata": {},
   "outputs": [
    {
     "name": "stdout",
     "output_type": "stream",
     "text": [
      "Collecting jsonpickle\n",
      "  Downloading jsonpickle-2.0.0-py2.py3-none-any.whl (37 kB)\n",
      "Requirement already satisfied: importlib-metadata in c:\\users\\akademie\\anaconda3\\lib\\site-packages (from jsonpickle) (4.5.0)\n",
      "Requirement already satisfied: typing-extensions>=3.6.4 in c:\\users\\akademie\\anaconda3\\lib\\site-packages (from importlib-metadata->jsonpickle) (3.10.0.0)\n",
      "Requirement already satisfied: zipp>=0.5 in c:\\users\\akademie\\anaconda3\\lib\\site-packages (from importlib-metadata->jsonpickle) (2.2.0)\n",
      "Installing collected packages: jsonpickle\n",
      "Successfully installed jsonpickle-2.0.0\n"
     ]
    },
    {
     "name": "stderr",
     "output_type": "stream",
     "text": [
      "WARNING: Ignoring invalid distribution -umpy (c:\\users\\akademie\\anaconda3\\lib\\site-packages)\n",
      "WARNING: Ignoring invalid distribution -umpy (c:\\users\\akademie\\anaconda3\\lib\\site-packages)\n",
      "WARNING: Ignoring invalid distribution -umpy (c:\\users\\akademie\\anaconda3\\lib\\site-packages)\n",
      "WARNING: Ignoring invalid distribution -umpy (c:\\users\\akademie\\anaconda3\\lib\\site-packages)\n",
      "WARNING: Ignoring invalid distribution -umpy (c:\\users\\akademie\\anaconda3\\lib\\site-packages)\n",
      "WARNING: Ignoring invalid distribution -umpy (c:\\users\\akademie\\anaconda3\\lib\\site-packages)\n",
      "WARNING: Ignoring invalid distribution -umpy (c:\\users\\akademie\\anaconda3\\lib\\site-packages)\n"
     ]
    }
   ],
   "source": [
    "\"\"\"\n",
    "jsonpickler ist eine Python-Bibliothek zur Serialisierung und Deserialisierung von komplexem Python objekten\n",
    "Links ==> https://jsonpickle.readthedocs.io/en/latest/\n",
    "\"\"\"\n",
    "!pip install jsonpickle"
   ]
  },
  {
   "cell_type": "code",
   "execution_count": 215,
   "metadata": {},
   "outputs": [
    {
     "name": "stdout",
     "output_type": "stream",
     "text": [
      "{\n",
      "    \"py/object\": \"tweepy.models.Status\",\n",
      "    \"py/state\": {\n",
      "        \"_json\": {\n",
      "            \"created_at\": \"Tue Jul 13 09:36:40 +0000 2021\",\n",
      "            \"id\": 1414881455591890946,\n",
      "            \"id_str\": \"1414881455591890946\",\n",
      "            \"text\": \"Falls ihr jetzt Lust darauf bekommen habt, l\\u00e4nger in Erinnerung an Kindheitshelden zu schwelgen, gibt's hier mehr v\\u2026 https://t.co/HJuFUSMIh7\",\n",
      "            \"truncated\": true,\n",
      "            \"entities\": {\n",
      "                \"hashtags\": [],\n",
      "                \"symbols\": [],\n",
      "                \"user_mentions\": [],\n",
      "                \"urls\": [\n",
      "                    {\n",
      "                        \"url\": \"https://t.co/HJuFUSMIh7\",\n",
      "                        \"expanded_url\": \"https://twitter.com/i/web/status/1414881455591890946\",\n",
      "                        \"display_url\": \"twitter.com/i/web/status/1\\u2026\",\n",
      "                        \"indices\": [\n",
      "                            117,\n",
      "                            140\n",
      "                        ]\n",
      "                    }\n",
      "                ]\n",
      "            },\n",
      "            \"source\": \"<a href=\\\"https://swat.io/\\\" rel=\\\"nofollow\\\">Swat.io</a>\",\n",
      "            \"in_reply_to_status_id\": 1414881453700263941,\n",
      "            \"in_reply_to_status_id_str\": \"1414881453700263941\",\n",
      "            \"in_reply_to_user_id\": 57350105,\n",
      "            \"in_reply_to_user_id_str\": \"57350105\",\n",
      "            \"in_reply_to_screen_name\": \"ZDF\",\n",
      "            \"user\": {\n",
      "                \"id\": 57350105,\n",
      "                \"id_str\": \"57350105\",\n",
      "                \"name\": \"ZDF\",\n",
      "                \"screen_name\": \"ZDF\",\n",
      "                \"location\": \"Mainz / Deutschland\",\n",
      "                \"description\": \"Neuigkeiten rund um das ZDF | Impressum und Netiquette: https://t.co/uF9M52YeFp\",\n",
      "                \"url\": \"https://t.co/fmjodfWxET\",\n",
      "                \"entities\": {\n",
      "                    \"url\": {\n",
      "                        \"urls\": [\n",
      "                            {\n",
      "                                \"url\": \"https://t.co/fmjodfWxET\",\n",
      "                                \"expanded_url\": \"http://www.zdf.de\",\n",
      "                                \"display_url\": \"zdf.de\",\n",
      "                                \"indices\": [\n",
      "                                    0,\n",
      "                                    23\n",
      "                                ]\n",
      "                            }\n",
      "                        ]\n",
      "                    },\n",
      "                    \"description\": {\n",
      "                        \"urls\": [\n",
      "                            {\n",
      "                                \"url\": \"https://t.co/uF9M52YeFp\",\n",
      "                                \"expanded_url\": \"http://kurz.zdf.de/social/\",\n",
      "                                \"display_url\": \"kurz.zdf.de/social/\",\n",
      "                                \"indices\": [\n",
      "                                    56,\n",
      "                                    79\n",
      "                                ]\n",
      "                            }\n",
      "                        ]\n",
      "                    }\n",
      "                },\n",
      "                \"protected\": false,\n",
      "                \"followers_count\": 1289555,\n",
      "                \"friends_count\": 411,\n",
      "                \"listed_count\": 5570,\n",
      "                \"created_at\": \"Thu Jul 16 14:37:58 +0000 2009\",\n",
      "                \"favourites_count\": 24876,\n",
      "                \"utc_offset\": null,\n",
      "                \"time_zone\": null,\n",
      "                \"geo_enabled\": true,\n",
      "                \"verified\": true,\n",
      "                \"statuses_count\": 189156,\n",
      "                \"lang\": null,\n",
      "                \"contributors_enabled\": false,\n",
      "                \"is_translator\": false,\n",
      "                \"is_translation_enabled\": false,\n",
      "                \"profile_background_color\": \"A1A1A1\",\n",
      "                \"profile_background_image_url\": \"http://abs.twimg.com/images/themes/theme1/bg.png\",\n",
      "                \"profile_background_image_url_https\": \"https://abs.twimg.com/images/themes/theme1/bg.png\",\n",
      "                \"profile_background_tile\": false,\n",
      "                \"profile_image_url\": \"http://pbs.twimg.com/profile_images/609771341718388738/TdrV1KOa_normal.png\",\n",
      "                \"profile_image_url_https\": \"https://pbs.twimg.com/profile_images/609771341718388738/TdrV1KOa_normal.png\",\n",
      "                \"profile_banner_url\": \"https://pbs.twimg.com/profile_banners/57350105/1594207242\",\n",
      "                \"profile_link_color\": \"FA7E19\",\n",
      "                \"profile_sidebar_border_color\": \"FFFFFF\",\n",
      "                \"profile_sidebar_fill_color\": \"DDEEF6\",\n",
      "                \"profile_text_color\": \"333333\",\n",
      "                \"profile_use_background_image\": true,\n",
      "                \"has_extended_profile\": true,\n",
      "                \"default_profile\": false,\n",
      "                \"default_profile_image\": false,\n",
      "                \"following\": true,\n",
      "                \"follow_request_sent\": false,\n",
      "                \"notifications\": false,\n",
      "                \"translator_type\": \"none\",\n",
      "                \"withheld_in_countries\": []\n",
      "            },\n",
      "            \"geo\": null,\n",
      "            \"coordinates\": null,\n",
      "            \"place\": null,\n",
      "            \"contributors\": null,\n",
      "            \"is_quote_status\": false,\n",
      "            \"retweet_count\": 0,\n",
      "            \"favorite_count\": 1,\n",
      "            \"favorited\": false,\n",
      "            \"retweeted\": false,\n",
      "            \"possibly_sensitive\": false,\n",
      "            \"lang\": \"de\"\n",
      "        },\n",
      "        \"created_at\": {\n",
      "            \"py/object\": \"datetime.datetime\",\n",
      "            \"__reduce__\": [\n",
      "                {\n",
      "                    \"py/type\": \"datetime.datetime\"\n",
      "                },\n",
      "                [\n",
      "                    \"B+UHDQkkKAAAAA==\"\n",
      "                ]\n",
      "            ]\n",
      "        },\n",
      "        \"id\": 1414881455591890946,\n",
      "        \"id_str\": \"1414881455591890946\",\n",
      "        \"text\": \"Falls ihr jetzt Lust darauf bekommen habt, l\\u00e4nger in Erinnerung an Kindheitshelden zu schwelgen, gibt's hier mehr v\\u2026 https://t.co/HJuFUSMIh7\",\n",
      "        \"truncated\": true,\n",
      "        \"entities\": {\n",
      "            \"py/id\": 3\n",
      "        },\n",
      "        \"source\": \"Swat.io\",\n",
      "        \"source_url\": \"https://swat.io/\",\n",
      "        \"in_reply_to_status_id\": 1414881453700263941,\n",
      "        \"in_reply_to_status_id_str\": \"1414881453700263941\",\n",
      "        \"in_reply_to_user_id\": 57350105,\n",
      "        \"in_reply_to_user_id_str\": \"57350105\",\n",
      "        \"in_reply_to_screen_name\": \"ZDF\",\n",
      "        \"author\": {\n",
      "            \"py/object\": \"tweepy.models.User\",\n",
      "            \"py/state\": {\n",
      "                \"_json\": {\n",
      "                    \"py/id\": 10\n",
      "                },\n",
      "                \"id\": 57350105,\n",
      "                \"id_str\": \"57350105\",\n",
      "                \"name\": \"ZDF\",\n",
      "                \"screen_name\": \"ZDF\",\n",
      "                \"location\": \"Mainz / Deutschland\",\n",
      "                \"description\": \"Neuigkeiten rund um das ZDF | Impressum und Netiquette: https://t.co/uF9M52YeFp\",\n",
      "                \"url\": \"https://t.co/fmjodfWxET\",\n",
      "                \"entities\": {\n",
      "                    \"py/id\": 11\n",
      "                },\n",
      "                \"protected\": false,\n",
      "                \"followers_count\": 1289555,\n",
      "                \"friends_count\": 411,\n",
      "                \"listed_count\": 5570,\n",
      "                \"created_at\": {\n",
      "                    \"py/object\": \"datetime.datetime\",\n",
      "                    \"__reduce__\": [\n",
      "                        {\n",
      "                            \"py/type\": \"datetime.datetime\"\n",
      "                        },\n",
      "                        [\n",
      "                            \"B9kHEA4lOgAAAA==\"\n",
      "                        ]\n",
      "                    ]\n",
      "                },\n",
      "                \"favourites_count\": 24876,\n",
      "                \"utc_offset\": null,\n",
      "                \"time_zone\": null,\n",
      "                \"geo_enabled\": true,\n",
      "                \"verified\": true,\n",
      "                \"statuses_count\": 189156,\n",
      "                \"lang\": null,\n",
      "                \"contributors_enabled\": false,\n",
      "                \"is_translator\": false,\n",
      "                \"is_translation_enabled\": false,\n",
      "                \"profile_background_color\": \"A1A1A1\",\n",
      "                \"profile_background_image_url\": \"http://abs.twimg.com/images/themes/theme1/bg.png\",\n",
      "                \"profile_background_image_url_https\": \"https://abs.twimg.com/images/themes/theme1/bg.png\",\n",
      "                \"profile_background_tile\": false,\n",
      "                \"profile_image_url\": \"http://pbs.twimg.com/profile_images/609771341718388738/TdrV1KOa_normal.png\",\n",
      "                \"profile_image_url_https\": \"https://pbs.twimg.com/profile_images/609771341718388738/TdrV1KOa_normal.png\",\n",
      "                \"profile_banner_url\": \"https://pbs.twimg.com/profile_banners/57350105/1594207242\",\n",
      "                \"profile_link_color\": \"FA7E19\",\n",
      "                \"profile_sidebar_border_color\": \"FFFFFF\",\n",
      "                \"profile_sidebar_fill_color\": \"DDEEF6\",\n",
      "                \"profile_text_color\": \"333333\",\n",
      "                \"profile_use_background_image\": true,\n",
      "                \"has_extended_profile\": true,\n",
      "                \"default_profile\": false,\n",
      "                \"default_profile_image\": false,\n",
      "                \"following\": true,\n",
      "                \"follow_request_sent\": false,\n",
      "                \"notifications\": false,\n",
      "                \"translator_type\": \"none\",\n",
      "                \"withheld_in_countries\": {\n",
      "                    \"py/id\": 20\n",
      "                }\n",
      "            }\n",
      "        },\n",
      "        \"user\": {\n",
      "            \"py/id\": 22\n",
      "        },\n",
      "        \"geo\": null,\n",
      "        \"coordinates\": null,\n",
      "        \"place\": null,\n",
      "        \"contributors\": null,\n",
      "        \"is_quote_status\": false,\n",
      "        \"retweet_count\": 0,\n",
      "        \"favorite_count\": 1,\n",
      "        \"favorited\": false,\n",
      "        \"retweeted\": false,\n",
      "        \"possibly_sensitive\": false,\n",
      "        \"lang\": \"de\"\n",
      "    }\n",
      "}\n"
     ]
    }
   ],
   "source": [
    "#die details bzw die informationen über ein Tweet anzeigen (shöne übersichtlicher ausdruck)\n",
    "import json\n",
    "import jsonpickle\n",
    "print(json.dumps(json.loads(jsonpickle.encode(zdf_tweets[0])),indent=4))"
   ]
  },
  {
   "cell_type": "code",
   "execution_count": 253,
   "metadata": {},
   "outputs": [
    {
     "data": {
      "image/png": "[encoded data removed]",
      "text/plain": [
       "<PIL.PngImagePlugin.PngImageFile image mode=P size=1253x1515 at 0x220A3A10F48>"
      ]
     },
     "execution_count": 253,
     "metadata": {},
     "output_type": "execute_result"
    }
   ],
   "source": [
    "#Diese graph zeigt was für einformationen  ein tweets enthält\n",
    "from PIL import Image\n",
    "\n",
    "image = Image.open('tweet_details.png')\n",
    "image.show(title=\"Diese graph zeigt was für einformationen  ein tweets enthält\")\n",
    "image"
   ]
  },
  {
   "cell_type": "code",
   "execution_count": 189,
   "metadata": {},
   "outputs": [
    {
     "name": "stdout",
     "output_type": "stream",
     "text": [
      "Falls ihr jetzt Lust darauf bekommen habt, länger in Erinnerung an Kindheitshelden zu schwelgen, gibt's hier mehr v… https://t.co/HJuFUSMIh7\n",
      "\n",
      "Hatte Pippi je Unrecht? 😉 https://t.co/5t8yWAZp40\n",
      "\n",
      "Was spricht für, was gegen ein allgemeines Tempolimit?\n",
      "\n",
      "Alle Argumente und das gesamte @morgenmagazin-Duell zwische… https://t.co/Ey6v0pzQz3\n",
      "\n",
      "@Steffenster @ZDFpresse @ZDFsachsen Danke für deinen Hinweis. Wir haben ihn eben an entsprechende Stelle weitergegeben zur Prüfung.\n",
      "\n",
      "RT @morgenmagazin: Wie geht es nach den Sommerferien an den Schulen weiter? Viele Kinder und Jugendliche hoffen auf Präsenzunterricht ohne…\n",
      "\n"
     ]
    }
   ],
   "source": [
    "# wir zeigen die letste 5 tweets von zdf account\n",
    "for tweet in zdf_tweets[:5]:\n",
    "    print(tweet.text)\n",
    "    print()"
   ]
  },
  {
   "cell_type": "code",
   "execution_count": 200,
   "metadata": {},
   "outputs": [
    {
     "data": {
      "text/html": [
       "<div>\n",
       "<style scoped>\n",
       "    .dataframe tbody tr th:only-of-type {\n",
       "        vertical-align: middle;\n",
       "    }\n",
       "\n",
       "    .dataframe tbody tr th {\n",
       "        vertical-align: top;\n",
       "    }\n",
       "\n",
       "    .dataframe thead th {\n",
       "        text-align: right;\n",
       "    }\n",
       "</style>\n",
       "<table border=\"1\" class=\"dataframe\">\n",
       "  <thead>\n",
       "    <tr style=\"text-align: right;\">\n",
       "      <th></th>\n",
       "      <th>ZDF tweets</th>\n",
       "    </tr>\n",
       "  </thead>\n",
       "  <tbody>\n",
       "    <tr>\n",
       "      <th>0</th>\n",
       "      <td>Falls ihr jetzt Lust darauf bekommen habt, län...</td>\n",
       "    </tr>\n",
       "    <tr>\n",
       "      <th>1</th>\n",
       "      <td>Hatte Pippi je Unrecht? 😉 https://t.co/5t8yWAZp40</td>\n",
       "    </tr>\n",
       "    <tr>\n",
       "      <th>2</th>\n",
       "      <td>Was spricht für, was gegen ein allgemeines Tem...</td>\n",
       "    </tr>\n",
       "    <tr>\n",
       "      <th>3</th>\n",
       "      <td>@Steffenster @ZDFpresse @ZDFsachsen Danke für ...</td>\n",
       "    </tr>\n",
       "    <tr>\n",
       "      <th>4</th>\n",
       "      <td>RT @morgenmagazin: Wie geht es nach den Sommer...</td>\n",
       "    </tr>\n",
       "  </tbody>\n",
       "</table>\n",
       "</div>"
      ],
      "text/plain": [
       "                                          ZDF tweets\n",
       "0  Falls ihr jetzt Lust darauf bekommen habt, län...\n",
       "1  Hatte Pippi je Unrecht? 😉 https://t.co/5t8yWAZp40\n",
       "2  Was spricht für, was gegen ein allgemeines Tem...\n",
       "3  @Steffenster @ZDFpresse @ZDFsachsen Danke für ...\n",
       "4  RT @morgenmagazin: Wie geht es nach den Sommer..."
      ]
     },
     "execution_count": 200,
     "metadata": {},
     "output_type": "execute_result"
    }
   ],
   "source": [
    "# die tweets in einem data frame umwandeln\n",
    "zdf_df = pd.DataFrame(data=[tweet.text for tweet in zdf_tweets],columns=['ZDF tweets'])\n",
    "\n",
    "#data frame anzeigen lassen\n",
    "zdf_df.head()"
   ]
  },
  {
   "cell_type": "code",
   "execution_count": 203,
   "metadata": {},
   "outputs": [
    {
     "name": "stdout",
     "output_type": "stream",
     "text": [
      "['__class__', '__delattr__', '__dict__', '__dir__', '__doc__', '__eq__', '__format__', '__ge__', '__getattribute__', '__getstate__', '__gt__', '__hash__', '__init__', '__init_subclass__', '__le__', '__lt__', '__module__', '__ne__', '__new__', '__reduce__', '__reduce_ex__', '__repr__', '__setattr__', '__sizeof__', '__str__', '__subclasshook__', '__weakref__', '_api', '_json', 'author', 'contributors', 'coordinates', 'created_at', 'destroy', 'entities', 'favorite', 'favorite_count', 'favorited', 'geo', 'id', 'id_str', 'in_reply_to_screen_name', 'in_reply_to_status_id', 'in_reply_to_status_id_str', 'in_reply_to_user_id', 'in_reply_to_user_id_str', 'is_quote_status', 'lang', 'parse', 'parse_list', 'place', 'possibly_sensitive', 'retweet', 'retweet_count', 'retweeted', 'retweets', 'source', 'source_url', 'text', 'truncated', 'user']\n"
     ]
    }
   ],
   "source": [
    "#die mögliche methoden von einem tweets objekt anzeigen lassen\n",
    "print(dir(zdf_tweets[0]))"
   ]
  },
  {
   "cell_type": "code",
   "execution_count": 205,
   "metadata": {},
   "outputs": [
    {
     "name": "stdout",
     "output_type": "stream",
     "text": [
      "1414881455591890946\n",
      "2021-07-13 09:36:40\n",
      "Swat.io\n",
      "1\n",
      "0\n",
      "None\n",
      "None\n",
      "{'hashtags': [], 'symbols': [], 'user_mentions': [], 'urls': [{'url': 'https://t.co/HJuFUSMIh7', 'expanded_url': 'https://twitter.com/i/web/status/1414881455591890946', 'display_url': 'twitter.com/i/web/status/1…', 'indices': [117, 140]}]}\n"
     ]
    }
   ],
   "source": [
    "# paar informationen über die erste tweets anzeigen\n",
    "print(zdf_tweets[0].id)\n",
    "print(zdf_tweets[0].created_at)\n",
    "print(zdf_tweets[0].source)\n",
    "print(zdf_tweets[0].favorite_count)\n",
    "print(zdf_tweets[0].retweet_count)\n",
    "print(zdf_tweets[0].geo)\n",
    "print(zdf_tweets[0].coordinates)\n",
    "print(zdf_tweets[0].entities)"
   ]
  },
  {
   "cell_type": "code",
   "execution_count": 207,
   "metadata": {},
   "outputs": [],
   "source": [
    "import numpy as np\n",
    "# jeder tweets nimmt paar zusätsliche informationen in der Data Frame\n",
    "zdf_df['len'] = np.array([len(tweet.text) for tweet in zdf_tweets])\n",
    "zdf_df['ID'] = np.array([tweet.id for tweet in zdf_tweets])\n",
    "zdf_df['Date'] = np.array([tweet.created_at for tweet in zdf_tweets])\n",
    "zdf_df['Source'] = np.array([tweet.source for tweet in zdf_tweets])\n",
    "zdf_df['Like'] = np.array([tweet.favorite_count for tweet in zdf_tweets])\n",
    "zdf_df['RTs'] = np.array([tweet.retweet_count for tweet in zdf_tweets])\n",
    "\n"
   ]
  },
  {
   "cell_type": "code",
   "execution_count": 208,
   "metadata": {},
   "outputs": [
    {
     "data": {
      "text/html": [
       "<div>\n",
       "<style scoped>\n",
       "    .dataframe tbody tr th:only-of-type {\n",
       "        vertical-align: middle;\n",
       "    }\n",
       "\n",
       "    .dataframe tbody tr th {\n",
       "        vertical-align: top;\n",
       "    }\n",
       "\n",
       "    .dataframe thead th {\n",
       "        text-align: right;\n",
       "    }\n",
       "</style>\n",
       "<table border=\"1\" class=\"dataframe\">\n",
       "  <thead>\n",
       "    <tr style=\"text-align: right;\">\n",
       "      <th></th>\n",
       "      <th>ZDF tweets</th>\n",
       "      <th>len</th>\n",
       "      <th>ID</th>\n",
       "      <th>Date</th>\n",
       "      <th>Source</th>\n",
       "      <th>Like</th>\n",
       "      <th>RTs</th>\n",
       "    </tr>\n",
       "  </thead>\n",
       "  <tbody>\n",
       "    <tr>\n",
       "      <th>0</th>\n",
       "      <td>Falls ihr jetzt Lust darauf bekommen habt, län...</td>\n",
       "      <td>140</td>\n",
       "      <td>1414881455591890946</td>\n",
       "      <td>2021-07-13 09:36:40</td>\n",
       "      <td>Swat.io</td>\n",
       "      <td>1</td>\n",
       "      <td>0</td>\n",
       "    </tr>\n",
       "    <tr>\n",
       "      <th>1</th>\n",
       "      <td>Hatte Pippi je Unrecht? 😉 https://t.co/5t8yWAZp40</td>\n",
       "      <td>49</td>\n",
       "      <td>1414881453700263941</td>\n",
       "      <td>2021-07-13 09:36:40</td>\n",
       "      <td>Swat.io</td>\n",
       "      <td>1</td>\n",
       "      <td>0</td>\n",
       "    </tr>\n",
       "    <tr>\n",
       "      <th>2</th>\n",
       "      <td>Was spricht für, was gegen ein allgemeines Tem...</td>\n",
       "      <td>140</td>\n",
       "      <td>1414871513661067266</td>\n",
       "      <td>2021-07-13 08:57:10</td>\n",
       "      <td>Twitter Web App</td>\n",
       "      <td>6</td>\n",
       "      <td>2</td>\n",
       "    </tr>\n",
       "    <tr>\n",
       "      <th>3</th>\n",
       "      <td>@Steffenster @ZDFpresse @ZDFsachsen Danke für ...</td>\n",
       "      <td>131</td>\n",
       "      <td>1414852073439514624</td>\n",
       "      <td>2021-07-13 07:39:55</td>\n",
       "      <td>Twitter Web App</td>\n",
       "      <td>2</td>\n",
       "      <td>0</td>\n",
       "    </tr>\n",
       "    <tr>\n",
       "      <th>4</th>\n",
       "      <td>RT @morgenmagazin: Wie geht es nach den Sommer...</td>\n",
       "      <td>139</td>\n",
       "      <td>1414843515188793347</td>\n",
       "      <td>2021-07-13 07:05:55</td>\n",
       "      <td>Twitter Web App</td>\n",
       "      <td>0</td>\n",
       "      <td>5</td>\n",
       "    </tr>\n",
       "    <tr>\n",
       "      <th>5</th>\n",
       "      <td>Wie sicher sind Oma und Opa im Auto noch unter...</td>\n",
       "      <td>140</td>\n",
       "      <td>1414841740490596353</td>\n",
       "      <td>2021-07-13 06:58:52</td>\n",
       "      <td>Swat.io</td>\n",
       "      <td>32</td>\n",
       "      <td>11</td>\n",
       "    </tr>\n",
       "    <tr>\n",
       "      <th>6</th>\n",
       "      <td>Hans' Familie wird wegen seines Fahrverhaltens...</td>\n",
       "      <td>140</td>\n",
       "      <td>1414679371202416640</td>\n",
       "      <td>2021-07-12 20:13:40</td>\n",
       "      <td>Swat.io</td>\n",
       "      <td>14</td>\n",
       "      <td>2</td>\n",
       "    </tr>\n",
       "    <tr>\n",
       "      <th>7</th>\n",
       "      <td>Der Polizist Samuel Leroy löst gemeinsam mit s...</td>\n",
       "      <td>140</td>\n",
       "      <td>1414661092727533570</td>\n",
       "      <td>2021-07-12 19:01:02</td>\n",
       "      <td>Swat.io</td>\n",
       "      <td>7</td>\n",
       "      <td>1</td>\n",
       "    </tr>\n",
       "    <tr>\n",
       "      <th>8</th>\n",
       "      <td>RT @ZDFheute: Neue Regeln in Frankreich: Gesun...</td>\n",
       "      <td>108</td>\n",
       "      <td>1414651738099961869</td>\n",
       "      <td>2021-07-12 18:23:51</td>\n",
       "      <td>Twitter for iPhone</td>\n",
       "      <td>0</td>\n",
       "      <td>36</td>\n",
       "    </tr>\n",
       "    <tr>\n",
       "      <th>9</th>\n",
       "      <td>Was halten Männer eigentlich vom traditionelle...</td>\n",
       "      <td>139</td>\n",
       "      <td>1414645898097868807</td>\n",
       "      <td>2021-07-12 18:00:39</td>\n",
       "      <td>Swat.io</td>\n",
       "      <td>4</td>\n",
       "      <td>0</td>\n",
       "    </tr>\n",
       "  </tbody>\n",
       "</table>\n",
       "</div>"
      ],
      "text/plain": [
       "                                          ZDF tweets  len  \\\n",
       "0  Falls ihr jetzt Lust darauf bekommen habt, län...  140   \n",
       "1  Hatte Pippi je Unrecht? 😉 https://t.co/5t8yWAZp40   49   \n",
       "2  Was spricht für, was gegen ein allgemeines Tem...  140   \n",
       "3  @Steffenster @ZDFpresse @ZDFsachsen Danke für ...  131   \n",
       "4  RT @morgenmagazin: Wie geht es nach den Sommer...  139   \n",
       "5  Wie sicher sind Oma und Opa im Auto noch unter...  140   \n",
       "6  Hans' Familie wird wegen seines Fahrverhaltens...  140   \n",
       "7  Der Polizist Samuel Leroy löst gemeinsam mit s...  140   \n",
       "8  RT @ZDFheute: Neue Regeln in Frankreich: Gesun...  108   \n",
       "9  Was halten Männer eigentlich vom traditionelle...  139   \n",
       "\n",
       "                    ID                Date              Source  Like  RTs  \n",
       "0  1414881455591890946 2021-07-13 09:36:40             Swat.io     1    0  \n",
       "1  1414881453700263941 2021-07-13 09:36:40             Swat.io     1    0  \n",
       "2  1414871513661067266 2021-07-13 08:57:10     Twitter Web App     6    2  \n",
       "3  1414852073439514624 2021-07-13 07:39:55     Twitter Web App     2    0  \n",
       "4  1414843515188793347 2021-07-13 07:05:55     Twitter Web App     0    5  \n",
       "5  1414841740490596353 2021-07-13 06:58:52             Swat.io    32   11  \n",
       "6  1414679371202416640 2021-07-12 20:13:40             Swat.io    14    2  \n",
       "7  1414661092727533570 2021-07-12 19:01:02             Swat.io     7    1  \n",
       "8  1414651738099961869 2021-07-12 18:23:51  Twitter for iPhone     0   36  \n",
       "9  1414645898097868807 2021-07-12 18:00:39             Swat.io     4    0  "
      ]
     },
     "execution_count": 208,
     "metadata": {},
     "output_type": "execute_result"
    }
   ],
   "source": [
    "zdf_df.head(10) # die geanderte Data Frame printen"
   ]
  },
  {
   "cell_type": "markdown",
   "metadata": {},
   "source": [
    "<h3>Twitter suchen die ein bestimmte wort enthalt und die sprache der Tweets erkennen</h3>"
   ]
  },
  {
   "cell_type": "code",
   "execution_count": 229,
   "metadata": {},
   "outputs": [
    {
     "data": {
      "text/html": [
       "<div>\n",
       "<style scoped>\n",
       "    .dataframe tbody tr th:only-of-type {\n",
       "        vertical-align: middle;\n",
       "    }\n",
       "\n",
       "    .dataframe tbody tr th {\n",
       "        vertical-align: top;\n",
       "    }\n",
       "\n",
       "    .dataframe thead th {\n",
       "        text-align: right;\n",
       "    }\n",
       "</style>\n",
       "<table border=\"1\" class=\"dataframe\">\n",
       "  <thead>\n",
       "    <tr style=\"text-align: right;\">\n",
       "      <th></th>\n",
       "      <th>lang</th>\n",
       "      <th>source</th>\n",
       "      <th>in_reply_to_screen_name</th>\n",
       "      <th>text</th>\n",
       "      <th>in_reply_to_status_id</th>\n",
       "      <th>source_url</th>\n",
       "      <th>in_reply_to_user_id_str</th>\n",
       "      <th>in_reply_to_status_id_str</th>\n",
       "      <th>id_str</th>\n",
       "      <th>retweet_count</th>\n",
       "      <th>id</th>\n",
       "      <th>in_reply_to_user_id</th>\n",
       "      <th>favorite_count</th>\n",
       "      <th>user</th>\n",
       "      <th>author</th>\n",
       "    </tr>\n",
       "  </thead>\n",
       "  <tbody>\n",
       "    <tr>\n",
       "      <th>0</th>\n",
       "      <td>en</td>\n",
       "      <td>Twitter for Android</td>\n",
       "      <td>OleItumbi</td>\n",
       "      <td>@OleItumbi @RailaOdinga I wonder how he will m...</td>\n",
       "      <td>1.414998e+18</td>\n",
       "      <td>http://twitter.com/download/android</td>\n",
       "      <td>68382599</td>\n",
       "      <td>1414997706095857668</td>\n",
       "      <td>1415289029172637700</td>\n",
       "      <td>0</td>\n",
       "      <td>1415289029172637700</td>\n",
       "      <td>6.838260e+07</td>\n",
       "      <td>0</td>\n",
       "      <td>GitauEK</td>\n",
       "      <td>GitauEK</td>\n",
       "    </tr>\n",
       "    <tr>\n",
       "      <th>1</th>\n",
       "      <td>en</td>\n",
       "      <td>Twitter Web App</td>\n",
       "      <td>InstituteMH</td>\n",
       "      <td>Ultimate goal of this research is to lead to a...</td>\n",
       "      <td>1.415288e+18</td>\n",
       "      <td>https://mobile.twitter.com</td>\n",
       "      <td>196756414</td>\n",
       "      <td>1415287621648064515</td>\n",
       "      <td>1415288554079588353</td>\n",
       "      <td>0</td>\n",
       "      <td>1415288554079588353</td>\n",
       "      <td>1.967564e+08</td>\n",
       "      <td>0</td>\n",
       "      <td>InstituteMH</td>\n",
       "      <td>InstituteMH</td>\n",
       "    </tr>\n",
       "    <tr>\n",
       "      <th>2</th>\n",
       "      <td>en</td>\n",
       "      <td>TweetDeck</td>\n",
       "      <td>NaN</td>\n",
       "      <td>Can psychology help policymakers tackle harmfu...</td>\n",
       "      <td>NaN</td>\n",
       "      <td>https://about.twitter.com/products/tweetdeck</td>\n",
       "      <td>NaN</td>\n",
       "      <td>NaN</td>\n",
       "      <td>1415285958514184196</td>\n",
       "      <td>0</td>\n",
       "      <td>1415285958514184196</td>\n",
       "      <td>NaN</td>\n",
       "      <td>0</td>\n",
       "      <td>LSE_PBS</td>\n",
       "      <td>LSE_PBS</td>\n",
       "    </tr>\n",
       "    <tr>\n",
       "      <th>3</th>\n",
       "      <td>en</td>\n",
       "      <td>Twitter for Android</td>\n",
       "      <td>NaN</td>\n",
       "      <td>RT @Another_Europe: An interesting read on the...</td>\n",
       "      <td>NaN</td>\n",
       "      <td>http://twitter.com/download/android</td>\n",
       "      <td>NaN</td>\n",
       "      <td>NaN</td>\n",
       "      <td>1415285873130803203</td>\n",
       "      <td>8</td>\n",
       "      <td>1415285873130803203</td>\n",
       "      <td>NaN</td>\n",
       "      <td>0</td>\n",
       "      <td>TintinDenMindre</td>\n",
       "      <td>TintinDenMindre</td>\n",
       "    </tr>\n",
       "    <tr>\n",
       "      <th>4</th>\n",
       "      <td>en</td>\n",
       "      <td>Twitter Web App</td>\n",
       "      <td>NaN</td>\n",
       "      <td>RT @Another_Europe: An interesting read on the...</td>\n",
       "      <td>NaN</td>\n",
       "      <td>https://mobile.twitter.com</td>\n",
       "      <td>NaN</td>\n",
       "      <td>NaN</td>\n",
       "      <td>1415285500286537732</td>\n",
       "      <td>8</td>\n",
       "      <td>1415285500286537732</td>\n",
       "      <td>NaN</td>\n",
       "      <td>0</td>\n",
       "      <td>dosmesdoscinc</td>\n",
       "      <td>dosmesdoscinc</td>\n",
       "    </tr>\n",
       "    <tr>\n",
       "      <th>5</th>\n",
       "      <td>nl</td>\n",
       "      <td>Tweetbot for iΟS</td>\n",
       "      <td>NaN</td>\n",
       "      <td>RT @stadnco: Woon je in het zuiden van het lan...</td>\n",
       "      <td>NaN</td>\n",
       "      <td>http://tapbots.com/tweetbot</td>\n",
       "      <td>NaN</td>\n",
       "      <td>NaN</td>\n",
       "      <td>1415282786697715718</td>\n",
       "      <td>2</td>\n",
       "      <td>1415282786697715718</td>\n",
       "      <td>NaN</td>\n",
       "      <td>0</td>\n",
       "      <td>erikvanderburgt</td>\n",
       "      <td>erikvanderburgt</td>\n",
       "    </tr>\n",
       "    <tr>\n",
       "      <th>6</th>\n",
       "      <td>en</td>\n",
       "      <td>TweetDeck</td>\n",
       "      <td>NaN</td>\n",
       "      <td>The timing for the #GEF, as a multi-stakeholde...</td>\n",
       "      <td>NaN</td>\n",
       "      <td>https://about.twitter.com/products/tweetdeck</td>\n",
       "      <td>NaN</td>\n",
       "      <td>NaN</td>\n",
       "      <td>1415281170477092867</td>\n",
       "      <td>0</td>\n",
       "      <td>1415281170477092867</td>\n",
       "      <td>NaN</td>\n",
       "      <td>4</td>\n",
       "      <td>orfonline</td>\n",
       "      <td>orfonline</td>\n",
       "    </tr>\n",
       "    <tr>\n",
       "      <th>7</th>\n",
       "      <td>ca</td>\n",
       "      <td>Twitter for Android</td>\n",
       "      <td>WilliamsRuto</td>\n",
       "      <td>@WilliamsRuto Bottom-up economic model</td>\n",
       "      <td>1.415237e+18</td>\n",
       "      <td>http://twitter.com/download/android</td>\n",
       "      <td>333935142</td>\n",
       "      <td>1415236933316452356</td>\n",
       "      <td>1415280340067889152</td>\n",
       "      <td>0</td>\n",
       "      <td>1415280340067889152</td>\n",
       "      <td>3.339351e+08</td>\n",
       "      <td>0</td>\n",
       "      <td>Piuskips_C</td>\n",
       "      <td>Piuskips_C</td>\n",
       "    </tr>\n",
       "    <tr>\n",
       "      <th>8</th>\n",
       "      <td>ca</td>\n",
       "      <td>Twitter for Android</td>\n",
       "      <td>CaptainDominicO</td>\n",
       "      <td>@CaptainDominicO Bottom-up economic model</td>\n",
       "      <td>1.415168e+18</td>\n",
       "      <td>http://twitter.com/download/android</td>\n",
       "      <td>824295261065347072</td>\n",
       "      <td>1415167882451947520</td>\n",
       "      <td>1415280162166431751</td>\n",
       "      <td>0</td>\n",
       "      <td>1415280162166431751</td>\n",
       "      <td>8.242953e+17</td>\n",
       "      <td>0</td>\n",
       "      <td>Piuskips_C</td>\n",
       "      <td>Piuskips_C</td>\n",
       "    </tr>\n",
       "    <tr>\n",
       "      <th>9</th>\n",
       "      <td>en</td>\n",
       "      <td>Twitter for Android</td>\n",
       "      <td>EMochere</td>\n",
       "      <td>@EMochere @Humphoblue @KBonimtetezi @RailaOdin...</td>\n",
       "      <td>1.415263e+18</td>\n",
       "      <td>http://twitter.com/download/android</td>\n",
       "      <td>1294372081</td>\n",
       "      <td>1415263043303391233</td>\n",
       "      <td>1415272084507348994</td>\n",
       "      <td>0</td>\n",
       "      <td>1415272084507348994</td>\n",
       "      <td>1.294372e+09</td>\n",
       "      <td>1</td>\n",
       "      <td>Charles02632036</td>\n",
       "      <td>Charles02632036</td>\n",
       "    </tr>\n",
       "  </tbody>\n",
       "</table>\n",
       "</div>"
      ],
      "text/plain": [
       "  lang               source in_reply_to_screen_name  \\\n",
       "0   en  Twitter for Android               OleItumbi   \n",
       "1   en      Twitter Web App             InstituteMH   \n",
       "2   en            TweetDeck                     NaN   \n",
       "3   en  Twitter for Android                     NaN   \n",
       "4   en      Twitter Web App                     NaN   \n",
       "5   nl     Tweetbot for iΟS                     NaN   \n",
       "6   en            TweetDeck                     NaN   \n",
       "7   ca  Twitter for Android            WilliamsRuto   \n",
       "8   ca  Twitter for Android         CaptainDominicO   \n",
       "9   en  Twitter for Android                EMochere   \n",
       "\n",
       "                                                text  in_reply_to_status_id  \\\n",
       "0  @OleItumbi @RailaOdinga I wonder how he will m...           1.414998e+18   \n",
       "1  Ultimate goal of this research is to lead to a...           1.415288e+18   \n",
       "2  Can psychology help policymakers tackle harmfu...                    NaN   \n",
       "3  RT @Another_Europe: An interesting read on the...                    NaN   \n",
       "4  RT @Another_Europe: An interesting read on the...                    NaN   \n",
       "5  RT @stadnco: Woon je in het zuiden van het lan...                    NaN   \n",
       "6  The timing for the #GEF, as a multi-stakeholde...                    NaN   \n",
       "7             @WilliamsRuto Bottom-up economic model           1.415237e+18   \n",
       "8          @CaptainDominicO Bottom-up economic model           1.415168e+18   \n",
       "9  @EMochere @Humphoblue @KBonimtetezi @RailaOdin...           1.415263e+18   \n",
       "\n",
       "                                     source_url in_reply_to_user_id_str  \\\n",
       "0           http://twitter.com/download/android                68382599   \n",
       "1                    https://mobile.twitter.com               196756414   \n",
       "2  https://about.twitter.com/products/tweetdeck                     NaN   \n",
       "3           http://twitter.com/download/android                     NaN   \n",
       "4                    https://mobile.twitter.com                     NaN   \n",
       "5                   http://tapbots.com/tweetbot                     NaN   \n",
       "6  https://about.twitter.com/products/tweetdeck                     NaN   \n",
       "7           http://twitter.com/download/android               333935142   \n",
       "8           http://twitter.com/download/android      824295261065347072   \n",
       "9           http://twitter.com/download/android              1294372081   \n",
       "\n",
       "  in_reply_to_status_id_str               id_str  retweet_count  \\\n",
       "0       1414997706095857668  1415289029172637700              0   \n",
       "1       1415287621648064515  1415288554079588353              0   \n",
       "2                       NaN  1415285958514184196              0   \n",
       "3                       NaN  1415285873130803203              8   \n",
       "4                       NaN  1415285500286537732              8   \n",
       "5                       NaN  1415282786697715718              2   \n",
       "6                       NaN  1415281170477092867              0   \n",
       "7       1415236933316452356  1415280340067889152              0   \n",
       "8       1415167882451947520  1415280162166431751              0   \n",
       "9       1415263043303391233  1415272084507348994              0   \n",
       "\n",
       "                    id  in_reply_to_user_id  favorite_count             user  \\\n",
       "0  1415289029172637700         6.838260e+07               0          GitauEK   \n",
       "1  1415288554079588353         1.967564e+08               0      InstituteMH   \n",
       "2  1415285958514184196                  NaN               0          LSE_PBS   \n",
       "3  1415285873130803203                  NaN               0  TintinDenMindre   \n",
       "4  1415285500286537732                  NaN               0    dosmesdoscinc   \n",
       "5  1415282786697715718                  NaN               0  erikvanderburgt   \n",
       "6  1415281170477092867                  NaN               4        orfonline   \n",
       "7  1415280340067889152         3.339351e+08               0       Piuskips_C   \n",
       "8  1415280162166431751         8.242953e+17               0       Piuskips_C   \n",
       "9  1415272084507348994         1.294372e+09               1  Charles02632036   \n",
       "\n",
       "            author  \n",
       "0          GitauEK  \n",
       "1      InstituteMH  \n",
       "2          LSE_PBS  \n",
       "3  TintinDenMindre  \n",
       "4    dosmesdoscinc  \n",
       "5  erikvanderburgt  \n",
       "6        orfonline  \n",
       "7       Piuskips_C  \n",
       "8       Piuskips_C  \n",
       "9  Charles02632036  "
      ]
     },
     "execution_count": 229,
     "metadata": {},
     "output_type": "execute_result"
    }
   ],
   "source": [
    "query = api.search(q=\"bottom-up\",count=10) #die tweets suchen die das wort (Bottom-up enthält)\n",
    "extract_timeline_as_df(query) #tweets anzeigen"
   ]
  },
  {
   "cell_type": "markdown",
   "metadata": {},
   "source": [
    "<h3> Python package die die sprache von einem text detektiert </h3>\n",
    "<h6> Package heisst langid und nutzt das prinzipe von Naive bayes um die sprache zu erkennen </h6>"
   ]
  },
  {
   "cell_type": "code",
   "execution_count": 237,
   "metadata": {},
   "outputs": [
    {
     "data": {
      "text/plain": [
       "('de', -108.27520561218262)"
      ]
     },
     "execution_count": 237,
     "metadata": {},
     "output_type": "execute_result"
    }
   ],
   "source": [
    "import langid\n",
    "langid.classify(\"hallo wie gehts dir \")"
   ]
  },
  {
   "cell_type": "code",
   "execution_count": 239,
   "metadata": {},
   "outputs": [
    {
     "data": {
      "text/plain": [
       "('pt', -3.868638038635254)"
      ]
     },
     "execution_count": 239,
     "metadata": {},
     "output_type": "execute_result"
    }
   ],
   "source": [
    "langid.classify(\"eu tudo bom\")"
   ]
  },
  {
   "cell_type": "code",
   "execution_count": 241,
   "metadata": {},
   "outputs": [
    {
     "data": {
      "text/plain": [
       "('ne', -75.33979296684265)"
      ]
     },
     "execution_count": 241,
     "metadata": {},
     "output_type": "execute_result"
    }
   ],
   "source": [
    "langid.classify(\"तिमीलाई कस्तो छ\")"
   ]
  },
  {
   "cell_type": "markdown",
   "metadata": {},
   "source": [
    "## Follower"
   ]
  },
  {
   "cell_type": "code",
   "execution_count": 125,
   "metadata": {},
   "outputs": [
    {
     "name": "stdout",
     "output_type": "stream",
     "text": [
      "3030809 320\n"
     ]
    }
   ],
   "source": [
    "user = api.get_user(\"tagesschau\") # Twitter Account von taqggeschau aufrufen\n",
    "print(user.followers_count,user.friends_count) #zahl der Abonnierten und Abonnenten bei diesen Twitter Account"
   ]
  },
  {
   "cell_type": "code",
   "execution_count": 243,
   "metadata": {},
   "outputs": [],
   "source": [
    "\"\"\"\n",
    "Follower liste von diesen account anzeigen\n",
    "\"\"\"\n",
    "my_new_friends = []\n",
    "user_friends = user.friends()\n",
    "for friend in user_friends:\n",
    "    if friend.followers_count > 300 and friend.friends_count <300:\n",
    "        #print(friend.screen_name)\n",
    "        my_new_friends.append(friend.screen_name)\n",
    "        #api.create_friendship(friend.screen_name) #Freundschaft anfragen zu diesen personen schicken"
   ]
  },
  {
   "cell_type": "code",
   "execution_count": 139,
   "metadata": {},
   "outputs": [
    {
     "data": {
      "text/plain": [
       "['coronawarnapp',\n",
       " 'ChariteBerlin',\n",
       " 'CiesekSandra',\n",
       " 'marylyn_addo',\n",
       " 'c_drosten',\n",
       " 'AnjaKarliczek',\n",
       " 'KrogmannChr',\n",
       " 'OskarVitlif',\n",
       " 'mrspieker']"
      ]
     },
     "execution_count": 139,
     "metadata": {},
     "output_type": "execute_result"
    }
   ],
   "source": [
    "to_remove = my_new_friends[:-1]\n",
    "to_remove\n"
   ]
  },
  {
   "cell_type": "code",
   "execution_count": 140,
   "metadata": {},
   "outputs": [],
   "source": [
    "for username in to_remove:\n",
    "    api.destroy_friendship(username) # freundshaft anfragen löschen von der list to_remove"
   ]
  },
  {
   "cell_type": "code",
   "execution_count": null,
   "metadata": {},
   "outputs": [],
   "source": []
  }
 ],
 "metadata": {
  "kernelspec": {
   "display_name": "Python 3",
   "language": "python",
   "name": "python3"
  },
  "language_info": {
   "codemirror_mode": {
    "name": "ipython",
    "version": 3
   },
   "file_extension": ".py",
   "mimetype": "text/x-python",
   "name": "python",
   "nbconvert_exporter": "python",
   "pygments_lexer": "ipython3",
   "version": "3.7.6"
  }
 },
 "nbformat": 4,
 "nbformat_minor": 4
}
