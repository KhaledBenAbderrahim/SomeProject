{
 "cells": [
  {
   "cell_type": "code",
   "execution_count": 2,
   "metadata": {},
   "outputs": [
    {
     "name": "stdout",
     "output_type": "stream",
     "text": [
      "(200, 200, 3) 9877\n"
     ]
    }
   ],
   "source": [
    "import numpy as np\n",
    "import os\n",
    "from PIL import Image\n",
    "import imageio\n",
    "from tqdm.notebook import tqdm # forschritt balken\n",
    "#os.listdir('C:/Users/Akademie/Desktop/data_externe/data_simpson_extern')\n",
    "#Image.open('C:/Users/Akademie/Desktop/data_externe/data_simpson_extern/1.png')\n",
    "im = imageio.imread('C:/Users/Akademie/Desktop/data_externe/data_simpson_extern/1.png')\n",
    "files = os.listdir('C:/Users/Akademie/Desktop/data_externe/data_simpson_extern')\n",
    "print(im.shape,len(files))"
   ]
  },
  {
   "cell_type": "markdown",
   "metadata": {},
   "source": [
    "## Einlesen der Bilder"
   ]
  },
  {
   "cell_type": "code",
   "execution_count": 3,
   "metadata": {},
   "outputs": [
    {
     "data": {
      "application/vnd.jupyter.widget-view+json": {
       "model_id": "1f03ee3cfb094d428642e012df719932",
       "version_major": 2,
       "version_minor": 0
      },
      "text/plain": [
       "HBox(children=(FloatProgress(value=0.0, max=9877.0), HTML(value='')))"
      ]
     },
     "metadata": {},
     "output_type": "display_data"
    },
    {
     "name": "stdout",
     "output_type": "stream",
     "text": [
      "\n"
     ]
    }
   ],
   "source": [
    "def read_images(path):\n",
    "    files = os.listdir(path)\n",
    "    files = [file for file in files if file[-4:] == \".png\"]\n",
    "    images = []\n",
    "    for file in tqdm(files):\n",
    "        try:\n",
    "            image = Image.open(os.path.join(path,file))\n",
    "\n",
    "            #https://pillow.readthedocs.io/en/stable/reference/Image.html?highlight=resize\n",
    "            image = image.resize((32,32),Image.LANCZOS)\n",
    "\n",
    "            #https://pillow.readthedocs.io/en/stable/reference/Image.html?highlight=resize\n",
    "            image = image.convert('RGB')\n",
    "            image = np.asarray(image)\n",
    "\n",
    "            images.append(image)\n",
    "        except OSError:\n",
    "            pass\n",
    "    return images\n",
    "\n",
    "simpsons = read_images('C:/Users/Akademie/Desktop/data_externe/data_simpson_extern')"
   ]
  },
  {
   "cell_type": "markdown",
   "metadata": {},
   "source": [
    "<img scr ='C:/Users/Akademie/Desktop/data_externe/data_sympson_extern/1.png'/>"
   ]
  },
  {
   "cell_type": "code",
   "execution_count": 4,
   "metadata": {},
   "outputs": [
    {
     "data": {
      "text/plain": [
       "(9877, 32, 32, 3)"
      ]
     },
     "execution_count": 4,
     "metadata": {},
     "output_type": "execute_result"
    }
   ],
   "source": [
    "simpsons = np.asarray(simpsons)\n",
    "simpsons.shape"
   ]
  },
  {
   "cell_type": "code",
   "execution_count": 5,
   "metadata": {},
   "outputs": [],
   "source": [
    "from keras.datasets import cifar10"
   ]
  },
  {
   "cell_type": "code",
   "execution_count": 6,
   "metadata": {},
   "outputs": [],
   "source": [
    "(X_train,y_train),(X_test,y_test) = cifar10.load_data()"
   ]
  },
  {
   "cell_type": "code",
   "execution_count": 7,
   "metadata": {},
   "outputs": [
    {
     "name": "stdout",
     "output_type": "stream",
     "text": [
      "(50000, 32, 32, 3) (50000, 1) (10000, 32, 32, 3) (10000, 1)\n"
     ]
    }
   ],
   "source": [
    "print(X_train.shape,y_train.shape,X_test.shape,y_test.shape)"
   ]
  },
  {
   "cell_type": "code",
   "execution_count": 8,
   "metadata": {},
   "outputs": [
    {
     "data": {
      "image/png": "[encoded data removed]",
      "text/plain": [
       "<Figure size 432x288 with 1 Axes>"
      ]
     },
     "metadata": {
      "needs_background": "light"
     },
     "output_type": "display_data"
    }
   ],
   "source": [
    "%matplotlib inline\n",
    "\n",
    "import matplotlib.pyplot as plt\n",
    "\n",
    "plt.imshow(simpsons[11])\n",
    "plt.show()\n"
   ]
  },
  {
   "cell_type": "code",
   "execution_count": 9,
   "metadata": {},
   "outputs": [
    {
     "data": {
      "text/plain": [
       "(19877, 32, 32, 3)"
      ]
     },
     "execution_count": 9,
     "metadata": {},
     "output_type": "execute_result"
    }
   ],
   "source": [
    "Not_simpsons = X_test\n",
    "X = np.concatenate([simpsons,Not_simpsons])\n",
    "Xpp = X # für VGG16 später\n",
    "X.shape"
   ]
  },
  {
   "cell_type": "code",
   "execution_count": 10,
   "metadata": {},
   "outputs": [
    {
     "data": {
      "text/plain": [
       "(19877, 1)"
      ]
     },
     "execution_count": 10,
     "metadata": {},
     "output_type": "execute_result"
    }
   ],
   "source": [
    "Y = np.concatenate([np.ones(len(simpsons)),np.zeros(len(Not_simpsons))])\n",
    "Y = Y.reshape(-1,1)\n",
    "Y.shape"
   ]
  },
  {
   "cell_type": "code",
   "execution_count": 11,
   "metadata": {},
   "outputs": [],
   "source": [
    "X = X.astype(np.float32)/255"
   ]
  },
  {
   "cell_type": "markdown",
   "metadata": {},
   "source": [
    "## Model trainieren"
   ]
  },
  {
   "cell_type": "code",
   "execution_count": 12,
   "metadata": {},
   "outputs": [
    {
     "name": "stdout",
     "output_type": "stream",
     "text": [
      "Epoch 1/20\n",
      "311/311 [==============================] - 36s 115ms/step - loss: 0.2551 - acc: 0.8928\n",
      "Epoch 2/20\n",
      "311/311 [==============================] - 35s 114ms/step - loss: 0.0341 - acc: 0.9892\n",
      "Epoch 3/20\n",
      "311/311 [==============================] - 36s 117ms/step - loss: 0.0302 - acc: 0.99110s - loss: 0.0302 - acc: 0.991\n",
      "Epoch 4/20\n",
      "311/311 [==============================] - 39s 125ms/step - loss: 0.0219 - acc: 0.9927\n",
      "Epoch 5/20\n",
      "311/311 [==============================] - 41s 131ms/step - loss: 0.0184 - acc: 0.9944\n",
      "Epoch 6/20\n",
      "311/311 [==============================] - 38s 122ms/step - loss: 0.0146 - acc: 0.9952\n",
      "Epoch 7/20\n",
      "311/311 [==============================] - 38s 124ms/step - loss: 0.0189 - acc: 0.9947\n",
      "Epoch 8/20\n",
      "311/311 [==============================] - 37s 119ms/step - loss: 0.0108 - acc: 0.9963\n",
      "Epoch 9/20\n",
      "311/311 [==============================] - 38s 122ms/step - loss: 0.0111 - acc: 0.9963\n",
      "Epoch 10/20\n",
      "311/311 [==============================] - 40s 130ms/step - loss: 0.0069 - acc: 0.9982\n",
      "Epoch 11/20\n",
      "311/311 [==============================] - 39s 125ms/step - loss: 0.0075 - acc: 0.9973\n",
      "Epoch 12/20\n",
      "311/311 [==============================] - 39s 127ms/step - loss: 0.0064 - acc: 0.9981\n",
      "Epoch 13/20\n",
      "311/311 [==============================] - 38s 123ms/step - loss: 0.0064 - acc: 0.9978\n",
      "Epoch 14/20\n",
      "311/311 [==============================] - 39s 125ms/step - loss: 0.0074 - acc: 0.9976\n",
      "Epoch 15/20\n",
      "311/311 [==============================] - 37s 118ms/step - loss: 0.0065 - acc: 0.9975\n",
      "Epoch 16/20\n",
      "311/311 [==============================] - 36s 116ms/step - loss: 0.0078 - acc: 0.9976\n",
      "Epoch 17/20\n",
      "311/311 [==============================] - 37s 120ms/step - loss: 0.0023 - acc: 0.9993\n",
      "Epoch 18/20\n",
      "311/311 [==============================] - 38s 122ms/step - loss: 0.0089 - acc: 0.9971\n",
      "Epoch 19/20\n",
      "311/311 [==============================] - 37s 120ms/step - loss: 0.0024 - acc: 0.9990\n",
      "Epoch 20/20\n",
      "311/311 [==============================] - 37s 118ms/step - loss: 0.0025 - acc: 0.9991\n"
     ]
    },
    {
     "data": {
      "text/plain": [
       "<tensorflow.python.keras.callbacks.History at 0x225788276c8>"
      ]
     },
     "execution_count": 12,
     "metadata": {},
     "output_type": "execute_result"
    }
   ],
   "source": [
    "#Eigine Neureunale Netzt\n",
    "from keras.models import Sequential\n",
    "from keras.layers import Conv2D, Dense , MaxPooling2D, Dropout, Flatten\n",
    "\n",
    "model = Sequential()\n",
    "model.add(Conv2D(32,kernel_size=(3,3),activation='relu',input_shape=(32,32,3)))\n",
    "model.add(Conv2D(32,kernel_size=(3,3),activation='relu'))\n",
    "model.add(MaxPooling2D())\n",
    "\n",
    "model.add(Conv2D(64,kernel_size=(3,3),activation='relu'))\n",
    "model.add(Conv2D(64,kernel_size=(3,3),activation='relu'))\n",
    "model.add(MaxPooling2D())\n",
    "\n",
    "\n",
    "model.add(Flatten())\n",
    "\n",
    "model.add(Dense(1024,activation='relu'))\n",
    "model.add(Dense(128,activation='relu'))\n",
    "model.add(Dense(1,activation='sigmoid'))\n",
    "\n",
    "from keras.optimizers import Adam\n",
    "\n",
    "model.compile(optimizer=Adam(lr=0.0001),loss='binary_crossentropy',metrics=['acc'])\n",
    "\n",
    "model.fit(X,Y,epochs = 20,batch_size = 64) # Sehr langsame Berechnung (ca. 20 min)"
   ]
  },
  {
   "cell_type": "code",
   "execution_count": 13,
   "metadata": {},
   "outputs": [],
   "source": [
    "model.save('Simpson_Model.h5')"
   ]
  },
  {
   "cell_type": "code",
   "execution_count": 14,
   "metadata": {},
   "outputs": [
    {
     "name": "stdout",
     "output_type": "stream",
     "text": [
      "Model: \"sequential\"\n",
      "_________________________________________________________________\n",
      "Layer (type)                 Output Shape              Param #   \n",
      "=================================================================\n",
      "conv2d (Conv2D)              (None, 30, 30, 32)        896       \n",
      "_________________________________________________________________\n",
      "conv2d_1 (Conv2D)            (None, 28, 28, 32)        9248      \n",
      "_________________________________________________________________\n",
      "max_pooling2d (MaxPooling2D) (None, 14, 14, 32)        0         \n",
      "_________________________________________________________________\n",
      "conv2d_2 (Conv2D)            (None, 12, 12, 64)        18496     \n",
      "_________________________________________________________________\n",
      "conv2d_3 (Conv2D)            (None, 10, 10, 64)        36928     \n",
      "_________________________________________________________________\n",
      "max_pooling2d_1 (MaxPooling2 (None, 5, 5, 64)          0         \n",
      "_________________________________________________________________\n",
      "flatten (Flatten)            (None, 1600)              0         \n",
      "_________________________________________________________________\n",
      "dense (Dense)                (None, 1024)              1639424   \n",
      "_________________________________________________________________\n",
      "dense_1 (Dense)              (None, 128)               131200    \n",
      "_________________________________________________________________\n",
      "dense_2 (Dense)              (None, 1)                 129       \n",
      "=================================================================\n",
      "Total params: 1,836,321\n",
      "Trainable params: 1,836,321\n",
      "Non-trainable params: 0\n",
      "_________________________________________________________________\n"
     ]
    }
   ],
   "source": [
    "model.summary()"
   ]
  },
  {
   "cell_type": "markdown",
   "metadata": {},
   "source": [
    "## Model mit VVG16 Netz"
   ]
  },
  {
   "cell_type": "code",
   "execution_count": 15,
   "metadata": {},
   "outputs": [],
   "source": [
    "from keras.applications.vgg16 import VGG16, preprocess_input # preprocess_input fonktion teilt automatisch unter 255!!!!!\n",
    "\n",
    "X = preprocess_input(Xpp)"
   ]
  },
  {
   "cell_type": "code",
   "execution_count": 16,
   "metadata": {},
   "outputs": [
    {
     "name": "stdout",
     "output_type": "stream",
     "text": [
      "622/622 [==============================] - 100s 161ms/step\n"
     ]
    }
   ],
   "source": [
    "vgg16_model = VGG16(include_top=False,input_shape=(32,32,3))\n",
    "vgg16_model.trainable = False\n",
    "#vgg16_model.summary()\n",
    "X_after_vgg = vgg16_model.predict(X , verbose=1) # verbose --> meine forschritt Balken"
   ]
  },
  {
   "cell_type": "code",
   "execution_count": 17,
   "metadata": {},
   "outputs": [
    {
     "data": {
      "text/plain": [
       "(19877, 1, 1, 512)"
      ]
     },
     "execution_count": 17,
     "metadata": {},
     "output_type": "execute_result"
    }
   ],
   "source": [
    "X_after_vgg.shape"
   ]
  },
  {
   "cell_type": "code",
   "execution_count": 18,
   "metadata": {},
   "outputs": [
    {
     "name": "stdout",
     "output_type": "stream",
     "text": [
      "Model: \"sequential_1\"\n",
      "_________________________________________________________________\n",
      "Layer (type)                 Output Shape              Param #   \n",
      "=================================================================\n",
      "flatten_1 (Flatten)          (None, 512)               0         \n",
      "_________________________________________________________________\n",
      "dense_3 (Dense)              (None, 1024)              525312    \n",
      "_________________________________________________________________\n",
      "dense_4 (Dense)              (None, 1)                 1025      \n",
      "=================================================================\n",
      "Total params: 526,337\n",
      "Trainable params: 526,337\n",
      "Non-trainable params: 0\n",
      "_________________________________________________________________\n"
     ]
    }
   ],
   "source": [
    "from keras.models import Sequential\n",
    "from keras.layers import Dense,Flatten\n",
    "\n",
    "model_vgg = Sequential()\n",
    "#model_vgg.add(vgg16_model)\n",
    "\n",
    "model_vgg.add(Flatten(input_shape=(1,1,512)))\n",
    "model_vgg.add(Dense(1024,activation='relu'))\n",
    "model_vgg.add(Dense(1,activation='sigmoid'))\n",
    "\n",
    "model_vgg.compile(optimizer=Adam(lr=0.001),loss='binary_crossentropy',metrics=['acc'])\n",
    "\n",
    "model_vgg.summary()\n",
    "\n",
    "\n"
   ]
  },
  {
   "cell_type": "code",
   "execution_count": 19,
   "metadata": {},
   "outputs": [],
   "source": [
    "from sklearn.utils import shuffle\n",
    "\n",
    "X_after_vgg,Y = shuffle(X_after_vgg,Y)"
   ]
  },
  {
   "cell_type": "code",
   "execution_count": 20,
   "metadata": {},
   "outputs": [
    {
     "name": "stdout",
     "output_type": "stream",
     "text": [
      "Epoch 1/20\n",
      "466/466 [==============================] - 2s 5ms/step - loss: 0.3102 - acc: 0.9778 - val_loss: 0.1082 - val_acc: 0.9938\n",
      "Epoch 2/20\n",
      "466/466 [==============================] - 2s 5ms/step - loss: 0.0388 - acc: 0.9967 - val_loss: 0.0775 - val_acc: 0.9954\n",
      "Epoch 3/20\n",
      "466/466 [==============================] - 2s 5ms/step - loss: 0.0260 - acc: 0.9978 - val_loss: 0.0685 - val_acc: 0.9952\n",
      "Epoch 4/20\n",
      "466/466 [==============================] - 2s 5ms/step - loss: 0.0113 - acc: 0.9985 - val_loss: 0.0696 - val_acc: 0.9954\n",
      "Epoch 5/20\n",
      "466/466 [==============================] - 2s 5ms/step - loss: 0.0052 - acc: 0.9987 - val_loss: 0.0881 - val_acc: 0.9948\n",
      "Epoch 6/20\n",
      "466/466 [==============================] - 2s 5ms/step - loss: 0.0078 - acc: 0.9989 - val_loss: 0.1033 - val_acc: 0.9950\n",
      "Epoch 7/20\n",
      "466/466 [==============================] - 2s 5ms/step - loss: 0.0149 - acc: 0.9984 - val_loss: 0.1181 - val_acc: 0.9932\n",
      "Epoch 8/20\n",
      "466/466 [==============================] - 2s 5ms/step - loss: 0.0086 - acc: 0.9988 - val_loss: 0.1623 - val_acc: 0.9928\n",
      "Epoch 9/20\n",
      "466/466 [==============================] - 2s 5ms/step - loss: 0.0257 - acc: 0.9980 - val_loss: 0.1161 - val_acc: 0.9948\n",
      "Epoch 10/20\n",
      "466/466 [==============================] - 2s 5ms/step - loss: 0.0138 - acc: 0.9985 - val_loss: 0.1077 - val_acc: 0.9960\n",
      "Epoch 11/20\n",
      "466/466 [==============================] - 2s 5ms/step - loss: 0.0099 - acc: 0.9991 - val_loss: 0.1074 - val_acc: 0.9960\n",
      "Epoch 12/20\n",
      "466/466 [==============================] - 2s 5ms/step - loss: 0.0069 - acc: 0.9990 - val_loss: 0.0980 - val_acc: 0.9958\n",
      "Epoch 13/20\n",
      "466/466 [==============================] - 2s 5ms/step - loss: 0.0046 - acc: 0.9996 - val_loss: 0.1213 - val_acc: 0.9958\n",
      "Epoch 14/20\n",
      "466/466 [==============================] - 2s 5ms/step - loss: 0.0088 - acc: 0.9991 - val_loss: 0.2928 - val_acc: 0.9899\n",
      "Epoch 15/20\n",
      "466/466 [==============================] - 2s 5ms/step - loss: 0.0152 - acc: 0.9990 - val_loss: 0.2127 - val_acc: 0.9952\n",
      "Epoch 16/20\n",
      "466/466 [==============================] - 2s 5ms/step - loss: 0.0346 - acc: 0.9981 - val_loss: 0.1993 - val_acc: 0.9942\n",
      "Epoch 17/20\n",
      "466/466 [==============================] - 2s 5ms/step - loss: 0.0374 - acc: 0.9977 - val_loss: 0.1619 - val_acc: 0.9958\n",
      "Epoch 18/20\n",
      "466/466 [==============================] - 2s 5ms/step - loss: 0.0286 - acc: 0.9995 - val_loss: 0.1637 - val_acc: 0.9960\n",
      "Epoch 19/20\n",
      "466/466 [==============================] - 2s 5ms/step - loss: 0.0047 - acc: 0.9995 - val_loss: 0.2111 - val_acc: 0.9956\n",
      "Epoch 20/20\n",
      "466/466 [==============================] - 2s 5ms/step - loss: 0.0052 - acc: 0.9996 - val_loss: 0.2377 - val_acc: 0.9952\n"
     ]
    },
    {
     "data": {
      "text/plain": [
       "<tensorflow.python.keras.callbacks.History at 0x225838bf4c8>"
      ]
     },
     "execution_count": 20,
     "metadata": {},
     "output_type": "execute_result"
    }
   ],
   "source": [
    "model_vgg.fit(X_after_vgg,Y,epochs=20,batch_size=32,validation_split=0.25) \n",
    "# ca  2 min berechnung und bessere geneugkeit\n",
    "# validation_split"
   ]
  },
  {
   "cell_type": "code",
   "execution_count": 21,
   "metadata": {},
   "outputs": [],
   "source": [
    "model_vgg.save('model_vgg_simpson.h5')\n",
    "#model.save('model_simpson.h5')"
   ]
  },
  {
   "cell_type": "code",
   "execution_count": null,
   "metadata": {},
   "outputs": [],
   "source": []
  }
 ],
 "metadata": {
  "kernelspec": {
   "display_name": "Python 3",
   "language": "python",
   "name": "python3"
  },
  "language_info": {
   "codemirror_mode": {
    "name": "ipython",
    "version": 3
   },
   "file_extension": ".py",
   "mimetype": "text/x-python",
   "name": "python",
   "nbconvert_exporter": "python",
   "pygments_lexer": "ipython3",
   "version": "3.7.6"
  }
 },
 "nbformat": 4,
 "nbformat_minor": 4
}
